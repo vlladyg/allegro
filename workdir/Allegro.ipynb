{
 "cells": [
  {
   "cell_type": "code",
   "execution_count": 1,
   "id": "fad2821d",
   "metadata": {},
   "outputs": [],
   "source": [
    "# reference example\n",
    "from nequip.data import dataset_from_config\n",
    "from nequip.utils import Config\n",
    "#from nequip.utils.misc import get_default_device_name\n",
    "#from nequip.utils.config import _GLOBAL_ALL_ASKED_FOR_KEYS\n",
    "\n",
    "from nequip.model import model_from_config\n",
    "\n",
    "\n",
    "default_config = dict(\n",
    "    root=\"./\",\n",
    "    tensorboard=False,\n",
    "    wandb=False,\n",
    "    model_builders=[\n",
    "        \"SimpleIrrepsConfig\",\n",
    "        \"EnergyModel\",\n",
    "        \"PerSpeciesRescale\",\n",
    "        \"StressForceOutput\",\n",
    "        \"RescaleEnergyEtc\",\n",
    "    ],\n",
    "    dataset_statistics_stride=1,\n",
    "    device='cuda',\n",
    "    default_dtype=\"float64\",\n",
    "    model_dtype=\"float32\",\n",
    "    allow_tf32=True,\n",
    "    verbose=\"INFO\",\n",
    "    model_debug_mode=False,\n",
    "    equivariance_test=False,\n",
    "    grad_anomaly_mode=False,\n",
    "    gpu_oom_offload=False,\n",
    "    append=False,\n",
    "    warn_unused=False,\n",
    "    _jit_bailout_depth=2,  # avoid 20 iters of pain, see https://github.com/pytorch/pytorch/issues/52286\n",
    "    # Quote from eelison in PyTorch slack:\n",
    "    # https://pytorch.slack.com/archives/CDZD1FANA/p1644259272007529?thread_ts=1644064449.039479&cid=CDZD1FANA\n",
    "    # > Right now the default behavior is to specialize twice on static shapes and then on dynamic shapes.\n",
    "    # > To reduce warmup time you can do something like setFusionStrartegy({{FusionBehavior::DYNAMIC, 3}})\n",
    "    # > ... Although we would wouldn't really expect to recompile a dynamic shape fusion in a model,\n",
    "    # > provided broadcasting patterns remain fixed\n",
    "    # We default to DYNAMIC alone because the number of edges is always dynamic,\n",
    "    # even if the number of atoms is fixed:\n",
    "    _jit_fusion_strategy=[(\"DYNAMIC\", 3)],\n",
    "    # Due to what appear to be ongoing bugs with nvFuser, we default to NNC (fuser1) for now:\n",
    "    # TODO: still default to NNC on CPU regardless even if change this for GPU\n",
    "    # TODO: default for ROCm?\n",
    "    _jit_fuser=\"fuser1\",\n",
    ")\n",
    "\n",
    "# All default_config keys are valid / requested\n",
    "#_GLOBAL_ALL_ASKED_FOR_KEYS.update(default_config.keys())"
   ]
  },
  {
   "cell_type": "code",
   "execution_count": 2,
   "id": "9d80fac7",
   "metadata": {},
   "outputs": [
    {
     "data": {
      "text/plain": [
       "AtomicData(atom_types=[21, 1], cell=[3, 3], edge_cell_shift=[364, 3], edge_index=[2, 364], forces=[21, 3], pbc=[3], pos=[21, 3], total_energy=[1])"
      ]
     },
     "execution_count": 2,
     "metadata": {},
     "output_type": "execute_result"
    }
   ],
   "source": [
    "config = Config.from_file('./configs/example.yaml', defaults=default_config)\n",
    "    \n",
    "\n",
    "dataset = dataset_from_config(config, prefix=\"dataset\")\n",
    "\n",
    "validation_dataset = None\n",
    "\n",
    "dataset[0]"
   ]
  },
  {
   "cell_type": "code",
   "execution_count": 3,
   "id": "87c25eab",
   "metadata": {},
   "outputs": [
    {
     "name": "stderr",
     "output_type": "stream",
     "text": [
      "DEBUG:root:* Initialize Output\n",
      "  ...generate file name results/aspirin/example/log\n",
      "  ...open log file results/aspirin/example/log\n",
      "  ...generate file name results/aspirin/example/metrics_epoch.csv\n",
      "  ...open log file results/aspirin/example/metrics_epoch.csv\n",
      "  ...generate file name results/aspirin/example/metrics_initialization.csv\n",
      "  ...open log file results/aspirin/example/metrics_initialization.csv\n",
      "  ...generate file name results/aspirin/example/metrics_batch_train.csv\n",
      "  ...open log file results/aspirin/example/metrics_batch_train.csv\n",
      "  ...generate file name results/aspirin/example/metrics_batch_val.csv\n",
      "  ...open log file results/aspirin/example/metrics_batch_val.csv\n",
      "  ...generate file name results/aspirin/example/best_model.pth\n",
      "  ...generate file name results/aspirin/example/last_model.pth\n",
      "  ...generate file name results/aspirin/example/trainer.pth\n",
      "  ...generate file name results/aspirin/example/config.yaml\n",
      "Torch device: cuda\n",
      "instantiate Loss\n",
      "...Loss_param = dict(\n",
      "...   optional_args = {'coeff_schedule': 'constant'},\n",
      "...   positional_args = {'coeffs': {'forces': 1.0, 'total_energy': [1.0, 'PerAtomMSELoss']}})\n",
      "instantiate MSELoss\n",
      "...MSELoss_param = dict(\n",
      "...   optional_args = {'size_average': None, 'reduce': None},\n",
      "...   positional_args = {'reduction': 'none'})\n",
      " parsing forces 1.0\n",
      " parsing 1.0 MSELoss\n",
      "instantiate MSELoss\n",
      "...MSELoss_param = dict(\n",
      "...   optional_args = {'size_average': None, 'reduce': None},\n",
      "...   positional_args = {'reduction': 'none'})\n",
      " parsing total_energy [1.0, 'PerAtomMSELoss']\n",
      " parsing 1.0 PerAtomMSELoss\n",
      "create loss instance <class 'nequip.train._loss.PerAtomLoss'>\n",
      "instantiate MSELoss\n",
      "...MSELoss_param = dict(\n",
      "...   optional_args = {'size_average': None, 'reduce': None},\n",
      "...   positional_args = {'reduction': 'none'})\n",
      "Building Allegro model...\n",
      "instantiate OneHotAtomEncoding\n",
      "        all_args :                                           num_types\n",
      "...OneHotAtomEncoding_param = dict(\n",
      "...   optional_args = {'set_features': True, 'num_types': 3},\n",
      "...   positional_args = {'irreps_in': None})\n",
      "instantiate RadialBasisEdgeEncoding\n",
      "        all_args :                                  basis_kwargs.r_max <-                                              r_max\n",
      "        all_args :            basis_kwargs.original_basis_kwargs.r_max <-                                              r_max\n",
      "        all_args :        basis_kwargs.original_basis_kwargs.trainable <-                              BesselBasis_trainable\n",
      "        all_args :                                 cutoff_kwargs.r_max <-                                              r_max\n",
      "        all_args :                                     cutoff_kwargs.p <-                                 PolynomialCutoff_p\n",
      "   optional_args :                                               basis\n",
      "   optional_args :                                           out_field\n",
      "...RadialBasisEdgeEncoding_param = dict(\n",
      "...   optional_args = {'basis': <class 'allegro.nn._norm_basis.NormalizedBasis'>, 'cutoff': <class 'nequip.nn.cutoffs.PolynomialCutoff'>, 'basis_kwargs': {'r_min': 0.0, 'original_basis': <class 'nequip.nn.radial_basis.BesselBasis'>, 'original_basis_kwargs': {'num_basis': 8, 'trainable': True, 'r_max': 6.0}, 'n': 4000, 'norm_basis_mean_shift': True, 'r_max': 6.0}, 'cutoff_kwargs': {'p': 6, 'r_max': 6.0}, 'out_field': 'edge_embedding'},\n",
      "...   positional_args = {'irreps_in': {'pos': 1x1o, 'edge_index': None, 'node_attrs': 3x0e, 'node_features': 3x0e}})\n",
      "instantiate SphericalHarmonicEdgeAttrs\n",
      "        all_args :                                      irreps_edge_sh\n",
      "...SphericalHarmonicEdgeAttrs_param = dict(\n",
      "...   optional_args = {'edge_sh_normalization': 'component', 'edge_sh_normalize': True, 'out_field': 'edge_attrs', 'irreps_edge_sh': '1x0e+1x1o+1x2e'},\n",
      "...   positional_args = {'irreps_in': {'pos': 1x1o, 'edge_index': None, 'node_attrs': 3x0e, 'node_features': 3x0e, 'edge_embedding': 8x0e, 'edge_cutoff': 1x0e}})\n",
      "instantiate Allegro_Module\n",
      "        all_args :                                               r_max\n",
      "        all_args :                                  PolynomialCutoff_p\n",
      "        all_args :                                          num_layers\n",
      "        all_args :                                       latent_resnet\n",
      "        all_args :                                           num_types\n",
      "        all_args :                              env_embed_multiplicity\n",
      "        all_args :                                   avg_num_neighbors\n",
      "        all_args :                                  embed_initial_edge\n",
      "        all_args :                           nonscalars_include_parity\n",
      "        all_args :        two_body_latent_kwargs.mlp_latent_dimensions <-              two_body_latent_mlp_latent_dimensions\n",
      "        all_args :             two_body_latent_kwargs.mlp_nonlinearity <-                   two_body_latent_mlp_nonlinearity\n",
      "        all_args :           two_body_latent_kwargs.mlp_initialization <-                 two_body_latent_mlp_initialization\n",
      "        all_args :              env_embed_kwargs.mlp_latent_dimensions <-                    env_embed_mlp_latent_dimensions\n",
      "        all_args :                   env_embed_kwargs.mlp_nonlinearity <-                         env_embed_mlp_nonlinearity\n",
      "        all_args :                 env_embed_kwargs.mlp_initialization <-                       env_embed_mlp_initialization\n",
      "        all_args :                 latent_kwargs.mlp_latent_dimensions <-                       latent_mlp_latent_dimensions\n",
      "        all_args :                      latent_kwargs.mlp_nonlinearity <-                            latent_mlp_nonlinearity\n",
      "        all_args :                    latent_kwargs.mlp_initialization <-                          latent_mlp_initialization\n",
      "   optional_args :                                               field\n",
      "   optional_args :                                edge_invariant_field\n",
      "   optional_args :                                node_invariant_field\n",
      "...Allegro_Module_param = dict(\n",
      "...   optional_args = {'avg_num_neighbors': 17.211328506469727, 'r_start_cos_ratio': 0.8, 'PolynomialCutoff_p': 6, 'per_layer_cutoffs': None, 'cutoff_type': 'polynomial', 'field': 'edge_attrs', 'edge_invariant_field': 'edge_embedding', 'node_invariant_field': 'node_attrs', 'env_embed_multiplicity': 64, 'embed_initial_edge': True, 'linear_after_env_embed': False, 'nonscalars_include_parity': True, 'two_body_latent': <class 'allegro.nn._fc.ScalarMLPFunction'>, 'two_body_latent_kwargs': {'mlp_nonlinearity': 'silu', 'mlp_initialization': 'uniform', 'mlp_dropout_p': 0.0, 'mlp_batchnorm': False, 'mlp_latent_dimensions': [128, 256, 512, 1024]}, 'env_embed': <class 'allegro.nn._fc.ScalarMLPFunction'>, 'env_embed_kwargs': {'mlp_nonlinearity': None, 'mlp_initialization': 'uniform', 'mlp_dropout_p': 0.0, 'mlp_batchnorm': False, 'mlp_latent_dimensions': []}, 'latent': <class 'allegro.nn._fc.ScalarMLPFunction'>, 'latent_kwargs': {'mlp_nonlinearity': 'silu', 'mlp_initialization': 'uniform', 'mlp_dropout_p': 0.0, 'mlp_batchnorm': False, 'mlp_latent_dimensions': [1024, 1024, 1024]}, 'latent_resnet': True, 'latent_resnet_update_ratios': None, 'latent_resnet_update_ratios_learnable': False, 'latent_out_field': 'edge_features', 'pad_to_alignment': 1, 'sparse_mode': None, 'r_max': 6.0, 'num_layers': 2, 'num_types': 3},\n",
      "...   positional_args = {'irreps_in': {'pos': 1x1o, 'edge_index': None, 'node_attrs': 3x0e, 'node_features': 3x0e, 'edge_embedding': 8x0e, 'edge_cutoff': 1x0e, 'edge_attrs': 1x0e+1x1o+1x2e}})\n",
      "/Users/temporary/Documents/GitHub/pytorch-intel-mps/torch/jit/_check.py:172: UserWarning: The TorchScript type system doesn't support instance-level annotations on empty non-base types in `__init__`. Instead, either 1) use a type annotation in the class body, or 2) wrap the type in `torch.jit.Attribute`.\n",
      "  warnings.warn(\"The TorchScript type system doesn't support \"\n",
      "instantiate ScalarMLP\n",
      "        all_args :                               mlp_latent_dimensions <-                     edge_eng_mlp_latent_dimensions\n",
      "        all_args :                                    mlp_nonlinearity <-                          edge_eng_mlp_nonlinearity\n",
      "        all_args :                                  mlp_initialization <-                        edge_eng_mlp_initialization\n"
     ]
    },
    {
     "name": "stderr",
     "output_type": "stream",
     "text": [
      "   optional_args :                                               field\n",
      "   optional_args :                                           out_field\n",
      "   optional_args :                                mlp_output_dimension\n",
      "...ScalarMLP_param = dict(\n",
      "...   optional_args = {'mlp_nonlinearity': None, 'mlp_initialization': 'uniform', 'mlp_dropout_p': 0.0, 'mlp_batchnorm': False, 'field': 'edge_features', 'out_field': 'edge_energy', 'mlp_latent_dimensions': [128], 'mlp_output_dimension': 1},\n",
      "...   positional_args = {'irreps_in': {'pos': 1x1o, 'edge_index': None, 'node_attrs': 3x0e, 'node_features': 3x0e, 'edge_embedding': 8x0e, 'edge_cutoff': 1x0e, 'edge_attrs': 1x0e+1x1o+1x2e, 'edge_features': 1024x0e}})\n",
      "instantiate ScalarMLP\n",
      "   optional_args :                               mlp_latent_dimensions\n",
      "   optional_args :                                               field\n",
      "   optional_args :                                           out_field\n",
      "   optional_args :                                mlp_output_dimension\n",
      "...ScalarMLP_param = dict(\n",
      "...   optional_args = {'mlp_nonlinearity': 'silu', 'mlp_initialization': 'uniform', 'mlp_dropout_p': 0.0, 'mlp_batchnorm': False, 'field': 'edge_features', 'out_field': 'edge_spin', 'mlp_latent_dimensions': [], 'mlp_output_dimension': 1},\n",
      "...   positional_args = {'irreps_in': {'pos': 1x1o, 'edge_index': None, 'node_attrs': 3x0e, 'node_features': 3x0e, 'edge_embedding': 8x0e, 'edge_cutoff': 1x0e, 'edge_attrs': 1x0e+1x1o+1x2e, 'edge_features': 1024x0e, 'edge_energy': 1x0e}})\n",
      "instantiate ScalarMLP\n",
      "   optional_args :                               mlp_latent_dimensions\n",
      "   optional_args :                                               field\n",
      "   optional_args :                                           out_field\n",
      "   optional_args :                                mlp_output_dimension\n",
      "...ScalarMLP_param = dict(\n",
      "...   optional_args = {'mlp_nonlinearity': 'silu', 'mlp_initialization': 'uniform', 'mlp_dropout_p': 0.0, 'mlp_batchnorm': False, 'field': 'edge_features', 'out_field': 'edge_J', 'mlp_latent_dimensions': [], 'mlp_output_dimension': 1},\n",
      "...   positional_args = {'irreps_in': {'pos': 1x1o, 'edge_index': None, 'node_attrs': 3x0e, 'node_features': 3x0e, 'edge_embedding': 8x0e, 'edge_cutoff': 1x0e, 'edge_attrs': 1x0e+1x1o+1x2e, 'edge_features': 1024x0e, 'edge_energy': 1x0e, 'edge_spin': 1x0e}})\n",
      "instantiate EdgewiseEnergySum\n",
      "        all_args :                                           num_types\n",
      "        all_args :                                   avg_num_neighbors\n",
      "...EdgewiseEnergySum_param = dict(\n",
      "...   optional_args = {'avg_num_neighbors': 17.211328506469727, 'normalize_edge_energy_sum': True, 'per_edge_species_scale': False, 'num_types': 3},\n",
      "...   positional_args = {'irreps_in': {'pos': 1x1o, 'edge_index': None, 'node_attrs': 3x0e, 'node_features': 3x0e, 'edge_embedding': 8x0e, 'edge_cutoff': 1x0e, 'edge_attrs': 1x0e+1x1o+1x2e, 'edge_features': 1024x0e, 'edge_energy': 1x0e, 'edge_spin': 1x0e, 'edge_J': 1x0e}})\n",
      "instantiate EdgewiseSpinSum\n",
      "        all_args :                                           num_types\n",
      "        all_args :                                   avg_num_neighbors\n",
      "...EdgewiseSpinSum_param = dict(\n",
      "...   optional_args = {'avg_num_neighbors': 17.211328506469727, 'normalize_edge_spin_sum': True, 'per_edge_species_scale': False, 'num_types': 3},\n",
      "...   positional_args = {'irreps_in': {'pos': 1x1o, 'edge_index': None, 'node_attrs': 3x0e, 'node_features': 3x0e, 'edge_embedding': 8x0e, 'edge_cutoff': 1x0e, 'edge_attrs': 1x0e+1x1o+1x2e, 'edge_features': 1024x0e, 'edge_energy': 1x0e, 'edge_spin': 1x0e, 'edge_J': 1x0e, 'atomic_energy': 1x0e}})\n",
      "instantiate AtomwiseReduce\n",
      "   optional_args :                                              reduce\n",
      "   optional_args :                                               field\n",
      "   optional_args :                                           out_field\n",
      "...AtomwiseReduce_param = dict(\n",
      "...   optional_args = {'out_field': 'total_energy', 'reduce': 'sum', 'avg_num_atoms': None, 'field': 'atomic_energy'},\n",
      "...   positional_args = {'irreps_in': {'pos': 1x1o, 'edge_index': None, 'node_attrs': 3x0e, 'node_features': 3x0e, 'edge_embedding': 8x0e, 'edge_cutoff': 1x0e, 'edge_attrs': 1x0e+1x1o+1x2e, 'edge_features': 1024x0e, 'edge_energy': 1x0e, 'edge_spin': 1x0e, 'edge_J': 1x0e, 'atomic_energy': 1x0e, 'atomic_spin': 1x0e}})\n",
      "Replace string dataset_forces_rms to 31.252248764038086\n",
      "Replace string dataset_per_atom_total_energy_mean to -19318.35546875\n",
      "Atomic outputs are scaled by: [H, C, O: 31.252249], shifted by [H, C, O: -19318.355469].\n",
      "instantiate PerSpeciesScaleShift\n",
      "        all_args :                                          type_names\n",
      "        all_args :                                           num_types\n",
      "        all_args :                                       default_dtype\n",
      "   optional_args :                                               field\n",
      "   optional_args :                                              scales\n",
      "   optional_args :                          arguments_in_dataset_units\n",
      "   optional_args :                                           out_field\n",
      "   optional_args :                                              shifts\n",
      "...PerSpeciesScaleShift_param = dict(\n",
      "...   optional_args = {'out_field': 'atomic_energy', 'scales_trainable': False, 'shifts_trainable': False, 'default_dtype': 'float32', 'num_types': 3, 'type_names': ['H', 'C', 'O'], 'field': 'atomic_energy', 'shifts': tensor(-19318.3555), 'scales': tensor(31.2522), 'arguments_in_dataset_units': True},\n",
      "...   positional_args = {'irreps_in': {'pos': 1x1o, 'edge_index': None, 'node_attrs': 3x0e, 'node_features': 3x0e, 'edge_embedding': 8x0e, 'edge_cutoff': 1x0e, 'edge_attrs': 1x0e+1x1o+1x2e, 'edge_features': 1024x0e, 'edge_energy': 1x0e, 'edge_spin': 1x0e, 'edge_J': 1x0e, 'atomic_energy': 1x0e, 'atomic_spin': 1x0e}})\n",
      "Replace string dataset_forces_rms to 31.252248764038086\n",
      "Initially outputs are globally scaled by: 31.252248764038086, total_energy are globally shifted by None.\n",
      "PerSpeciesScaleShift's arguments were in dataset units; rescaling:\n",
      "  Original scales: [H: 31.252249, C: 31.252249, O: 31.252249] shifts: [H: -19318.355469, C: -19318.355469, O: -19318.355469]\n",
      "  New scales: [H: 1.000000, C: 1.000000, O: 1.000000] shifts: [H: -618.142883, C: -618.142883, O: -618.142883]\n"
     ]
    }
   ],
   "source": [
    "# Trainer\n",
    "from nequip.train.trainer import Trainer\n",
    "\n",
    "trainer = Trainer(model=None, **Config.as_dict(config))\n",
    "\n",
    "# what is this\n",
    "# to update wandb data?\n",
    "config.update(trainer.params)\n",
    "\n",
    "# = Train/test split =\n",
    "trainer.set_dataset(dataset, validation_dataset)\n",
    "\n",
    "# = Build model =\n",
    "final_model = model_from_config(\n",
    "    config=config, initialize=True, dataset=trainer.dataset_train\n",
    ")"
   ]
  },
  {
   "cell_type": "code",
   "execution_count": 4,
   "id": "cc85d39e",
   "metadata": {},
   "outputs": [],
   "source": [
    "import torch\n",
    "from torch.nn.functional import one_hot\n",
    "from nequip.data import AtomicData, AtomicDataDict\n",
    "from torch.nn.functional import one_hot\n",
    "from e3nn.nn import FullyConnectedNet\n",
    "from allegro import with_edge_spin_length\n",
    "    \n",
    "from torch import nn\n",
    "import math\n",
    "\n",
    "data0 = AtomicData.to_AtomicDataDict(dataset[0])\n",
    "data0['node_spin'] = torch.randn_like(data0['pos'])\n",
    "\n",
    "data1 = with_edge_spin_length(data0, with_distance = True)"
   ]
  },
  {
   "cell_type": "code",
   "execution_count": 5,
   "id": "9b553908",
   "metadata": {},
   "outputs": [
    {
     "data": {
      "text/plain": [
       "torch.Size([21])"
      ]
     },
     "execution_count": 5,
     "metadata": {},
     "output_type": "execute_result"
    }
   ],
   "source": [
    "data1['node_spin_length'].shape"
   ]
  },
  {
   "cell_type": "code",
   "execution_count": 6,
   "id": "8ea3507b",
   "metadata": {},
   "outputs": [],
   "source": [
    "trainer.model = final_model"
   ]
  },
  {
   "cell_type": "code",
   "execution_count": 7,
   "id": "b770a1a1-4f3b-4b96-9613-abecc3ae4664",
   "metadata": {},
   "outputs": [],
   "source": [
    "import torch\n",
    "from torch.nn.functional import one_hot\n",
    "from nequip.data import AtomicData, AtomicDataDict\n",
    "from torch.nn.functional import one_hot\n",
    "from e3nn.nn import FullyConnectedNet\n",
    "    \n",
    "from torch import nn\n",
    "import math\n",
    "\n",
    "data_new = final_model(AtomicData.to_AtomicDataDict(dataset[0]))"
   ]
  },
  {
   "cell_type": "code",
   "execution_count": 8,
   "id": "f3498836",
   "metadata": {},
   "outputs": [
    {
     "data": {
      "text/plain": [
       "torch.Size([364, 1])"
      ]
     },
     "execution_count": 8,
     "metadata": {},
     "output_type": "execute_result"
    }
   ],
   "source": [
    "data_new['edge_J'].shape"
   ]
  },
  {
   "cell_type": "code",
   "execution_count": 8,
   "id": "bbcc77f8",
   "metadata": {},
   "outputs": [
    {
     "data": {
      "text/plain": [
       "[10]"
      ]
     },
     "execution_count": 8,
     "metadata": {},
     "output_type": "execute_result"
    }
   ],
   "source": [
    "[10] + []"
   ]
  },
  {
   "cell_type": "code",
   "execution_count": 6,
   "id": "6cce5ea4-01a4-4b6c-93db-5fb67d033c85",
   "metadata": {
    "scrolled": true
   },
   "outputs": [
    {
     "data": {
      "text/plain": [
       "torch.Size([364, 1])"
      ]
     },
     "execution_count": 6,
     "metadata": {},
     "output_type": "execute_result"
    }
   ],
   "source": [
    "data_new['edge_spin'].shape"
   ]
  },
  {
   "cell_type": "code",
   "execution_count": 8,
   "id": "d3570a9b",
   "metadata": {},
   "outputs": [
    {
     "data": {
      "text/plain": [
       "torch.Size([21, 1])"
      ]
     },
     "execution_count": 8,
     "metadata": {},
     "output_type": "execute_result"
    }
   ],
   "source": [
    "data_new['atomic_spin'].shape"
   ]
  },
  {
   "cell_type": "code",
   "execution_count": 11,
   "id": "adcee4d9",
   "metadata": {},
   "outputs": [
    {
     "data": {
      "text/plain": [
       "torch.Size([21, 1])"
      ]
     },
     "execution_count": 11,
     "metadata": {},
     "output_type": "execute_result"
    }
   ],
   "source": [
    "data_new['atomic_energy'].shape"
   ]
  },
  {
   "cell_type": "code",
   "execution_count": 8,
   "id": "9e90a214-7e5a-4e20-b143-7626462fa19c",
   "metadata": {},
   "outputs": [
    {
     "data": {
      "text/plain": [
       "torch.Size([364, 1024])"
      ]
     },
     "execution_count": 8,
     "metadata": {},
     "output_type": "execute_result"
    }
   ],
   "source": [
    "data_new['edge_features'].shape"
   ]
  },
  {
   "cell_type": "code",
   "execution_count": 9,
   "id": "44252c37-418f-414f-b9d1-3d882160dd94",
   "metadata": {},
   "outputs": [
    {
     "data": {
      "text/plain": [
       "torch.Size([364, 3])"
      ]
     },
     "execution_count": 9,
     "metadata": {},
     "output_type": "execute_result"
    }
   ],
   "source": [
    "data_new['edge_vectors'].shape"
   ]
  },
  {
   "cell_type": "code",
   "execution_count": 5,
   "id": "e61479ea",
   "metadata": {},
   "outputs": [
    {
     "name": "stderr",
     "output_type": "stream",
     "text": [
      "Number of weights: 8152968\n",
      "Number of trainable weights: 8152968\n",
      "instantiate Adam\n",
      "...Adam_param = dict(\n",
      "...   optional_args = {'betas': (0.9, 0.999), 'eps': 1e-08, 'weight_decay': 0, 'amsgrad': False, 'foreach': None, 'maximize': False, 'capturable': False, 'differentiable': False, 'fused': None},\n",
      "...   positional_args = {'params': <generator object Module.parameters at 0x7b01698af6d0>, 'lr': 0.001})\n",
      "instantiate ReduceLROnPlateau\n",
      "        all_args :                                              factor <-                                lr_scheduler_factor\n",
      "        all_args :                                            patience <-                              lr_scheduler_patience\n",
      "...ReduceLROnPlateau_param = dict(\n",
      "...   optional_args = {'mode': 'min', 'factor': 0.5, 'patience': 50, 'threshold': 0.0001, 'threshold_mode': 'rel', 'cooldown': 0, 'min_lr': 0, 'eps': 1e-08, 'verbose': 'deprecated'},\n",
      "...   positional_args = {'optimizer': Adam (\n",
      "Parameter Group 0\n",
      "    amsgrad: False\n",
      "    betas: (0.9, 0.999)\n",
      "    capturable: False\n",
      "    differentiable: False\n",
      "    eps: 1e-08\n",
      "    foreach: None\n",
      "    fused: None\n",
      "    lr: 0.001\n",
      "    maximize: False\n",
      "    weight_decay: 0\n",
      ")})\n",
      "get args for EarlyStopping\n",
      "        all_args :                                        upper_bounds <-                        early_stopping_upper_bounds\n",
      "        all_args :                                           patiences <-                           early_stopping_patiences\n",
      "        all_args :                                        lower_bounds <-                        early_stopping_lower_bounds\n",
      "...EarlyStopping_param = dict(\n",
      "...   optional_args = {'lower_bounds': {'LR': 1e-05}, 'upper_bounds': {'cumulative_wall': 604800.0}, 'patiences': {'validation_loss': 100}, 'delta': {}, 'cumulative_delta': False},\n",
      "...   positional_args = {})\n",
      "! Starting training ...\n",
      "Saved trainer to results/aspirin/example/trainer.pth\n",
      "Saved last model to to results/aspirin/example/last_model.pth\n",
      "instantiate Metrics\n",
      "...Metrics_param = dict(\n",
      "...   optional_args = {},\n",
      "...   positional_args = {'components': [('forces', 'mae', {'PerSpecies': False}), ('forces', 'rmse', {'PerSpecies': False}), ('total_energy', 'mae', {'PerSpecies': False}), ('total_energy', 'rmse', {'PerSpecies': False})]})\n",
      "instantiate L1Loss\n",
      "...L1Loss_param = dict(\n",
      "...   optional_args = {'size_average': None, 'reduce': None},\n",
      "...   positional_args = {'reduction': 'none'})\n",
      "instantiate L1Loss\n",
      "...L1Loss_param = dict(\n",
      "...   optional_args = {'size_average': None, 'reduce': None},\n",
      "...   positional_args = {'reduction': 'none'})\n",
      "instantiate L1Loss\n",
      "...L1Loss_param = dict(\n",
      "...   optional_args = {'size_average': None, 'reduce': None},\n",
      "...   positional_args = {'reduction': 'none'})\n",
      "instantiate L1Loss\n",
      "...L1Loss_param = dict(\n",
      "...   optional_args = {'size_average': None, 'reduce': None},\n",
      "...   positional_args = {'reduction': 'none'})\n",
      "\n",
      "validation\n",
      "# Epoch batch         loss       loss_f       loss_e        f_mae       f_rmse        e_mae       e_rmse\n",
      "      0    10         1.88          1.5        0.383         27.8         38.2          406          406\n",
      "\n",
      "\n",
      "  Initialization     #    Epoch      wal       LR       loss_f       loss_e         loss        f_mae       f_rmse        e_mae       e_rmse\n",
      "! Initial Validation          0    5.638    0.001         1.47        0.379         1.84         28.5         37.8          404          404\n",
      "Wall time: 5.6391065130000015\n",
      "! Best model        0    1.845\n",
      "Saved trainer to results/aspirin/example/trainer.pth\n",
      "Saved last model to to results/aspirin/example/last_model.pth\n",
      "\n",
      "training\n",
      "# Epoch batch         loss       loss_f       loss_e        f_mae       f_rmse        e_mae       e_rmse\n"
     ]
    },
    {
     "ename": "KeyboardInterrupt",
     "evalue": "",
     "output_type": "error",
     "traceback": [
      "\u001b[0;31m---------------------------------------------------------------------------\u001b[0m",
      "\u001b[0;31mKeyboardInterrupt\u001b[0m                         Traceback (most recent call last)",
      "Cell \u001b[0;32mIn[5], line 1\u001b[0m\n\u001b[0;32m----> 1\u001b[0m \u001b[43mtrainer\u001b[49m\u001b[38;5;241;43m.\u001b[39;49m\u001b[43mtrain\u001b[49m\u001b[43m(\u001b[49m\u001b[43m)\u001b[49m\n",
      "File \u001b[0;32m~/anaconda3/envs/torch_gcnn/lib/python3.9/site-packages/nequip/train/trainer.py:784\u001b[0m, in \u001b[0;36mTrainer.train\u001b[0;34m(self)\u001b[0m\n\u001b[1;32m    780\u001b[0m     \u001b[38;5;28mself\u001b[39m\u001b[38;5;241m.\u001b[39m_post_init_callback()\n\u001b[1;32m    782\u001b[0m \u001b[38;5;28;01mwhile\u001b[39;00m \u001b[38;5;129;01mnot\u001b[39;00m \u001b[38;5;28mself\u001b[39m\u001b[38;5;241m.\u001b[39mstop_cond:\n\u001b[0;32m--> 784\u001b[0m     \u001b[38;5;28;43mself\u001b[39;49m\u001b[38;5;241;43m.\u001b[39;49m\u001b[43mepoch_step\u001b[49m\u001b[43m(\u001b[49m\u001b[43m)\u001b[49m\n\u001b[1;32m    785\u001b[0m     \u001b[38;5;28mself\u001b[39m\u001b[38;5;241m.\u001b[39mend_of_epoch_save()\n\u001b[1;32m    787\u001b[0m \u001b[38;5;28;01mfor\u001b[39;00m callback \u001b[38;5;129;01min\u001b[39;00m \u001b[38;5;28mself\u001b[39m\u001b[38;5;241m.\u001b[39m_final_callbacks:\n",
      "File \u001b[0;32m~/anaconda3/envs/torch_gcnn/lib/python3.9/site-packages/nequip/train/trainer.py:919\u001b[0m, in \u001b[0;36mTrainer.epoch_step\u001b[0;34m(self)\u001b[0m\n\u001b[1;32m    917\u001b[0m \u001b[38;5;28mself\u001b[39m\u001b[38;5;241m.\u001b[39mn_batches \u001b[38;5;241m=\u001b[39m \u001b[38;5;28mlen\u001b[39m(dataset)\n\u001b[1;32m    918\u001b[0m \u001b[38;5;28;01mfor\u001b[39;00m \u001b[38;5;28mself\u001b[39m\u001b[38;5;241m.\u001b[39mibatch, batch \u001b[38;5;129;01min\u001b[39;00m \u001b[38;5;28menumerate\u001b[39m(dataset):\n\u001b[0;32m--> 919\u001b[0m     \u001b[38;5;28;43mself\u001b[39;49m\u001b[38;5;241;43m.\u001b[39;49m\u001b[43mbatch_step\u001b[49m\u001b[43m(\u001b[49m\n\u001b[1;32m    920\u001b[0m \u001b[43m        \u001b[49m\u001b[43mdata\u001b[49m\u001b[38;5;241;43m=\u001b[39;49m\u001b[43mbatch\u001b[49m\u001b[43m,\u001b[49m\n\u001b[1;32m    921\u001b[0m \u001b[43m        \u001b[49m\u001b[43mvalidation\u001b[49m\u001b[38;5;241;43m=\u001b[39;49m\u001b[43m(\u001b[49m\u001b[43mcategory\u001b[49m\u001b[43m \u001b[49m\u001b[38;5;241;43m==\u001b[39;49m\u001b[43m \u001b[49m\u001b[43mVALIDATION\u001b[49m\u001b[43m)\u001b[49m\u001b[43m,\u001b[49m\n\u001b[1;32m    922\u001b[0m \u001b[43m    \u001b[49m\u001b[43m)\u001b[49m\n\u001b[1;32m    923\u001b[0m     \u001b[38;5;28mself\u001b[39m\u001b[38;5;241m.\u001b[39mend_of_batch_log(batch_type\u001b[38;5;241m=\u001b[39mcategory)\n\u001b[1;32m    924\u001b[0m     \u001b[38;5;28;01mfor\u001b[39;00m callback \u001b[38;5;129;01min\u001b[39;00m \u001b[38;5;28mself\u001b[39m\u001b[38;5;241m.\u001b[39m_end_of_batch_callbacks:\n",
      "File \u001b[0;32m~/anaconda3/envs/torch_gcnn/lib/python3.9/site-packages/nequip/train/trainer.py:826\u001b[0m, in \u001b[0;36mTrainer.batch_step\u001b[0;34m(self, data, validation)\u001b[0m\n\u001b[1;32m    824\u001b[0m \u001b[38;5;66;03m# see https://pytorch.org/tutorials/recipes/recipes/tuning_guide.html#use-parameter-grad-none-instead-of-model-zero-grad-or-optimizer-zero-grad\u001b[39;00m\n\u001b[1;32m    825\u001b[0m \u001b[38;5;28mself\u001b[39m\u001b[38;5;241m.\u001b[39moptim\u001b[38;5;241m.\u001b[39mzero_grad(set_to_none\u001b[38;5;241m=\u001b[39m\u001b[38;5;28;01mTrue\u001b[39;00m)\n\u001b[0;32m--> 826\u001b[0m \u001b[43mloss\u001b[49m\u001b[38;5;241;43m.\u001b[39;49m\u001b[43mbackward\u001b[49m\u001b[43m(\u001b[49m\u001b[43m)\u001b[49m\n\u001b[1;32m    828\u001b[0m \u001b[38;5;66;03m# See https://stackoverflow.com/a/56069467\u001b[39;00m\n\u001b[1;32m    829\u001b[0m \u001b[38;5;66;03m# Has to happen after .backward() so there are grads to clip\u001b[39;00m\n\u001b[1;32m    830\u001b[0m \u001b[38;5;28;01mif\u001b[39;00m \u001b[38;5;28mself\u001b[39m\u001b[38;5;241m.\u001b[39mmax_gradient_norm \u001b[38;5;241m<\u001b[39m \u001b[38;5;28mfloat\u001b[39m(\u001b[38;5;124m\"\u001b[39m\u001b[38;5;124minf\u001b[39m\u001b[38;5;124m\"\u001b[39m):\n",
      "File \u001b[0;32m~/anaconda3/envs/torch_gcnn/lib/python3.9/site-packages/torch/_tensor.py:521\u001b[0m, in \u001b[0;36mTensor.backward\u001b[0;34m(self, gradient, retain_graph, create_graph, inputs)\u001b[0m\n\u001b[1;32m    511\u001b[0m \u001b[38;5;28;01mif\u001b[39;00m has_torch_function_unary(\u001b[38;5;28mself\u001b[39m):\n\u001b[1;32m    512\u001b[0m     \u001b[38;5;28;01mreturn\u001b[39;00m handle_torch_function(\n\u001b[1;32m    513\u001b[0m         Tensor\u001b[38;5;241m.\u001b[39mbackward,\n\u001b[1;32m    514\u001b[0m         (\u001b[38;5;28mself\u001b[39m,),\n\u001b[0;32m   (...)\u001b[0m\n\u001b[1;32m    519\u001b[0m         inputs\u001b[38;5;241m=\u001b[39minputs,\n\u001b[1;32m    520\u001b[0m     )\n\u001b[0;32m--> 521\u001b[0m \u001b[43mtorch\u001b[49m\u001b[38;5;241;43m.\u001b[39;49m\u001b[43mautograd\u001b[49m\u001b[38;5;241;43m.\u001b[39;49m\u001b[43mbackward\u001b[49m\u001b[43m(\u001b[49m\n\u001b[1;32m    522\u001b[0m \u001b[43m    \u001b[49m\u001b[38;5;28;43mself\u001b[39;49m\u001b[43m,\u001b[49m\u001b[43m \u001b[49m\u001b[43mgradient\u001b[49m\u001b[43m,\u001b[49m\u001b[43m \u001b[49m\u001b[43mretain_graph\u001b[49m\u001b[43m,\u001b[49m\u001b[43m \u001b[49m\u001b[43mcreate_graph\u001b[49m\u001b[43m,\u001b[49m\u001b[43m \u001b[49m\u001b[43minputs\u001b[49m\u001b[38;5;241;43m=\u001b[39;49m\u001b[43minputs\u001b[49m\n\u001b[1;32m    523\u001b[0m \u001b[43m\u001b[49m\u001b[43m)\u001b[49m\n",
      "File \u001b[0;32m~/anaconda3/envs/torch_gcnn/lib/python3.9/site-packages/torch/autograd/__init__.py:289\u001b[0m, in \u001b[0;36mbackward\u001b[0;34m(tensors, grad_tensors, retain_graph, create_graph, grad_variables, inputs)\u001b[0m\n\u001b[1;32m    284\u001b[0m     retain_graph \u001b[38;5;241m=\u001b[39m create_graph\n\u001b[1;32m    286\u001b[0m \u001b[38;5;66;03m# The reason we repeat the same comment below is that\u001b[39;00m\n\u001b[1;32m    287\u001b[0m \u001b[38;5;66;03m# some Python versions print out the first line of a multi-line function\u001b[39;00m\n\u001b[1;32m    288\u001b[0m \u001b[38;5;66;03m# calls in the traceback and some print out the last line\u001b[39;00m\n\u001b[0;32m--> 289\u001b[0m \u001b[43m_engine_run_backward\u001b[49m\u001b[43m(\u001b[49m\n\u001b[1;32m    290\u001b[0m \u001b[43m    \u001b[49m\u001b[43mtensors\u001b[49m\u001b[43m,\u001b[49m\n\u001b[1;32m    291\u001b[0m \u001b[43m    \u001b[49m\u001b[43mgrad_tensors_\u001b[49m\u001b[43m,\u001b[49m\n\u001b[1;32m    292\u001b[0m \u001b[43m    \u001b[49m\u001b[43mretain_graph\u001b[49m\u001b[43m,\u001b[49m\n\u001b[1;32m    293\u001b[0m \u001b[43m    \u001b[49m\u001b[43mcreate_graph\u001b[49m\u001b[43m,\u001b[49m\n\u001b[1;32m    294\u001b[0m \u001b[43m    \u001b[49m\u001b[43minputs\u001b[49m\u001b[43m,\u001b[49m\n\u001b[1;32m    295\u001b[0m \u001b[43m    \u001b[49m\u001b[43mallow_unreachable\u001b[49m\u001b[38;5;241;43m=\u001b[39;49m\u001b[38;5;28;43;01mTrue\u001b[39;49;00m\u001b[43m,\u001b[49m\n\u001b[1;32m    296\u001b[0m \u001b[43m    \u001b[49m\u001b[43maccumulate_grad\u001b[49m\u001b[38;5;241;43m=\u001b[39;49m\u001b[38;5;28;43;01mTrue\u001b[39;49;00m\u001b[43m,\u001b[49m\n\u001b[1;32m    297\u001b[0m \u001b[43m\u001b[49m\u001b[43m)\u001b[49m\n",
      "File \u001b[0;32m~/anaconda3/envs/torch_gcnn/lib/python3.9/site-packages/torch/autograd/graph.py:768\u001b[0m, in \u001b[0;36m_engine_run_backward\u001b[0;34m(t_outputs, *args, **kwargs)\u001b[0m\n\u001b[1;32m    766\u001b[0m     unregister_hooks \u001b[38;5;241m=\u001b[39m _register_logging_hooks_on_whole_graph(t_outputs)\n\u001b[1;32m    767\u001b[0m \u001b[38;5;28;01mtry\u001b[39;00m:\n\u001b[0;32m--> 768\u001b[0m     \u001b[38;5;28;01mreturn\u001b[39;00m \u001b[43mVariable\u001b[49m\u001b[38;5;241;43m.\u001b[39;49m\u001b[43m_execution_engine\u001b[49m\u001b[38;5;241;43m.\u001b[39;49m\u001b[43mrun_backward\u001b[49m\u001b[43m(\u001b[49m\u001b[43m  \u001b[49m\u001b[38;5;66;43;03m# Calls into the C++ engine to run the backward pass\u001b[39;49;00m\n\u001b[1;32m    769\u001b[0m \u001b[43m        \u001b[49m\u001b[43mt_outputs\u001b[49m\u001b[43m,\u001b[49m\u001b[43m \u001b[49m\u001b[38;5;241;43m*\u001b[39;49m\u001b[43margs\u001b[49m\u001b[43m,\u001b[49m\u001b[43m \u001b[49m\u001b[38;5;241;43m*\u001b[39;49m\u001b[38;5;241;43m*\u001b[39;49m\u001b[43mkwargs\u001b[49m\n\u001b[1;32m    770\u001b[0m \u001b[43m    \u001b[49m\u001b[43m)\u001b[49m  \u001b[38;5;66;03m# Calls into the C++ engine to run the backward pass\u001b[39;00m\n\u001b[1;32m    771\u001b[0m \u001b[38;5;28;01mfinally\u001b[39;00m:\n\u001b[1;32m    772\u001b[0m     \u001b[38;5;28;01mif\u001b[39;00m attach_logging_hooks:\n",
      "\u001b[0;31mKeyboardInterrupt\u001b[0m: "
     ]
    }
   ],
   "source": [
    "trainer.train()"
   ]
  },
  {
   "cell_type": "code",
   "execution_count": 6,
   "id": "11a4fb7d",
   "metadata": {},
   "outputs": [],
   "source": [
    "from e3nn import o3\n",
    "\n",
    "l_max = 2\n",
    "\n",
    "irreps_edge_sh = repr(\n",
    "            o3.Irreps.spherical_harmonics(\n",
    "                l_max, p=(-1)\n",
    "            )\n",
    "        )"
   ]
  },
  {
   "cell_type": "code",
   "execution_count": 7,
   "id": "f4bb8134",
   "metadata": {},
   "outputs": [
    {
     "data": {
      "text/plain": [
       "'1x0e+1x1o+1x2e'"
      ]
     },
     "execution_count": 7,
     "metadata": {},
     "output_type": "execute_result"
    }
   ],
   "source": [
    "irreps_edge_sh"
   ]
  },
  {
   "cell_type": "code",
   "execution_count": 8,
   "id": "96a9dbd4",
   "metadata": {},
   "outputs": [],
   "source": [
    "import torch\n",
    "from torch.nn.functional import one_hot\n",
    "from nequip.data import AtomicData, AtomicDataDict\n",
    "from torch.nn.functional import one_hot\n",
    "from e3nn.nn import FullyConnectedNet\n",
    "    \n",
    "from torch import nn\n",
    "import math\n",
    "\n",
    "\n",
    "data = AtomicData.to_AtomicDataDict(dataset[0])\n",
    "\n",
    "\n",
    "\n",
    "# edge length embedding\n",
    "torch.manual_seed(32)\n",
    "\n",
    "num_basis = 8\n",
    "r_max = 5\n",
    "\n",
    "\n",
    "data_my = {key: torch.clone(data[key]) for key in data}\n",
    "data_my = AtomicDataDict.with_edge_vectors(data_my, with_lengths=True)\n",
    "\n",
    "edge_length = data_my['edge_lengths']\n",
    "\n",
    "bessel_weights = (torch.linspace(start=1.0, end=num_basis, steps=num_basis) * math.pi)\n",
    "bessel_weights = nn.Parameter(bessel_weights)\n",
    "\n",
    "edge_length_embedding = 2/r_max*torch.sin(bessel_weights * edge_length.unsqueeze(-1) / r_max)/edge_length.unsqueeze(-1)\n",
    "\n",
    "# cutoff\n",
    "factor = 1/r_max\n",
    "p = 6\n",
    "    \n",
    "x = edge_length * factor\n",
    "\n",
    "cutoff = 1.0\n",
    "cutoff = cutoff - (((p + 1.0) * (p + 2.0) / 2.0) * torch.pow(x, p))\n",
    "cutoff = cutoff + (p * (p + 2.0) * torch.pow(x, p + 1.0))\n",
    "cutoff = cutoff - ((p * (p + 1.0) / 2) * torch.pow(x, p + 2.0))\n",
    "cutoff *= (x < 1.0)\n",
    "\n",
    "cutoff = cutoff.unsqueeze(-1)\n",
    "\n",
    "data_my['edge_embedding'] = edge_length_embedding * cutoff\n",
    "\n",
    "# types embedding\n",
    "num_classes = 3\n",
    "\n",
    "\n",
    "edge_ind = data_my['edge_index']\n",
    "\n",
    "types_embed = one_hot(dataset[0]['atom_types'], num_classes)\n",
    "types_src = types_embed[edge_ind[0]].squeeze(1)\n",
    "types_dst = types_embed[edge_ind[1]].squeeze(1)\n",
    "\n",
    "\n",
    "\n",
    "# latent vector\n",
    "latent_vector = torch.concatenate([types_src, types_dst, edge_length_embedding], dim = 1)\n",
    "\n",
    "# MLP\n",
    "invariant_layers = 2\n",
    "invariant_neurons = 64\n",
    "out_neurons = 32\n",
    "\n",
    "fc = FullyConnectedNet(\n",
    "    [latent_vector.shape[1]]\n",
    "    + invariant_layers * [invariant_neurons]\n",
    "    + [out_neurons],\n",
    "    torch.nn.functional.silu)\n",
    "\n",
    "latent_vector_out = fc(latent_vector)\n",
    "\n",
    "\n",
    "data_my['scalar'] = latent_vector_out"
   ]
  },
  {
   "cell_type": "code",
   "execution_count": 9,
   "id": "7c708419",
   "metadata": {},
   "outputs": [
    {
     "data": {
      "text/plain": [
       "torch.Size([364, 14])"
      ]
     },
     "execution_count": 9,
     "metadata": {},
     "output_type": "execute_result"
    }
   ],
   "source": [
    "latent_vector.shape"
   ]
  },
  {
   "cell_type": "code",
   "execution_count": 10,
   "id": "89c32180",
   "metadata": {},
   "outputs": [
    {
     "data": {
      "text/plain": [
       "torch.Size([364, 32])"
      ]
     },
     "execution_count": 10,
     "metadata": {},
     "output_type": "execute_result"
    }
   ],
   "source": [
    "latent_vector_out.shape"
   ]
  },
  {
   "cell_type": "code",
   "execution_count": 11,
   "id": "018f85fb",
   "metadata": {},
   "outputs": [
    {
     "name": "stderr",
     "output_type": "stream",
     "text": [
      "/home/vladygin/anaconda3/envs/torch_gcnn/lib/python3.9/site-packages/torch/jit/_check.py:178: UserWarning: The TorchScript type system doesn't support instance-level annotations on empty non-base types in `__init__`. Instead, either 1) use a type annotation in the class body, or 2) wrap the type in `torch.jit.Attribute`.\n",
      "  warnings.warn(\n"
     ]
    },
    {
     "data": {
      "text/plain": [
       "torch.Size([364, 32])"
      ]
     },
     "execution_count": 11,
     "metadata": {},
     "output_type": "execute_result"
    }
   ],
   "source": [
    "from nequip.nn import AtomwiseLinear\n",
    "from e3nn.o3 import Irreps\n",
    "\n",
    "\n",
    "#data2_my = {key: torch.clone(data_my[key]) for key in data_my}\n",
    "\n",
    "linear1 = o3.Linear('32x0e', '32x0e')\n",
    "\n",
    "weight1 = linear1(latent_vector_out)\n",
    "weight1.shape"
   ]
  },
  {
   "cell_type": "code",
   "execution_count": 12,
   "id": "fae20a2a",
   "metadata": {},
   "outputs": [],
   "source": [
    "from torch import nn\n",
    "import math\n",
    "\n",
    "\n",
    "torch.manual_seed(32)\n",
    "\n",
    "\n",
    "l_max = 2\n",
    "irreps_edge_sh = o3.Irreps.spherical_harmonics(2)\n",
    "\n",
    "data2_my = {key: torch.clone(data_my[key]) for key in data_my}\n",
    "data2_my = AtomicDataDict.with_edge_vectors(data2_my, with_lengths=False)\n",
    "\n",
    "\n",
    "harm_gen = o3.SphericalHarmonics(irreps_edge_sh, True, 'component')\n",
    "\n",
    "edge_vec = data_my['edge_vectors']\n",
    "\n",
    "harm_edge = harm_gen(edge_vec)\n",
    "harm_edge.shape\n",
    "\n",
    "\n",
    "data2_my['edge_features'] = harm_edge"
   ]
  },
  {
   "cell_type": "code",
   "execution_count": 13,
   "id": "70f558c8",
   "metadata": {},
   "outputs": [
    {
     "data": {
      "text/plain": [
       "torch.Size([364, 32, 9])"
      ]
     },
     "execution_count": 13,
     "metadata": {},
     "output_type": "execute_result"
    }
   ],
   "source": [
    "from e3nn.o3 import TensorProduct, Linear, FullyConnectedTensorProduct\n",
    "from torch_runstats.scatter import scatter\n",
    "\n",
    "x = data2_my['edge_features']\n",
    "edge_src = data2_my['edge_index'][1]\n",
    "edge_dst = data2_my['edge_index'][0]\n",
    "\n",
    "\n",
    "term_1 = harm_edge\n",
    "edge_features = torch.einsum('ij,ib->ijb', weight1[edge_src], harm_edge[edge_src])\n",
    "\n",
    "# TODO: Check if it really right result\n",
    "edge_features = scatter(edge_features, edge_dst, dim=0, dim_size=len(x))\n",
    "edge_features.shape"
   ]
  },
  {
   "cell_type": "code",
   "execution_count": 14,
   "id": "468f7063",
   "metadata": {},
   "outputs": [
    {
     "name": "stderr",
     "output_type": "stream",
     "text": [
      "/home/vladygin/anaconda3/envs/torch_gcnn/lib/python3.9/site-packages/torch/jit/_check.py:178: UserWarning: The TorchScript type system doesn't support instance-level annotations on empty non-base types in `__init__`. Instead, either 1) use a type annotation in the class body, or 2) wrap the type in `torch.jit.Attribute`.\n",
      "  warnings.warn(\n"
     ]
    },
    {
     "data": {
      "text/plain": [
       "FullyConnectedTensorProduct(1x0e+1x1o+1x2e x 32x0e+32x1o+32x2e -> 32x0e+32x0o+32x1e+32x1o+32x2e+32x2o | 15360 paths | 15360 weights)"
      ]
     },
     "execution_count": 14,
     "metadata": {},
     "output_type": "execute_result"
    }
   ],
   "source": [
    "from e3nn.o3 import TensorProduct, Linear, FullyConnectedTensorProduct\n",
    "\n",
    "hidden_layer_irrep = o3.Irreps(\"32x0e + 32x0o + 32x1e + 32x1o + 32x2e + 32x2o\")\n",
    "\n",
    "irreps_in = o3.Irreps(\"1x0e + 1x1o + 1x2e\")\n",
    "irreps_edge = o3.Irreps(\"32x0e + 32x1o + 32x2e\")\n",
    "\n",
    "\n",
    "irreps_mid = []\n",
    "instructions = []\n",
    "\n",
    "# instructions means stuff for multiplicities\n",
    "for i, (_, ir_in) in enumerate(irreps_in):\n",
    "    for j, (mul, ir_edge) in enumerate(irreps_edge):\n",
    "        for ir_out in ir_in * ir_edge:\n",
    "            if ir_out in hidden_layer_irrep:\n",
    "                k = len(irreps_mid)\n",
    "                irreps_mid.append((mul, ir_out))\n",
    "                instructions.append((i, j, k, \"uvu\", True))\n",
    "\n",
    "# We sort the output irreps of the tensor product so that we can simplify them\n",
    "# when they are provided to the second o3.Linear\n",
    "irreps_mid = o3.Irreps(irreps_mid)\n",
    "irreps_mid, p, _ = irreps_mid.sort()\n",
    "\n",
    "fctp = FullyConnectedTensorProduct(\n",
    "            irreps_in,\n",
    "            irreps_edge,\n",
    "            hidden_layer_irrep\n",
    "        )\n",
    "\n",
    "fctp"
   ]
  },
  {
   "cell_type": "code",
   "execution_count": 15,
   "id": "f2b1d2aa",
   "metadata": {},
   "outputs": [
    {
     "name": "stdout",
     "output_type": "stream",
     "text": [
      "2e\n"
     ]
    }
   ],
   "source": [
    "irreps_scalar = o3.Irreps('32x0e')\n",
    "\n",
    "for el in irreps_scalar[0][1] * irreps_in[2][1]:\n",
    "    print(el)"
   ]
  },
  {
   "cell_type": "code",
   "execution_count": 16,
   "id": "8f8c94ef",
   "metadata": {},
   "outputs": [
    {
     "data": {
      "text/plain": [
       "32x0e+1x0e+1x1o+1x2e"
      ]
     },
     "execution_count": 16,
     "metadata": {},
     "output_type": "execute_result"
    }
   ],
   "source": [
    "irreps_scalar + irreps_in"
   ]
  },
  {
   "cell_type": "code",
   "execution_count": 17,
   "id": "1f6217f4",
   "metadata": {},
   "outputs": [
    {
     "data": {
      "text/plain": [
       "32x0e+32x1o+32x2e"
      ]
     },
     "execution_count": 17,
     "metadata": {},
     "output_type": "execute_result"
    }
   ],
   "source": [
    "irreps_edge"
   ]
  },
  {
   "cell_type": "code",
   "execution_count": 19,
   "id": "3d4f3b26-2181-4352-a66b-96ff516ed8b0",
   "metadata": {},
   "outputs": [
    {
     "name": "stderr",
     "output_type": "stream",
     "text": [
      "/home/vladygin/anaconda3/envs/torch_gcnn/lib/python3.9/site-packages/torch/jit/_check.py:178: UserWarning: The TorchScript type system doesn't support instance-level annotations on empty non-base types in `__init__`. Instead, either 1) use a type annotation in the class body, or 2) wrap the type in `torch.jit.Attribute`.\n",
      "  warnings.warn(\n"
     ]
    },
    {
     "data": {
      "image/png": "[encoded data removed]",
      "text/plain": [
       "<Figure size 640x480 with 1 Axes>"
      ]
     },
     "metadata": {},
     "output_type": "display_data"
    }
   ],
   "source": [
    "from e3nn.o3 import FullTensorProduct\n",
    "\n",
    "#fctp(irrep_in, o3.Irreps('32x0e'))\n",
    "irreps_scalar = o3.Irreps('32x0e')\n",
    "\n",
    "\n",
    "fctp_simple = FullyConnectedTensorProduct(\n",
    "            irreps_scalar,\n",
    "            irreps_in,\n",
    "            irreps_edge\n",
    ")\n",
    "\n",
    "fctp_simple.visualize();"
   ]
  },
  {
   "cell_type": "code",
   "execution_count": 20,
   "id": "ee46a3d4",
   "metadata": {},
   "outputs": [
    {
     "data": {
      "text/plain": [
       "FullyConnectedTensorProduct(32x0e x 1x0e+1x1o+1x2e -> 32x0e+32x1o+32x2e | 3072 paths | 3072 weights)"
      ]
     },
     "execution_count": 20,
     "metadata": {},
     "output_type": "execute_result"
    }
   ],
   "source": [
    "fctp_simple"
   ]
  },
  {
   "cell_type": "code",
   "execution_count": 21,
   "id": "8a01e1a4",
   "metadata": {},
   "outputs": [
    {
     "data": {
      "text/plain": [
       "(<Figure size 640x480 with 1 Axes>, <Axes: >)"
      ]
     },
     "execution_count": 21,
     "metadata": {},
     "output_type": "execute_result"
    },
    {
     "data": {
      "image/png": "[encoded data removed]",
      "text/plain": [
       "<Figure size 640x480 with 1 Axes>"
      ]
     },
     "metadata": {},
     "output_type": "display_data"
    }
   ],
   "source": [
    "fctp.visualize()"
   ]
  },
  {
   "cell_type": "code",
   "execution_count": 22,
   "id": "62eeca5c",
   "metadata": {},
   "outputs": [],
   "source": [
    "edge_features_simple = fctp_simple(weight1, harm_edge)"
   ]
  },
  {
   "cell_type": "code",
   "execution_count": 23,
   "id": "d54f9d4e",
   "metadata": {},
   "outputs": [
    {
     "data": {
      "text/plain": [
       "(torch.Size([364]), torch.Size([364, 288]))"
      ]
     },
     "execution_count": 23,
     "metadata": {},
     "output_type": "execute_result"
    }
   ],
   "source": [
    "edge_dst.shape, edge_features_simple.shape"
   ]
  },
  {
   "cell_type": "code",
   "execution_count": 24,
   "id": "72ec3bbd",
   "metadata": {},
   "outputs": [
    {
     "data": {
      "text/plain": [
       "torch.Size([364, 288])"
      ]
     },
     "execution_count": 24,
     "metadata": {},
     "output_type": "execute_result"
    }
   ],
   "source": [
    "# TODO: Check if it really right result\n",
    "edge_features_simple = scatter(edge_features_simple, edge_dst, dim=0, dim_size=len(x))\n",
    "edge_features_simple.shape"
   ]
  },
  {
   "cell_type": "code",
   "execution_count": 25,
   "id": "57e4b9ed",
   "metadata": {},
   "outputs": [
    {
     "data": {
      "text/plain": [
       "32x0e+32x1o+32x2e"
      ]
     },
     "execution_count": 25,
     "metadata": {},
     "output_type": "execute_result"
    }
   ],
   "source": [
    "fctp_simple.irreps_out"
   ]
  },
  {
   "cell_type": "code",
   "execution_count": 26,
   "id": "b5fb994a",
   "metadata": {},
   "outputs": [
    {
     "data": {
      "text/plain": [
       "torch.Size([364, 288])"
      ]
     },
     "execution_count": 26,
     "metadata": {},
     "output_type": "execute_result"
    }
   ],
   "source": [
    "edge_features_simple.shape"
   ]
  },
  {
   "cell_type": "code",
   "execution_count": 27,
   "id": "e79b4b56",
   "metadata": {},
   "outputs": [
    {
     "data": {
      "text/plain": [
       "32.0"
      ]
     },
     "execution_count": 27,
     "metadata": {},
     "output_type": "execute_result"
    }
   ],
   "source": [
    "288/9."
   ]
  },
  {
   "cell_type": "code",
   "execution_count": 28,
   "id": "b6a43c49",
   "metadata": {},
   "outputs": [
    {
     "data": {
      "text/plain": [
       "288"
      ]
     },
     "execution_count": 28,
     "metadata": {},
     "output_type": "execute_result"
    }
   ],
   "source": [
    "irreps_edge.dim"
   ]
  },
  {
   "cell_type": "code",
   "execution_count": 29,
   "id": "4aba2455",
   "metadata": {},
   "outputs": [
    {
     "data": {
      "text/plain": [
       "tensor([[ 0.7318,  1.5868,  3.1454,  ...,  1.4503, -1.1855,  0.3548],\n",
       "        [ 0.1975,  1.8518,  4.1484,  ...,  0.5697, -0.9912, -0.1461],\n",
       "        [ 0.7615,  0.9864,  3.7604,  ...,  1.7781, -0.9809,  0.9555],\n",
       "        ...,\n",
       "        [ 0.0000,  0.0000,  0.0000,  ...,  0.0000,  0.0000,  0.0000],\n",
       "        [ 0.0000,  0.0000,  0.0000,  ...,  0.0000,  0.0000,  0.0000],\n",
       "        [ 0.0000,  0.0000,  0.0000,  ...,  0.0000,  0.0000,  0.0000]],\n",
       "       grad_fn=<UnsafeViewBackward0>)"
      ]
     },
     "execution_count": 29,
     "metadata": {},
     "output_type": "execute_result"
    }
   ],
   "source": [
    "torch.flatten(edge_features.transpose(2, 1), -2)"
   ]
  },
  {
   "cell_type": "code",
   "execution_count": 30,
   "id": "8c750875",
   "metadata": {},
   "outputs": [
    {
     "data": {
      "text/plain": [
       "tensor([[ -4.4395,  -8.6668,  -7.1808,  ...,   0.7276,  -0.4207,   0.7423],\n",
       "        [ -4.9382, -10.0506,  -8.1547,  ...,   1.0427,   0.1516,   0.0430],\n",
       "        [ -3.9019,  -7.6113,  -6.3113,  ...,   0.3851,  -0.2934,   0.1124],\n",
       "        ...,\n",
       "        [  0.0000,   0.0000,   0.0000,  ...,   0.0000,   0.0000,   0.0000],\n",
       "        [  0.0000,   0.0000,   0.0000,  ...,   0.0000,   0.0000,   0.0000],\n",
       "        [  0.0000,   0.0000,   0.0000,  ...,   0.0000,   0.0000,   0.0000]],\n",
       "       grad_fn=<ScatterAddBackward0>)"
      ]
     },
     "execution_count": 30,
     "metadata": {},
     "output_type": "execute_result"
    }
   ],
   "source": [
    "edge_features_simple"
   ]
  },
  {
   "cell_type": "code",
   "execution_count": 31,
   "id": "3c485448",
   "metadata": {},
   "outputs": [],
   "source": [
    "out = fctp(harm_edge, edge_features_simple)"
   ]
  },
  {
   "cell_type": "code",
   "execution_count": 32,
   "id": "3d55c973",
   "metadata": {},
   "outputs": [
    {
     "data": {
      "text/plain": [
       "torch.Size([364, 576])"
      ]
     },
     "execution_count": 32,
     "metadata": {},
     "output_type": "execute_result"
    }
   ],
   "source": [
    "out.shape"
   ]
  },
  {
   "cell_type": "code",
   "execution_count": 33,
   "id": "788810b0",
   "metadata": {},
   "outputs": [
    {
     "data": {
      "text/plain": [
       "torch.Size([364, 9, 1])"
      ]
     },
     "execution_count": 33,
     "metadata": {},
     "output_type": "execute_result"
    }
   ],
   "source": [
    "harm_edge.unsqueeze(-1).shape"
   ]
  },
  {
   "cell_type": "code",
   "execution_count": 34,
   "id": "ccac2e3c",
   "metadata": {},
   "outputs": [
    {
     "data": {
      "text/plain": [
       "torch.Size([364, 9, 32])"
      ]
     },
     "execution_count": 34,
     "metadata": {},
     "output_type": "execute_result"
    }
   ],
   "source": [
    "(edge_features.transpose(2, 1)).shape"
   ]
  },
  {
   "cell_type": "code",
   "execution_count": 35,
   "id": "6eb25f21",
   "metadata": {},
   "outputs": [
    {
     "data": {
      "text/plain": [
       "torch.Size([364, 32, 9])"
      ]
     },
     "execution_count": 35,
     "metadata": {},
     "output_type": "execute_result"
    }
   ],
   "source": [
    "edge_features.shape"
   ]
  },
  {
   "cell_type": "code",
   "execution_count": 36,
   "id": "0717d198",
   "metadata": {},
   "outputs": [
    {
     "data": {
      "text/plain": [
       "32x0e+32x0o+32x1e+32x1o+32x2e+32x2o"
      ]
     },
     "execution_count": 36,
     "metadata": {},
     "output_type": "execute_result"
    }
   ],
   "source": [
    "hidden_layer_irrep"
   ]
  },
  {
   "cell_type": "code",
   "execution_count": 37,
   "id": "81cc6e96",
   "metadata": {},
   "outputs": [
    {
     "data": {
      "text/plain": [
       "torch.Size([364, 576])"
      ]
     },
     "execution_count": 37,
     "metadata": {},
     "output_type": "execute_result"
    }
   ],
   "source": [
    "out.shape"
   ]
  },
  {
   "cell_type": "code",
   "execution_count": 38,
   "id": "b8a797ca",
   "metadata": {},
   "outputs": [
    {
     "name": "stderr",
     "output_type": "stream",
     "text": [
      "/home/vladygin/anaconda3/envs/torch_gcnn/lib/python3.9/site-packages/torch/jit/_check.py:178: UserWarning: The TorchScript type system doesn't support instance-level annotations on empty non-base types in `__init__`. Instead, either 1) use a type annotation in the class body, or 2) wrap the type in `torch.jit.Attribute`.\n",
      "  warnings.warn(\n"
     ]
    },
    {
     "data": {
      "text/plain": [
       "(32x0e, 32x0o+32x1e+32x1o+32x2e+32x2o)"
      ]
     },
     "execution_count": 38,
     "metadata": {},
     "output_type": "execute_result"
    }
   ],
   "source": [
    "from e3nn.nn import Extract\n",
    "\n",
    "irreps_scalar = []\n",
    "irreps_features = []\n",
    "for ir in hidden_layer_irrep:\n",
    "    if ir.ir[1] == 1 and ir.ir[0] == 0:\n",
    "        irreps_scalar.append(ir)\n",
    "    else:\n",
    "        irreps_features.append(ir)\n",
    "        \n",
    "irreps_scalar = o3.Irreps(irreps_scalar)\n",
    "irreps_features = o3.Irreps(irreps_features)\n",
    "\n",
    "Extract_new = Extract(hidden_layer_irrep,\n",
    "        [irreps_scalar, irreps_features],\n",
    "        instructions=[(0,), (1, 2, 3, 4, 5)])\n",
    "out2 = Extract_new(out)\n",
    "\n",
    "Extract_new.irreps_outs"
   ]
  },
  {
   "cell_type": "code",
   "execution_count": 39,
   "id": "4115a7d6",
   "metadata": {},
   "outputs": [
    {
     "data": {
      "text/plain": [
       "(torch.Size([364, 32]), torch.Size([364, 544]), torch.Size([364, 576]))"
      ]
     },
     "execution_count": 39,
     "metadata": {},
     "output_type": "execute_result"
    }
   ],
   "source": [
    "out2[0].shape, out2[1].shape, out.shape"
   ]
  },
  {
   "cell_type": "code",
   "execution_count": 40,
   "id": "5b6ab7c2",
   "metadata": {},
   "outputs": [
    {
     "name": "stderr",
     "output_type": "stream",
     "text": [
      "/home/vladygin/anaconda3/envs/torch_gcnn/lib/python3.9/site-packages/torch/jit/_check.py:178: UserWarning: The TorchScript type system doesn't support instance-level annotations on empty non-base types in `__init__`. Instead, either 1) use a type annotation in the class body, or 2) wrap the type in `torch.jit.Attribute`.\n",
      "  warnings.warn(\n",
      "/home/vladygin/anaconda3/envs/torch_gcnn/lib/python3.9/site-packages/torch/jit/_check.py:178: UserWarning: The TorchScript type system doesn't support instance-level annotations on empty non-base types in `__init__`. Instead, either 1) use a type annotation in the class body, or 2) wrap the type in `torch.jit.Attribute`.\n",
      "  warnings.warn(\n"
     ]
    }
   ],
   "source": [
    "in_1 = o3.Irreps('32x0e')\n",
    "in_2 = o3.Irreps('32x0e')\n",
    "\n",
    "ir_out2 = in_1 + in_2\n",
    "\n",
    "scalar_concat = torch.concatenate([latent_vector_out, out2[0]], dim = -1)\n",
    "\n",
    "linear_scalar = o3.Linear(ir_out2, '32x0e')\n",
    "linear_features = o3.Linear(hidden_layer_irrep, hidden_layer_irrep)\n",
    "\n",
    "\n",
    "\n",
    "data2_my['scalar'] = linear_scalar(scalar_concat) + latent_vector_out\n",
    "data2_my['edge_attrs'] = linear_features(out)"
   ]
  },
  {
   "cell_type": "code",
   "execution_count": 41,
   "id": "a32df3fa",
   "metadata": {},
   "outputs": [
    {
     "data": {
      "text/plain": [
       "torch.Size([364, 64])"
      ]
     },
     "execution_count": 41,
     "metadata": {},
     "output_type": "execute_result"
    }
   ],
   "source": [
    "scalar_concat.shape"
   ]
  },
  {
   "cell_type": "code",
   "execution_count": 42,
   "id": "4e830704",
   "metadata": {},
   "outputs": [
    {
     "data": {
      "text/plain": [
       "tensor([[-0.5633, -2.9845,  3.7044,  ...,  2.2098,  2.6116,  2.2809],\n",
       "        [-3.7988, -0.1964,  3.8040,  ..., -3.7400, -1.1233, -1.0725],\n",
       "        [-2.3400,  1.8147,  2.9686,  ..., -3.1784,  1.0734,  1.9833],\n",
       "        ...,\n",
       "        [ 0.0000,  0.0000,  0.0000,  ...,  0.0000,  0.0000,  0.0000],\n",
       "        [ 0.0000,  0.0000,  0.0000,  ...,  0.0000,  0.0000,  0.0000],\n",
       "        [ 0.0000,  0.0000,  0.0000,  ...,  0.0000,  0.0000,  0.0000]],\n",
       "       grad_fn=<ViewBackward0>)"
      ]
     },
     "execution_count": 42,
     "metadata": {},
     "output_type": "execute_result"
    }
   ],
   "source": [
    "out"
   ]
  },
  {
   "cell_type": "code",
   "execution_count": 43,
   "id": "062c277a",
   "metadata": {},
   "outputs": [
    {
     "data": {
      "text/plain": [
       "[slice(0, 32, None),\n",
       " slice(32, 128, None),\n",
       " slice(128, 224, None),\n",
       " slice(224, 384, None),\n",
       " slice(384, 544, None)]"
      ]
     },
     "execution_count": 43,
     "metadata": {},
     "output_type": "execute_result"
    }
   ],
   "source": [
    "Extract_new.irreps_outs[1].slices()"
   ]
  },
  {
   "cell_type": "code",
   "execution_count": 44,
   "id": "25e3ac21",
   "metadata": {},
   "outputs": [
    {
     "name": "stderr",
     "output_type": "stream",
     "text": [
      "/home/vladygin/anaconda3/envs/torch_gcnn/lib/python3.9/site-packages/torch/jit/_check.py:178: UserWarning: The TorchScript type system doesn't support instance-level annotations on empty non-base types in `__init__`. Instead, either 1) use a type annotation in the class body, or 2) wrap the type in `torch.jit.Attribute`.\n",
      "  warnings.warn(\n"
     ]
    },
    {
     "data": {
      "text/plain": [
       "(tensor([1.]), tensor([2.]))"
      ]
     },
     "execution_count": 44,
     "metadata": {},
     "output_type": "execute_result"
    }
   ],
   "source": [
    "c = Extract('1e + 0e + 0e', ['0e', '0e'], [(1,), (2,)])\n",
    "c(torch.tensor([0.0, 0.0, 0.0, 1.0, 2.0]))"
   ]
  },
  {
   "cell_type": "code",
   "execution_count": 45,
   "id": "bcde216c",
   "metadata": {},
   "outputs": [
    {
     "data": {
      "text/plain": [
       "(6, 1, 5)"
      ]
     },
     "execution_count": 45,
     "metadata": {},
     "output_type": "execute_result"
    }
   ],
   "source": [
    "len(hidden_layer_irrep), len(irreps_scalar), len(irreps_features)"
   ]
  },
  {
   "cell_type": "code",
   "execution_count": 46,
   "id": "30593da5",
   "metadata": {},
   "outputs": [
    {
     "data": {
      "text/plain": [
       "(32, 32, 96, 96, 160, 160)"
      ]
     },
     "execution_count": 46,
     "metadata": {},
     "output_type": "execute_result"
    }
   ],
   "source": [
    "tuple(el.dim for el in hidden_layer_irrep)"
   ]
  },
  {
   "cell_type": "code",
   "execution_count": 47,
   "id": "b431ecd7",
   "metadata": {},
   "outputs": [
    {
     "data": {
      "text/plain": [
       "(32, 96, 96, 160, 160)"
      ]
     },
     "execution_count": 47,
     "metadata": {},
     "output_type": "execute_result"
    }
   ],
   "source": [
    "tuple(el.dim for el in irreps_features)"
   ]
  },
  {
   "cell_type": "code",
   "execution_count": 48,
   "id": "f68958ff",
   "metadata": {},
   "outputs": [
    {
     "data": {
      "text/plain": [
       "32x0e+32x0o+32x1e+32x1o+32x2e+32x2o"
      ]
     },
     "execution_count": 48,
     "metadata": {},
     "output_type": "execute_result"
    }
   ],
   "source": [
    "hidden_layer_irrep"
   ]
  },
  {
   "cell_type": "code",
   "execution_count": 49,
   "id": "067d58a9",
   "metadata": {},
   "outputs": [
    {
     "data": {
      "text/plain": [
       "5"
      ]
     },
     "execution_count": 49,
     "metadata": {},
     "output_type": "execute_result"
    }
   ],
   "source": [
    "len(irreps_features)\n"
   ]
  },
  {
   "cell_type": "code",
   "execution_count": 50,
   "id": "d041d704",
   "metadata": {},
   "outputs": [
    {
     "data": {
      "text/plain": [
       "32x0o+32x1e+32x1o+32x2e+32x2o"
      ]
     },
     "execution_count": 50,
     "metadata": {},
     "output_type": "execute_result"
    }
   ],
   "source": [
    "irreps_features"
   ]
  },
  {
   "cell_type": "code",
   "execution_count": 51,
   "id": "7382a8d4",
   "metadata": {},
   "outputs": [
    {
     "data": {
      "text/plain": [
       "544"
      ]
     },
     "execution_count": 51,
     "metadata": {},
     "output_type": "execute_result"
    }
   ],
   "source": [
    "\n",
    "\n",
    "irreps_features.dim"
   ]
  },
  {
   "cell_type": "code",
   "execution_count": 52,
   "id": "857ce025",
   "metadata": {},
   "outputs": [
    {
     "data": {
      "text/plain": [
       "32x0o+32x1e+32x1o+32x2e+32x2o"
      ]
     },
     "execution_count": 52,
     "metadata": {},
     "output_type": "execute_result"
    }
   ],
   "source": [
    "irreps_features"
   ]
  },
  {
   "cell_type": "code",
   "execution_count": 53,
   "id": "f1b1e51a",
   "metadata": {},
   "outputs": [
    {
     "name": "stdout",
     "output_type": "stream",
     "text": [
      "node_attrs\n",
      "edge_attrs\n",
      "edge_embedding\n"
     ]
    }
   ],
   "source": [
    "print(AtomicDataDict.NODE_ATTRS_KEY)\n",
    "print(AtomicDataDict.EDGE_ATTRS_KEY)\n",
    "print(AtomicDataDict.EDGE_EMBEDDING_KEY)\n",
    "#data_my['node_attrs']"
   ]
  },
  {
   "cell_type": "markdown",
   "id": "76eb7d36",
   "metadata": {},
   "source": [
    "### Prepare"
   ]
  },
  {
   "cell_type": "code",
   "execution_count": 54,
   "id": "04a0068d",
   "metadata": {},
   "outputs": [],
   "source": [
    "import torch\n",
    "from torch.nn.functional import one_hot\n",
    "from nequip.data import AtomicData, AtomicDataDict\n",
    "from torch.nn.functional import one_hot\n",
    "from e3nn.nn import FullyConnectedNet\n",
    "    \n",
    "from torch import nn\n",
    "import math\n",
    "\n",
    "\n",
    "data = AtomicData.to_AtomicDataDict(dataset[0])\n",
    "\n",
    "\n",
    "\n",
    "# edge length embedding\n",
    "torch.manual_seed(32)\n",
    "\n",
    "num_basis = 8\n",
    "r_max = 5\n",
    "\n",
    "\n",
    "data_my = {key: torch.clone(data[key]) for key in data}\n",
    "data_my = AtomicDataDict.with_edge_vectors(data_my, with_lengths=True)\n",
    "\n",
    "edge_length = data_my['edge_lengths']\n",
    "\n",
    "bessel_weights = (torch.linspace(start=1.0, end=num_basis, steps=num_basis) * math.pi)\n",
    "bessel_weights = nn.Parameter(bessel_weights)\n",
    "\n",
    "edge_length_embedding = 2/r_max*torch.sin(bessel_weights * edge_length.unsqueeze(-1) / r_max)/edge_length.unsqueeze(-1)\n",
    "\n",
    "# cutoff\n",
    "factor = 1/r_max\n",
    "p = 6\n",
    "    \n",
    "x = edge_length * factor\n",
    "\n",
    "cutoff = 1.0\n",
    "cutoff = cutoff - (((p + 1.0) * (p + 2.0) / 2.0) * torch.pow(x, p))\n",
    "cutoff = cutoff + (p * (p + 2.0) * torch.pow(x, p + 1.0))\n",
    "cutoff = cutoff - ((p * (p + 1.0) / 2) * torch.pow(x, p + 2.0))\n",
    "cutoff *= (x < 1.0)\n",
    "\n",
    "cutoff = cutoff.unsqueeze(-1)\n",
    "\n",
    "data_my['edge_embedding'] = edge_length_embedding * cutoff\n",
    "\n",
    "# types embedding\n",
    "num_classes = 3\n",
    "\n",
    "\n",
    "edge_ind = data_my['edge_index']\n",
    "\n",
    "types_embed = one_hot(dataset[0]['atom_types'], num_classes)\n",
    "types_src = types_embed[edge_ind[0]].squeeze(1)\n",
    "types_dst = types_embed[edge_ind[1]].squeeze(1)\n",
    "\n",
    "\n",
    "\n",
    "# latent vector\n",
    "latent_vector = torch.concatenate([types_src, types_dst, edge_length_embedding], dim = 1)\n",
    "\n",
    "# MLP\n",
    "invariant_layers = 2\n",
    "invariant_neurons = 64\n",
    "out_neurons = 32\n",
    "\n",
    "fc = FullyConnectedNet(\n",
    "    [latent_vector.shape[1]]\n",
    "    + invariant_layers * [invariant_neurons]\n",
    "    + [out_neurons],\n",
    "    torch.nn.functional.silu)\n",
    "\n",
    "latent_vector_out = fc(latent_vector)\n",
    "\n",
    "\n",
    "data_my['scalar'] = latent_vector_out"
   ]
  },
  {
   "cell_type": "code",
   "execution_count": 55,
   "id": "7cc52dc1",
   "metadata": {},
   "outputs": [
    {
     "ename": "ImportError",
     "evalue": "attempted relative import with no known parent package",
     "output_type": "error",
     "traceback": [
      "\u001b[0;31m---------------------------------------------------------------------------\u001b[0m",
      "\u001b[0;31mImportError\u001b[0m                               Traceback (most recent call last)",
      "Cell \u001b[0;32mIn[55], line 15\u001b[0m\n\u001b[1;32m     12\u001b[0m \u001b[38;5;28;01mfrom\u001b[39;00m \u001b[38;5;21;01mnequip\u001b[39;00m\u001b[38;5;21;01m.\u001b[39;00m\u001b[38;5;21;01mnn\u001b[39;00m \u001b[38;5;28;01mimport\u001b[39;00m GraphModuleMixin\n\u001b[1;32m     13\u001b[0m \u001b[38;5;28;01mfrom\u001b[39;00m \u001b[38;5;21;01mnequip\u001b[39;00m\u001b[38;5;21;01m.\u001b[39;00m\u001b[38;5;21;01mutils\u001b[39;00m\u001b[38;5;21;01m.\u001b[39;00m\u001b[38;5;21;01mtp_utils\u001b[39;00m \u001b[38;5;28;01mimport\u001b[39;00m tp_path_exists\n\u001b[0;32m---> 15\u001b[0m \u001b[38;5;28;01mfrom\u001b[39;00m \u001b[38;5;21;01m.\u001b[39;00m\u001b[38;5;21;01m_fc\u001b[39;00m \u001b[38;5;28;01mimport\u001b[39;00m ScalarMLPFunction\n\u001b[1;32m     16\u001b[0m \u001b[38;5;28;01mfrom\u001b[39;00m \u001b[38;5;21;01m.\u001b[39;00m\u001b[38;5;21;01m.\u001b[39;00m \u001b[38;5;28;01mimport\u001b[39;00m _keys\n\u001b[1;32m     17\u001b[0m \u001b[38;5;28;01mfrom\u001b[39;00m \u001b[38;5;21;01m.\u001b[39;00m\u001b[38;5;21;01m_strided\u001b[39;00m \u001b[38;5;28;01mimport\u001b[39;00m Contracter, MakeWeightedChannels, Linear\n",
      "\u001b[0;31mImportError\u001b[0m: attempted relative import with no known parent package"
     ]
    }
   ],
   "source": [
    "from typing import Optional, List\n",
    "import math\n",
    "import functools\n",
    "\n",
    "import torch\n",
    "from torch_runstats.scatter import scatter\n",
    "\n",
    "from e3nn import o3\n",
    "from e3nn.util.jit import compile_mode\n",
    "\n",
    "from nequip.data import AtomicDataDict\n",
    "from nequip.nn import GraphModuleMixin\n",
    "from nequip.utils.tp_utils import tp_path_exists\n",
    "\n",
    "from ._fc import ScalarMLPFunction\n",
    "from .. import _keys\n",
    "from ._strided import Contracter, MakeWeightedChannels, Linear\n",
    "from .cutoffs import cosine_cutoff, polynomial_cutoff\n",
    "\n",
    "\n",
    "@compile_mode(\"script\")\n",
    "class Allegro_Module(GraphModuleMixin, torch.nn.Module):\n",
    "    # saved params\n",
    "    num_layers: int\n",
    "    field: str\n",
    "    out_field: str\n",
    "    num_types: int\n",
    "    env_embed_mul: int\n",
    "    weight_numel: int\n",
    "    latent_resnet: bool\n",
    "    embed_initial_edge: bool\n",
    "\n",
    "    # internal values\n",
    "    _env_builder_w_index: List[int]\n",
    "    _env_builder_n_irreps: int\n",
    "    _input_pad: int\n",
    "\n",
    "    def __init__(\n",
    "        self,\n",
    "        # required params\n",
    "        num_layers: int,\n",
    "        num_types: int,\n",
    "        r_max: float,\n",
    "        avg_num_neighbors: Optional[float] = None,\n",
    "        # cutoffs\n",
    "        r_start_cos_ratio: float = 0.8,\n",
    "        PolynomialCutoff_p: float = 6,\n",
    "        per_layer_cutoffs: Optional[List[float]] = None,\n",
    "        cutoff_type: str = \"polynomial\",\n",
    "        # general hyperparameters:\n",
    "        field: str = AtomicDataDict.EDGE_ATTRS_KEY,\n",
    "        edge_invariant_field: str = AtomicDataDict.EDGE_EMBEDDING_KEY,\n",
    "        node_invariant_field: str = AtomicDataDict.NODE_ATTRS_KEY,\n",
    "        env_embed_multiplicity: int = 32,\n",
    "        embed_initial_edge: bool = True,\n",
    "        linear_after_env_embed: bool = False,\n",
    "        nonscalars_include_parity: bool = True,\n",
    "        # MLP parameters:\n",
    "        two_body_latent=ScalarMLPFunction,\n",
    "        two_body_latent_kwargs={},\n",
    "        env_embed=ScalarMLPFunction,\n",
    "        env_embed_kwargs={},\n",
    "        latent=ScalarMLPFunction,\n",
    "        latent_kwargs={},\n",
    "        latent_resnet: bool = True,\n",
    "        latent_resnet_update_ratios: Optional[List[float]] = None,\n",
    "        latent_resnet_update_ratios_learnable: bool = False,\n",
    "        latent_out_field: Optional[str] = _keys.EDGE_FEATURES,\n",
    "        # Performance parameters:\n",
    "        pad_to_alignment: int = 1,\n",
    "        sparse_mode: Optional[str] = None,\n",
    "        # Other:\n",
    "        irreps_in=None,\n",
    "    ):\n",
    "        super().__init__()\n",
    "        SCALAR = o3.Irrep(\"0e\")  # define for convinience\n",
    "\n",
    "        # save parameters\n",
    "        assert (\n",
    "            num_layers >= 1\n",
    "        )  # zero layers is \"two body\", but we don't need to support that fallback case\n",
    "        self.num_layers = num_layers\n",
    "        self.nonscalars_include_parity = nonscalars_include_parity\n",
    "        self.field = field\n",
    "        self.latent_out_field = latent_out_field\n",
    "        self.edge_invariant_field = edge_invariant_field\n",
    "        self.node_invariant_field = node_invariant_field\n",
    "        self.latent_resnet = latent_resnet\n",
    "        self.env_embed_mul = env_embed_multiplicity\n",
    "        self.r_start_cos_ratio = r_start_cos_ratio\n",
    "        self.polynomial_cutoff_p = float(PolynomialCutoff_p)\n",
    "        self.cutoff_type = cutoff_type\n",
    "        assert cutoff_type in (\"cosine\", \"polynomial\")\n",
    "        self.embed_initial_edge = embed_initial_edge\n",
    "        self.avg_num_neighbors = avg_num_neighbors\n",
    "        self.linear_after_env_embed = linear_after_env_embed\n",
    "        self.num_types = num_types\n",
    "\n",
    "        # set up irreps\n",
    "        self._init_irreps(\n",
    "            irreps_in=irreps_in,\n",
    "            required_irreps_in=[\n",
    "                self.field,\n",
    "                self.edge_invariant_field,\n",
    "                self.node_invariant_field,\n",
    "            ],\n",
    "        )\n",
    "\n",
    "        # for normalization of env embed sums\n",
    "        # one per layer\n",
    "        self.register_buffer(\n",
    "            \"env_sum_normalizations\",\n",
    "            # dividing by sqrt(N)\n",
    "            torch.as_tensor([avg_num_neighbors] * num_layers).rsqrt(),\n",
    "        )\n",
    "\n",
    "        latent = functools.partial(latent, **latent_kwargs)\n",
    "        env_embed = functools.partial(env_embed, **env_embed_kwargs)\n",
    "\n",
    "        self.latents = torch.nn.ModuleList([])\n",
    "        self.env_embed_mlps = torch.nn.ModuleList([])\n",
    "        self.tps = torch.nn.ModuleList([])\n",
    "        self.linears = torch.nn.ModuleList([])\n",
    "        self.env_linears = torch.nn.ModuleList([])\n",
    "\n",
    "        # Embed to the spharm * it as mul\n",
    "        input_irreps = self.irreps_in[self.field]\n",
    "        # this is not inherant, but no reason to fix right now:\n",
    "        assert all(mul == 1 for mul, ir in input_irreps)\n",
    "        env_embed_irreps = o3.Irreps([(1, ir) for _, ir in input_irreps])\n",
    "        assert (\n",
    "            env_embed_irreps[0].ir == SCALAR\n",
    "        ), \"env_embed_irreps must start with scalars\"\n",
    "        self._input_pad = (\n",
    "            int(math.ceil(env_embed_irreps.dim / pad_to_alignment)) * pad_to_alignment\n",
    "        ) - env_embed_irreps.dim\n",
    "        self.register_buffer(\"_zero\", torch.zeros(1, 1))\n",
    "\n",
    "        # Initially, we have the B(r)Y(\\vec{r})-projection of the edges\n",
    "        # (possibly embedded)\n",
    "        if self.embed_initial_edge:\n",
    "            arg_irreps = env_embed_irreps\n",
    "        else:\n",
    "            arg_irreps = input_irreps\n",
    "\n",
    "        # - begin irreps -\n",
    "        # start to build up the irreps for the iterated TPs\n",
    "        tps_irreps = [arg_irreps]\n",
    "\n",
    "        for layer_idx in range(num_layers):\n",
    "            # Create higher order terms cause there are more TPs coming\n",
    "            if layer_idx == 0:\n",
    "                # Add parity irreps\n",
    "                ir_out = []\n",
    "                for (mul, ir) in env_embed_irreps:\n",
    "                    if self.nonscalars_include_parity:\n",
    "                        # add both parity options\n",
    "                        ir_out.append((1, (ir.l, 1)))\n",
    "                        ir_out.append((1, (ir.l, -1)))\n",
    "                    else:\n",
    "                        # add only the parity option seen in the inputs\n",
    "                        ir_out.append((1, ir))\n",
    "\n",
    "                ir_out = o3.Irreps(ir_out)\n",
    "\n",
    "            if layer_idx == self.num_layers - 1:\n",
    "                # ^ means we're doing the last layer\n",
    "                # No more TPs follow this, so only need scalars\n",
    "                ir_out = o3.Irreps([(1, (0, 1))])\n",
    "\n",
    "            # Prune impossible paths\n",
    "            ir_out = o3.Irreps(\n",
    "                [\n",
    "                    (mul, ir)\n",
    "                    for mul, ir in ir_out\n",
    "                    if tp_path_exists(arg_irreps, env_embed_irreps, ir)\n",
    "                ]\n",
    "            )\n",
    "\n",
    "            # the argument to the next tensor product is the output of this one\n",
    "            arg_irreps = ir_out\n",
    "            tps_irreps.append(ir_out)\n",
    "        # - end build irreps -\n",
    "\n",
    "        # == Remove unneeded paths ==\n",
    "        out_irreps = tps_irreps[-1]\n",
    "        new_tps_irreps = [out_irreps]\n",
    "        for arg_irreps in reversed(tps_irreps[:-1]):\n",
    "            new_arg_irreps = []\n",
    "            for mul, arg_ir in arg_irreps:\n",
    "                for _, env_ir in env_embed_irreps:\n",
    "                    if any(i in out_irreps for i in arg_ir * env_ir):\n",
    "                        # arg_ir is useful: arg_ir * env_ir has a path to something we want\n",
    "                        new_arg_irreps.append((mul, arg_ir))\n",
    "                        # once its useful once, we keep it no matter what\n",
    "                        break\n",
    "            new_arg_irreps = o3.Irreps(new_arg_irreps)\n",
    "            new_tps_irreps.append(new_arg_irreps)\n",
    "            out_irreps = new_arg_irreps\n",
    "\n",
    "        assert len(new_tps_irreps) == len(tps_irreps)\n",
    "        tps_irreps = list(reversed(new_tps_irreps))\n",
    "        del new_tps_irreps\n",
    "\n",
    "        assert tps_irreps[-1].lmax == 0\n",
    "\n",
    "        tps_irreps_in = tps_irreps[:-1]\n",
    "        tps_irreps_out = tps_irreps[1:]\n",
    "        del tps_irreps\n",
    "\n",
    "        # Environment builder:\n",
    "        self._env_weighter = MakeWeightedChannels(\n",
    "            irreps_in=input_irreps,\n",
    "            multiplicity_out=env_embed_multiplicity,\n",
    "            pad_to_alignment=pad_to_alignment,\n",
    "        )\n",
    "\n",
    "        self._n_scalar_outs = []\n",
    "\n",
    "        # == Build TPs ==\n",
    "        for layer_idx, (arg_irreps, out_irreps) in enumerate(\n",
    "            zip(tps_irreps_in, tps_irreps_out)\n",
    "        ):\n",
    "            # Make the env embed linear\n",
    "            if self.linear_after_env_embed:\n",
    "                self.env_linears.append(\n",
    "                    Linear(\n",
    "                        [(env_embed_multiplicity, ir) for _, ir in env_embed_irreps],\n",
    "                        [(env_embed_multiplicity, ir) for _, ir in env_embed_irreps],\n",
    "                        shared_weights=True,\n",
    "                        internal_weights=True,\n",
    "                    )\n",
    "                )\n",
    "            else:\n",
    "                self.env_linears.append(torch.nn.Identity())\n",
    "            # Make TP\n",
    "            tmp_i_out: int = 0\n",
    "            instr = []\n",
    "            n_scalar_outs: int = 0\n",
    "            full_out_irreps = []\n",
    "            for i_out, (_, ir_out) in enumerate(out_irreps):\n",
    "                for i_1, (_, ir_1) in enumerate(arg_irreps):\n",
    "                    for i_2, (_, ir_2) in enumerate(env_embed_irreps):\n",
    "                        if ir_out in ir_1 * ir_2:\n",
    "                            if ir_out == SCALAR:\n",
    "                                n_scalar_outs += 1\n",
    "                            instr.append((i_1, i_2, tmp_i_out))\n",
    "                            full_out_irreps.append((env_embed_multiplicity, ir_out))\n",
    "                            tmp_i_out += 1\n",
    "            full_out_irreps = o3.Irreps(full_out_irreps)\n",
    "            self._n_scalar_outs.append(n_scalar_outs)\n",
    "            assert all(ir == SCALAR for _, ir in full_out_irreps[:n_scalar_outs])\n",
    "            tp = Contracter(\n",
    "                irreps_in1=o3.Irreps(\n",
    "                    [\n",
    "                        (\n",
    "                            (\n",
    "                                env_embed_multiplicity\n",
    "                                if layer_idx > 0 or self.embed_initial_edge\n",
    "                                else 1\n",
    "                            ),\n",
    "                            ir,\n",
    "                        )\n",
    "                        for _, ir in arg_irreps\n",
    "                    ]\n",
    "                ),\n",
    "                irreps_in2=o3.Irreps(\n",
    "                    [(env_embed_multiplicity, ir) for _, ir in env_embed_irreps]\n",
    "                ),\n",
    "                irreps_out=o3.Irreps(\n",
    "                    [(env_embed_multiplicity, ir) for _, ir in full_out_irreps]\n",
    "                ),\n",
    "                instructions=instr,\n",
    "                # For the first layer, we have the unprocessed edges\n",
    "                # coming in from the input if `not self.embed_initial_edge`.\n",
    "                # These don't match the embedding in mul, so we have\n",
    "                # to use uvv --- since the input edges should be mul\n",
    "                # of one in normal circumstances, this is still plenty fast.\n",
    "                # For this reason it also doesn't increase the number of weights.\n",
    "                connection_mode=(\n",
    "                    \"uuu\" if layer_idx > 0 or self.embed_initial_edge else \"uvv\"\n",
    "                ),\n",
    "                shared_weights=False,\n",
    "                has_weight=False,\n",
    "                pad_to_alignment=pad_to_alignment,\n",
    "                sparse_mode=sparse_mode,\n",
    "            )\n",
    "            self.tps.append(tp)\n",
    "            # we extract the scalars from the first irrep of the tp\n",
    "            assert out_irreps[0].ir == SCALAR\n",
    "\n",
    "            # Make env embed mlp\n",
    "            generate_n_weights = (\n",
    "                self._env_weighter.weight_numel\n",
    "            )  # the weight for the edge embedding\n",
    "            if layer_idx == 0 and self.embed_initial_edge:\n",
    "                # also need weights to embed the edge itself\n",
    "                # this is because the 2 body latent is mixed in with the first layer\n",
    "                # in terms of code\n",
    "                generate_n_weights += self._env_weighter.weight_numel\n",
    "\n",
    "            # the linear acts after the extractor\n",
    "            self.linears.append(\n",
    "                Linear(\n",
    "                    full_out_irreps,\n",
    "                    [(env_embed_multiplicity, ir) for _, ir in out_irreps],\n",
    "                    shared_weights=True,\n",
    "                    internal_weights=True,\n",
    "                    pad_to_alignment=pad_to_alignment,\n",
    "                )\n",
    "            )\n",
    "\n",
    "            if layer_idx == 0:\n",
    "                # at the first layer, we have no invariants from previous TPs\n",
    "                self.latents.append(\n",
    "                    two_body_latent(\n",
    "                        mlp_input_dimension=(\n",
    "                            (\n",
    "                                # Node invariants for center and neighbor (chemistry)\n",
    "                                2 * self.irreps_in[self.node_invariant_field].num_irreps\n",
    "                                # Plus edge invariants for the edge (radius).\n",
    "                                + self.irreps_in[self.edge_invariant_field].num_irreps\n",
    "                            )\n",
    "                        ),\n",
    "                        mlp_output_dimension=None,\n",
    "                        **two_body_latent_kwargs,\n",
    "                    )\n",
    "                )\n",
    "            else:\n",
    "                self.latents.append(\n",
    "                    latent(\n",
    "                        mlp_input_dimension=(\n",
    "                            (\n",
    "                                # the embedded latent invariants from the previous layer(s)\n",
    "                                self.latents[-1].out_features\n",
    "                                # and the invariants extracted from the last layer's TP:\n",
    "                                + env_embed_multiplicity * n_scalar_outs\n",
    "                            )\n",
    "                        ),\n",
    "                        mlp_output_dimension=None,\n",
    "                    )\n",
    "                )\n",
    "            # the env embed MLP takes the last latent's output as input\n",
    "            # and outputs enough weights for the env embedder\n",
    "            self.env_embed_mlps.append(\n",
    "                env_embed(\n",
    "                    mlp_input_dimension=self.latents[-1].out_features,\n",
    "                    mlp_output_dimension=generate_n_weights,\n",
    "                )\n",
    "            )\n",
    "\n",
    "        # For the final layer, we specialize:\n",
    "        # we don't need to propagate nonscalars, so there is no TP\n",
    "        # thus we only need the latent:\n",
    "        self.final_latent = latent(\n",
    "            mlp_input_dimension=self.latents[-1].out_features\n",
    "            + env_embed_multiplicity * n_scalar_outs,\n",
    "            mlp_output_dimension=None,\n",
    "        )\n",
    "        # - end build modules -\n",
    "\n",
    "        # - layer resnet update weights -\n",
    "        if latent_resnet_update_ratios is None:\n",
    "            # We initialize to zeros, which under the sigmoid() become 0.5\n",
    "            # so 1/2 * layer_1 + 1/4 * layer_2 + ...\n",
    "            # note that the sigmoid of these are the factor _between_ layers\n",
    "            # so the first entry is the ratio for the latent resnet of the first and second layers, etc.\n",
    "            # e.g. if there are 3 layers, there are 2 ratios: l1:l2, l2:l3\n",
    "            latent_resnet_update_params = torch.zeros(self.num_layers)\n",
    "        else:\n",
    "            latent_resnet_update_ratios = torch.as_tensor(\n",
    "                latent_resnet_update_ratios, dtype=torch.get_default_dtype()\n",
    "            )\n",
    "            assert latent_resnet_update_ratios.min() > 0.0\n",
    "            assert latent_resnet_update_ratios.min() < 1.0\n",
    "            latent_resnet_update_params = torch.special.logit(\n",
    "                latent_resnet_update_ratios\n",
    "            )\n",
    "            # The sigmoid is mostly saturated at ±6, keep it in a reasonable range\n",
    "            latent_resnet_update_params.clamp_(-6.0, 6.0)\n",
    "        assert latent_resnet_update_params.shape == (\n",
    "            num_layers,\n",
    "        ), f\"There must be {num_layers} layer resnet update ratios (layer0:layer1, layer1:layer2)\"\n",
    "        if latent_resnet_update_ratios_learnable:\n",
    "            self._latent_resnet_update_params = torch.nn.Parameter(\n",
    "                latent_resnet_update_params\n",
    "            )\n",
    "        else:\n",
    "            self.register_buffer(\n",
    "                \"_latent_resnet_update_params\", latent_resnet_update_params\n",
    "            )\n",
    "\n",
    "        # - Per-layer cutoffs -\n",
    "        if per_layer_cutoffs is None:\n",
    "            per_layer_cutoffs = torch.full((num_layers + 1,), r_max)\n",
    "        self.register_buffer(\"per_layer_cutoffs\", torch.as_tensor(per_layer_cutoffs))\n",
    "        assert torch.all(self.per_layer_cutoffs <= r_max)\n",
    "        assert self.per_layer_cutoffs.shape == (\n",
    "            num_layers + 1,\n",
    "        ), \"Must be one per-layer cutoff for layer 0 and every layer for a total of {num_layers} cutoffs (the first applies to the two body latent, which is 'layer 0')\"\n",
    "        assert (\n",
    "            self.per_layer_cutoffs[1:] <= self.per_layer_cutoffs[:-1]\n",
    "        ).all(), \"Per-layer cutoffs must be equal or decreasing\"\n",
    "        assert (\n",
    "            self.per_layer_cutoffs.min() > 0\n",
    "        ), \"Per-layer cutoffs must be >0. To remove higher layers entirely, lower `num_layers`.\"\n",
    "        self._latent_dim = self.final_latent.out_features\n",
    "        self.register_buffer(\"_zero\", torch.as_tensor(0.0))\n",
    "\n",
    "        self.irreps_out.update(\n",
    "            {\n",
    "                self.latent_out_field: o3.Irreps(\n",
    "                    [(self.final_latent.out_features, (0, 1))]\n",
    "                ),\n",
    "            }\n",
    "        )\n",
    "\n",
    "    def forward(self, data: AtomicDataDict.Type) -> AtomicDataDict.Type:\n",
    "        \"\"\"Evaluate.\n",
    "\n",
    "        :param data: AtomicDataDict.Type\n",
    "        :return: AtomicDataDict.Type\n",
    "        \"\"\"\n",
    "        edge_center = data[AtomicDataDict.EDGE_INDEX_KEY][0]\n",
    "        edge_neighbor = data[AtomicDataDict.EDGE_INDEX_KEY][1]\n",
    "\n",
    "        edge_attr = data[self.field]\n",
    "        # pad edge_attr\n",
    "        if self._input_pad > 0:\n",
    "            edge_attr = torch.cat(\n",
    "                (\n",
    "                    edge_attr,\n",
    "                    self._zero.expand(len(edge_attr), self._input_pad),\n",
    "                ),\n",
    "                dim=-1,\n",
    "            )\n",
    "\n",
    "        edge_length = data[AtomicDataDict.EDGE_LENGTH_KEY]\n",
    "        num_edges: int = len(edge_attr)\n",
    "        edge_invariants = data[self.edge_invariant_field]\n",
    "        node_invariants = data[self.node_invariant_field]\n",
    "        # pre-declare variables as Tensors for TorchScript\n",
    "        scalars = self._zero\n",
    "        coefficient_old = scalars\n",
    "        coefficient_new = scalars\n",
    "        # Initialize state\n",
    "        latents = torch.zeros(\n",
    "            (num_edges, self._latent_dim),\n",
    "            dtype=edge_attr.dtype,\n",
    "            device=edge_attr.device,\n",
    "        )\n",
    "        active_edges = torch.arange(\n",
    "            num_edges,\n",
    "            device=edge_attr.device,\n",
    "        )\n",
    "\n",
    "        # For the first layer, we use the input invariants:\n",
    "        # The center and neighbor invariants and edge invariants\n",
    "        latent_inputs_to_cat = [\n",
    "            node_invariants[edge_center],\n",
    "            node_invariants[edge_neighbor],\n",
    "            edge_invariants,\n",
    "        ]\n",
    "        # The nonscalar features. Initially, the edge data.\n",
    "        features = edge_attr\n",
    "\n",
    "        layer_index: int = 0\n",
    "        # compute the sigmoids vectorized instead of each loop\n",
    "        layer_update_coefficients = self._latent_resnet_update_params.sigmoid()\n",
    "\n",
    "        # Vectorized precompute per layer cutoffs\n",
    "        if self.cutoff_type == \"cosine\":\n",
    "            cutoff_coeffs_all = cosine_cutoff(\n",
    "                edge_length,\n",
    "                self.per_layer_cutoffs,\n",
    "                r_start_cos_ratio=self.r_start_cos_ratio,\n",
    "            )\n",
    "        elif self.cutoff_type == \"polynomial\":\n",
    "            cutoff_coeffs_all = polynomial_cutoff(\n",
    "                edge_length, self.per_layer_cutoffs, p=self.polynomial_cutoff_p\n",
    "            )\n",
    "        else:\n",
    "            # This branch is unreachable (cutoff type is checked in __init__)\n",
    "            # But TorchScript doesn't know that, so we need to make it explicitly\n",
    "            # impossible to make it past so it doesn't throw\n",
    "            # \"cutoff_coeffs_all is not defined in the false branch\"\n",
    "            assert False, \"Invalid cutoff type\"\n",
    "\n",
    "        # !!!! REMEMBER !!!! update final layer if update the code in main loop!!!\n",
    "        # This goes through layer0, layer1, ..., layer_max-1\n",
    "        for latent, env_embed_mlp, env_linear, tp, linear in zip(\n",
    "            self.latents, self.env_embed_mlps, self.env_linears, self.tps, self.linears\n",
    "        ):\n",
    "            # Determine which edges are still in play\n",
    "            cutoff_coeffs = cutoff_coeffs_all[layer_index]\n",
    "            prev_mask = cutoff_coeffs[active_edges] > 0\n",
    "            active_edges = (cutoff_coeffs > 0).nonzero().squeeze(-1)\n",
    "\n",
    "            # Compute latents\n",
    "            new_latents = latent(torch.cat(latent_inputs_to_cat, dim=-1)[prev_mask])\n",
    "            # Apply cutoff, which propagates through to everything else\n",
    "            new_latents = cutoff_coeffs[active_edges].unsqueeze(-1) * new_latents\n",
    "\n",
    "            if self.latent_resnet and layer_index > 0:\n",
    "                this_layer_update_coeff = layer_update_coefficients[layer_index - 1]\n",
    "                # At init, we assume new and old to be approximately uncorrelated\n",
    "                # Thus their variances add\n",
    "                # we always want the latent space to be normalized to variance = 1.0,\n",
    "                # because it is critical for learnability. Still, we want to preserve\n",
    "                # the _relative_ magnitudes of the current latent and the residual update\n",
    "                # to be controled by `this_layer_update_coeff`\n",
    "                # Solving the simple system for the two coefficients:\n",
    "                #   a^2 + b^2 = 1  (variances add)   &    a * this_layer_update_coeff = b\n",
    "                # gives\n",
    "                #   a = 1 / sqrt(1 + this_layer_update_coeff^2)  &  b = this_layer_update_coeff / sqrt(1 + this_layer_update_coeff^2)\n",
    "                # rsqrt is reciprocal sqrt\n",
    "                coefficient_old = torch.rsqrt(this_layer_update_coeff.square() + 1)\n",
    "                coefficient_new = this_layer_update_coeff * coefficient_old\n",
    "                # Residual update\n",
    "                # Note that it only runs when there are latents to resnet with, so not at the first layer\n",
    "                # index_add adds only to the edges for which we have something to contribute\n",
    "                latents = torch.index_add(\n",
    "                    coefficient_old * latents,\n",
    "                    0,\n",
    "                    active_edges,\n",
    "                    coefficient_new * new_latents,\n",
    "                )\n",
    "            else:\n",
    "                # Normal (non-residual) update\n",
    "                # index_copy replaces, unlike index_add\n",
    "                latents = torch.index_copy(latents, 0, active_edges, new_latents)\n",
    "\n",
    "            # From the latents, compute the weights for active edges:\n",
    "            weights = env_embed_mlp(latents[active_edges])\n",
    "            w_index: int = 0\n",
    "\n",
    "            if self.embed_initial_edge and layer_index == 0:\n",
    "                # embed initial edge\n",
    "                env_w = weights.narrow(-1, w_index, self._env_weighter.weight_numel)\n",
    "                w_index += self._env_weighter.weight_numel\n",
    "                features = self._env_weighter(\n",
    "                    features[prev_mask], env_w\n",
    "                )  # features is edge_attr\n",
    "            else:\n",
    "                # just take the previous features that we still need\n",
    "                features = features[prev_mask]\n",
    "\n",
    "            # Extract weights for the environment builder\n",
    "            env_w = weights.narrow(-1, w_index, self._env_weighter.weight_numel)\n",
    "            w_index += self._env_weighter.weight_numel\n",
    "\n",
    "            # Build the local environments\n",
    "            # This local environment should only be a sum over neighbors\n",
    "            # who are within the cutoff of the _current_ layer\n",
    "            # Those are the active edges, which are the only ones we\n",
    "            # have weights for (env_w) anyway.\n",
    "            # So we mask out the edges in the sum:\n",
    "            local_env_per_edge = scatter(\n",
    "                self._env_weighter(edge_attr[active_edges], env_w),\n",
    "                edge_center[active_edges],\n",
    "                dim=0,\n",
    "            )\n",
    "            if self.env_sum_normalizations.ndim < 2:\n",
    "                # it's a scalar per layer\n",
    "                norm_const = self.env_sum_normalizations[layer_index]\n",
    "            else:\n",
    "                # it's per type\n",
    "                # get shape [N_atom, 1] for broadcasting\n",
    "                norm_const = self.env_sum_normalizations[\n",
    "                    layer_index, data[AtomicDataDict.ATOM_TYPE_KEY]\n",
    "                ].unsqueeze(-1)\n",
    "            local_env_per_edge = local_env_per_edge * norm_const\n",
    "            local_env_per_edge = env_linear(local_env_per_edge)\n",
    "            # Copy to get per-edge\n",
    "            # Large allocation, but no better way to do this:\n",
    "            local_env_per_edge = local_env_per_edge[edge_center[active_edges]]\n",
    "\n",
    "            # Now do the TP\n",
    "            # recursively tp current features with the environment embeddings\n",
    "            features = tp(features, local_env_per_edge)\n",
    "\n",
    "            # Get invariants\n",
    "            # features has shape [z][mul][k]\n",
    "            # we know scalars are first\n",
    "            scalars = features[:, :, : self._n_scalar_outs[layer_index]].reshape(\n",
    "                features.shape[0], -1\n",
    "            )\n",
    "\n",
    "            # do the linear\n",
    "            features = linear(features)\n",
    "\n",
    "            # For layer2+, use the previous latents and scalars\n",
    "            # This makes it deep\n",
    "            latent_inputs_to_cat = [\n",
    "                latents[active_edges],\n",
    "                scalars,\n",
    "            ]\n",
    "\n",
    "            # increment co_unter\n",
    "            layer_index += 1\n",
    "\n",
    "        # - final layer -\n",
    "        # due to TorchScript limitations, we have to\n",
    "        # copy and repeat the code here --- no way to\n",
    "        # escape the final iteration of the loop early\n",
    "        cutoff_coeffs = cutoff_coeffs_all[layer_index]\n",
    "        prev_mask = cutoff_coeffs[active_edges] > 0\n",
    "        active_edges = (cutoff_coeffs > 0).nonzero().squeeze(-1)\n",
    "        new_latents = self.final_latent(\n",
    "            torch.cat(latent_inputs_to_cat, dim=-1)[prev_mask]\n",
    "        )\n",
    "        new_latents = cutoff_coeffs[active_edges].unsqueeze(-1) * new_latents\n",
    "        if self.latent_resnet:\n",
    "            this_layer_update_coeff = layer_update_coefficients[layer_index - 1]\n",
    "            coefficient_old = torch.rsqrt(this_layer_update_coeff.square() + 1)\n",
    "            coefficient_new = this_layer_update_coeff * coefficient_old\n",
    "            latents = torch.index_add(\n",
    "                coefficient_old * latents,\n",
    "                0,\n",
    "                active_edges,\n",
    "                coefficient_new * new_latents,\n",
    "            )\n",
    "        else:\n",
    "            latents = torch.index_copy(latents, 0, active_edges, new_latents)\n",
    "        # - end final layer -\n",
    "\n",
    "        # final latents\n",
    "        data[self.latent_out_field] = latents\n",
    "\n",
    "        return data"
   ]
  },
  {
   "cell_type": "markdown",
   "id": "82bc0c3a",
   "metadata": {},
   "source": [
    "### Edge embedding"
   ]
  },
  {
   "cell_type": "code",
   "execution_count": 56,
   "id": "53f2d918",
   "metadata": {},
   "outputs": [],
   "source": [
    "import torch\n",
    "from torch.nn.functional import one_hot\n",
    "from nequip.data import AtomicData, AtomicDataDict\n",
    "from torch.nn.functional import one_hot\n",
    "from e3nn.nn import FullyConnectedNet\n",
    "    \n",
    "from torch import nn\n",
    "import math\n",
    "\n",
    "irreps_in = {}\n",
    "\n",
    "data = AtomicData.to_AtomicDataDict(dataset[0])\n",
    "\n",
    "\n",
    "\n",
    "# edge length embedding\n",
    "torch.manual_seed(32)\n",
    "\n",
    "num_basis = 8\n",
    "r_max = 5\n",
    "\n",
    "\n",
    "data_in = {key: torch.clone(data[key]) for key in data}\n",
    "data_in = AtomicDataDict.with_edge_vectors(data_in, with_lengths=True)\n",
    "\n",
    "edge_length = data_my['edge_lengths']\n",
    "\n",
    "bessel_weights = (torch.linspace(start=1.0, end=num_basis, steps=num_basis) * math.pi)\n",
    "bessel_weights = nn.Parameter(bessel_weights)\n",
    "\n",
    "edge_length_embedding = 2/r_max*torch.sin(bessel_weights * edge_length.unsqueeze(-1) / r_max)/edge_length.unsqueeze(-1)\n",
    "\n",
    "# cutoff\n",
    "factor = 1/r_max\n",
    "p = 6\n",
    "    \n",
    "x = edge_length * factor\n",
    "\n",
    "cutoff = 1.0\n",
    "cutoff = cutoff - (((p + 1.0) * (p + 2.0) / 2.0) * torch.pow(x, p))\n",
    "cutoff = cutoff + (p * (p + 2.0) * torch.pow(x, p + 1.0))\n",
    "cutoff = cutoff - ((p * (p + 1.0) / 2) * torch.pow(x, p + 2.0))\n",
    "cutoff *= (x < 1.0)\n",
    "\n",
    "cutoff = cutoff.unsqueeze(-1)\n",
    "\n",
    "data_in['edge_embedding'] = edge_length_embedding * cutoff\n",
    "\n",
    "irreps_in['edge_embedding'] = o3.Irreps(f'{num_basis}x0e')"
   ]
  },
  {
   "cell_type": "code",
   "execution_count": 57,
   "id": "853efb76",
   "metadata": {},
   "outputs": [
    {
     "data": {
      "text/plain": [
       "torch.Size([364, 8])"
      ]
     },
     "execution_count": 57,
     "metadata": {},
     "output_type": "execute_result"
    }
   ],
   "source": [
    "data_in['edge_embedding'].shape"
   ]
  },
  {
   "cell_type": "code",
   "execution_count": 58,
   "id": "b2f5e7a2",
   "metadata": {},
   "outputs": [
    {
     "data": {
      "text/plain": [
       "8x0e+2x0e"
      ]
     },
     "execution_count": 58,
     "metadata": {},
     "output_type": "execute_result"
    }
   ],
   "source": [
    "irreps_in['edge_embedding'] + '2x0e'"
   ]
  },
  {
   "cell_type": "markdown",
   "id": "f9dabdca",
   "metadata": {},
   "source": [
    "### Node attrs"
   ]
  },
  {
   "cell_type": "code",
   "execution_count": 59,
   "id": "7fecd372",
   "metadata": {},
   "outputs": [],
   "source": [
    "import torch\n",
    "from torch.nn.functional import one_hot\n",
    "from nequip.data import AtomicData, AtomicDataDict\n",
    "from torch.nn.functional import one_hot\n",
    "from e3nn.nn import FullyConnectedNet\n",
    "    \n",
    "from torch import nn\n",
    "import math\n",
    "\n",
    "# types embedding\n",
    "num_classes = 3\n",
    "\n",
    "\n",
    "types_embed = one_hot(data_in['atom_types'], num_classes).squeeze(1)\n",
    "\n",
    "data_in['node_attrs'] = types_embed\n",
    "\n",
    "irreps_in['node_attrs'] = o3.Irreps(f'{num_classes}x0e')"
   ]
  },
  {
   "cell_type": "markdown",
   "id": "6f3ade01",
   "metadata": {},
   "source": [
    "### Edge attrs"
   ]
  },
  {
   "cell_type": "code",
   "execution_count": 60,
   "id": "95f6c569",
   "metadata": {},
   "outputs": [],
   "source": [
    "from torch import nn\n",
    "import math\n",
    "\n",
    "\n",
    "torch.manual_seed(32)\n",
    "\n",
    "\n",
    "l_max = 2\n",
    "irreps_edge_sh = o3.Irreps.spherical_harmonics(2)\n",
    "\n",
    "#data_in = {key: torch.clone(data_in[key]) for key in data_my}\n",
    "data_in = AtomicDataDict.with_edge_vectors(data_in, with_lengths=False)\n",
    "\n",
    "\n",
    "harm_gen = o3.SphericalHarmonics(irreps_edge_sh, True, 'component')\n",
    "\n",
    "edge_vec = data_in['edge_vectors']\n",
    "\n",
    "harm_edge = harm_gen(edge_vec)\n",
    "harm_edge.shape\n",
    "\n",
    "\n",
    "data_in['edge_attrs'] = harm_edge\n",
    "\n",
    "irreps_in['edge_attrs'] = irreps_edge_sh"
   ]
  },
  {
   "cell_type": "code",
   "execution_count": 61,
   "id": "7be743d4",
   "metadata": {},
   "outputs": [],
   "source": [
    "from allegro.nn import Allegro_Module"
   ]
  },
  {
   "cell_type": "code",
   "execution_count": 62,
   "id": "05698ccc",
   "metadata": {},
   "outputs": [
    {
     "name": "stderr",
     "output_type": "stream",
     "text": [
      "/home/vladygin/anaconda3/envs/torch_gcnn/lib/python3.9/site-packages/torch/jit/_check.py:178: UserWarning: The TorchScript type system doesn't support instance-level annotations on empty non-base types in `__init__`. Instead, either 1) use a type annotation in the class body, or 2) wrap the type in `torch.jit.Attribute`.\n",
      "  warnings.warn(\n",
      "/home/vladygin/anaconda3/envs/torch_gcnn/lib/python3.9/site-packages/torch/jit/_check.py:178: UserWarning: The TorchScript type system doesn't support instance-level annotations on empty non-base types in `__init__`. Instead, either 1) use a type annotation in the class body, or 2) wrap the type in `torch.jit.Attribute`.\n",
      "  warnings.warn(\n",
      "/home/vladygin/anaconda3/envs/torch_gcnn/lib/python3.9/site-packages/torch/jit/_check.py:178: UserWarning: The TorchScript type system doesn't support instance-level annotations on empty non-base types in `__init__`. Instead, either 1) use a type annotation in the class body, or 2) wrap the type in `torch.jit.Attribute`.\n",
      "  warnings.warn(\n",
      "/home/vladygin/anaconda3/envs/torch_gcnn/lib/python3.9/site-packages/torch/jit/_check.py:178: UserWarning: The TorchScript type system doesn't support instance-level annotations on empty non-base types in `__init__`. Instead, either 1) use a type annotation in the class body, or 2) wrap the type in `torch.jit.Attribute`.\n",
      "  warnings.warn(\n",
      "/home/vladygin/anaconda3/envs/torch_gcnn/lib/python3.9/site-packages/torch/jit/_check.py:178: UserWarning: The TorchScript type system doesn't support instance-level annotations on empty non-base types in `__init__`. Instead, either 1) use a type annotation in the class body, or 2) wrap the type in `torch.jit.Attribute`.\n",
      "  warnings.warn(\n",
      "/home/vladygin/anaconda3/envs/torch_gcnn/lib/python3.9/site-packages/torch/jit/_check.py:178: UserWarning: The TorchScript type system doesn't support instance-level annotations on empty non-base types in `__init__`. Instead, either 1) use a type annotation in the class body, or 2) wrap the type in `torch.jit.Attribute`.\n",
      "  warnings.warn(\n",
      "/home/vladygin/anaconda3/envs/torch_gcnn/lib/python3.9/site-packages/torch/jit/_check.py:178: UserWarning: The TorchScript type system doesn't support instance-level annotations on empty non-base types in `__init__`. Instead, either 1) use a type annotation in the class body, or 2) wrap the type in `torch.jit.Attribute`.\n",
      "  warnings.warn(\n",
      "/home/vladygin/anaconda3/envs/torch_gcnn/lib/python3.9/site-packages/torch/jit/_check.py:178: UserWarning: The TorchScript type system doesn't support instance-level annotations on empty non-base types in `__init__`. Instead, either 1) use a type annotation in the class body, or 2) wrap the type in `torch.jit.Attribute`.\n",
      "  warnings.warn(\n",
      "/home/vladygin/anaconda3/envs/torch_gcnn/lib/python3.9/site-packages/torch/jit/_check.py:178: UserWarning: The TorchScript type system doesn't support instance-level annotations on empty non-base types in `__init__`. Instead, either 1) use a type annotation in the class body, or 2) wrap the type in `torch.jit.Attribute`.\n",
      "  warnings.warn(\n"
     ]
    },
    {
     "data": {
      "text/plain": [
       "Allegro_Module(\n",
       "  (latents): ModuleList(\n",
       "    (0-1): 2 x ScalarMLPFunction(\n",
       "      (_forward): RecursiveScriptModule(original_name=GraphModule)\n",
       "    )\n",
       "  )\n",
       "  (env_embed_mlps): ModuleList(\n",
       "    (0-1): 2 x ScalarMLPFunction(\n",
       "      (_forward): RecursiveScriptModule(original_name=GraphModule)\n",
       "    )\n",
       "  )\n",
       "  (tps): ModuleList(\n",
       "    (0-1): 2 x RecursiveScriptModule(original_name=GraphModule)\n",
       "  )\n",
       "  (linears): ModuleList(\n",
       "    (0-1): 2 x RecursiveScriptModule(original_name=GraphModule)\n",
       "  )\n",
       "  (env_linears): ModuleList(\n",
       "    (0-1): 2 x Identity()\n",
       "  )\n",
       "  (_env_weighter): MakeWeightedChannels()\n",
       "  (final_latent): ScalarMLPFunction(\n",
       "    (_forward): RecursiveScriptModule(original_name=GraphModule)\n",
       "  )\n",
       ")"
      ]
     },
     "execution_count": 62,
     "metadata": {},
     "output_type": "execute_result"
    }
   ],
   "source": [
    "#self, # required params\n",
    "# num_layers: int, num_types: int,\n",
    "# r_max: float, avg_num_neighbors: Optional[float] = None,\n",
    "# cutoffs\n",
    "# r_start_cos_ratio: float = 0.8, PolynomialCutoff_p: float = 6,\n",
    "# per_layer_cutoffs: Optional[List[float]] = None, cutoff_type: str = \"polynomial\",\n",
    "# general hyperparameters:\n",
    "# field: str = AtomicDataDict.EDGE_ATTRS_KEY,\n",
    "# edge_invariant_field: str = AtomicDataDict.EDGE_EMBEDDING_KEY,\n",
    "# node_invariant_field: str = AtomicDataDict.NODE_ATTRS_KEY,\n",
    "# env_embed_multiplicity: int = 32,\n",
    "# embed_initial_edge: bool = True,\n",
    "# linear_after_env_embed: bool = False,\n",
    "# nonscalars_include_parity: bool = True,\n",
    "# MLP parameters:\n",
    "# two_body_latent=ScalarMLPFunction,\n",
    "# two_body_latent_kwargs={},\n",
    "# env_embed=ScalarMLPFunction,\n",
    "# env_embed_kwargs={},\n",
    "# latent=ScalarMLPFunction,\n",
    "# latent_kwargs={}, latent_resnet: bool = True,\n",
    "# latent_resnet_update_ratios: Optional[List[float]] = None,\n",
    "# latent_resnet_update_ratios_learnable: bool = False,\n",
    "# latent_out_field: Optional[str] = _keys.EDGE_FEATURES,\n",
    "# Performance parameters:\n",
    "# pad_to_alignment: int = 1,\n",
    "# sparse_mode: Optional[str] = None,\n",
    "# Other:\n",
    "# irreps_in=None,\n",
    "\n",
    "Main_Module = Allegro_Module(r_max = 5,\n",
    "               num_layers = 2,\n",
    "               num_types = 3,\n",
    "               avg_num_neighbors=10., \n",
    "               two_body_latent_kwargs={'mlp_latent_dimensions': [32]},\n",
    "               latent_kwargs={'mlp_latent_dimensions': [32]},\n",
    "               env_embed_kwargs={'mlp_latent_dimensions': [32]},\n",
    "               irreps_in=irreps_in)\n",
    "\n",
    "Main_Module"
   ]
  },
  {
   "cell_type": "code",
   "execution_count": 63,
   "id": "cf7454aa",
   "metadata": {},
   "outputs": [
    {
     "name": "stdout",
     "output_type": "stream",
     "text": [
      "True\n"
     ]
    }
   ],
   "source": [
    "Main_Module(data_in)\n",
    "\n",
    "print('True')"
   ]
  },
  {
   "cell_type": "code",
   "execution_count": 64,
   "id": "0d214f51",
   "metadata": {},
   "outputs": [],
   "source": [
    "class Preprocessing(GraphModuleMixin, torch.nn.Module):\n",
    "    \n",
    "    def __init__(self, irreps_in = None):\n",
    "        super().__init__()\n",
    "        self._init_irreps(\n",
    "            irreps_in=irreps_in,\n",
    "            irreps_out = {'edge_embedding': '8x0e', 'node_attrs': '3x0e', 'edge_attrs': '1x0e+1x1o+1x2e'}\n",
    "        )\n",
    "        \n",
    "        #self.irreps_in = irreps_in\n",
    "        #self.irreps_out = {'edge_embedding': '8x0e', 'node_attrs': '3x0e', 'edge_attrs': '1x0e+1x1o+1x2e'}\n",
    "    \n",
    "    def forward(self, data_in):\n",
    "        \n",
    "        \n",
    "        \n",
    "        import torch\n",
    "        from torch.nn.functional import one_hot\n",
    "        from nequip.data import AtomicData, AtomicDataDict\n",
    "        from torch.nn.functional import one_hot\n",
    "        from e3nn.nn import FullyConnectedNet\n",
    "\n",
    "        from torch import nn\n",
    "        import math\n",
    "\n",
    "        irreps_in = {}\n",
    "\n",
    "\n",
    "\n",
    "        # edge length embedding\n",
    "        torch.manual_seed(32)\n",
    "\n",
    "        num_basis = 8\n",
    "        r_max = 5\n",
    "\n",
    "\n",
    "        #data_in = {key: torch.clone(data_in[key]) for key in data}\n",
    "        data_in = AtomicDataDict.with_edge_vectors(data_in, with_lengths=True)\n",
    "\n",
    "        edge_length = data_in['edge_lengths']\n",
    "\n",
    "        bessel_weights = (torch.linspace(start=1.0, end=num_basis, steps=num_basis) * math.pi)\n",
    "        bessel_weights = nn.Parameter(bessel_weights)\n",
    "\n",
    "        edge_length_embedding = 2/r_max*torch.sin(bessel_weights * edge_length.unsqueeze(-1) / r_max)/edge_length.unsqueeze(-1)\n",
    "\n",
    "        # cutoff\n",
    "        factor = 1/r_max\n",
    "        p = 6\n",
    "\n",
    "        x = edge_length * factor\n",
    "\n",
    "        cutoff = 1.0\n",
    "        cutoff = cutoff - (((p + 1.0) * (p + 2.0) / 2.0) * torch.pow(x, p))\n",
    "        cutoff = cutoff + (p * (p + 2.0) * torch.pow(x, p + 1.0))\n",
    "        cutoff = cutoff - ((p * (p + 1.0) / 2) * torch.pow(x, p + 2.0))\n",
    "        cutoff *= (x < 1.0)\n",
    "\n",
    "        cutoff = cutoff.unsqueeze(-1)\n",
    "\n",
    "        data_in['edge_embedding'] = edge_length_embedding * cutoff\n",
    "\n",
    "        irreps_in['edge_embedding'] = o3.Irreps(f'{num_basis}x0e')\n",
    "        \n",
    "        import torch\n",
    "        from torch.nn.functional import one_hot\n",
    "        from nequip.data import AtomicData, AtomicDataDict\n",
    "        from torch.nn.functional import one_hot\n",
    "        from e3nn.nn import FullyConnectedNet\n",
    "\n",
    "        from torch import nn\n",
    "        import math\n",
    "\n",
    "        # types embedding\n",
    "        num_classes = 3\n",
    "\n",
    "\n",
    "        types_embed = one_hot(data_in['atom_types'], num_classes).squeeze(1)\n",
    "\n",
    "        data_in['node_attrs'] = types_embed\n",
    "\n",
    "        irreps_in['node_attrs'] = o3.Irreps(f'{num_classes}x0e')\n",
    "        \n",
    "        # Edge attrs\n",
    "        from torch import nn\n",
    "        import math\n",
    "\n",
    "\n",
    "        torch.manual_seed(32)\n",
    "\n",
    "\n",
    "        l_max = 2\n",
    "        irreps_edge_sh = o3.Irreps.spherical_harmonics(2)\n",
    "\n",
    "        #data_in = {key: torch.clone(data_in[key]) for key in data_my}\n",
    "        data_in = AtomicDataDict.with_edge_vectors(data_in, with_lengths=False)\n",
    "\n",
    "\n",
    "        harm_gen = o3.SphericalHarmonics(irreps_edge_sh, True, 'component')\n",
    "\n",
    "        edge_vec = data_in['edge_vectors']\n",
    "\n",
    "        harm_edge = harm_gen(edge_vec)\n",
    "        harm_edge.shape\n",
    "\n",
    "\n",
    "        data_in['edge_attrs'] = harm_edge\n",
    "\n",
    "        irreps_in['edge_attrs'] = irreps_edge_sh\n",
    "        \n",
    "        return data_in"
   ]
  },
  {
   "cell_type": "code",
   "execution_count": 65,
   "id": "52c03ebe",
   "metadata": {},
   "outputs": [],
   "source": [
    "Preprocessing_module_my = Preprocessing()\n",
    "\n",
    "data = AtomicData.to_AtomicDataDict(dataset[0])\n",
    "\n",
    "#Main_Module_my(Preprocessing_module_my(data))"
   ]
  },
  {
   "cell_type": "code",
   "execution_count": 66,
   "id": "6adcdf6a",
   "metadata": {},
   "outputs": [],
   "source": [
    "@compile_mode(\"script\")\n",
    "class Allegro_Module_my(GraphModuleMixin, torch.nn.Module):\n",
    "    # saved params\n",
    "    num_layers: int\n",
    "    field: str\n",
    "    out_field: str\n",
    "    num_types: int\n",
    "    env_embed_mul: int\n",
    "    weight_numel: int\n",
    "    latent_resnet: bool\n",
    "    embed_initial_edge: bool\n",
    "\n",
    "    # internal values\n",
    "    _env_builder_w_index: List[int]\n",
    "    _env_builder_n_irreps: int\n",
    "    _input_pad: int\n",
    "\n",
    "    def __init__(\n",
    "        self,\n",
    "        # required params\n",
    "        num_layers: int,\n",
    "        num_types: int,\n",
    "        r_max: float,\n",
    "        avg_num_neighbors: Optional[float] = None,\n",
    "        # cutoffs\n",
    "        r_start_cos_ratio: float = 0.8,\n",
    "        PolynomialCutoff_p: float = 6,\n",
    "        per_layer_cutoffs: Optional[List[float]] = None,\n",
    "        cutoff_type: str = \"polynomial\",\n",
    "        # general hyperparameters:\n",
    "        field: str = AtomicDataDict.EDGE_ATTRS_KEY,\n",
    "        edge_invariant_field: str = AtomicDataDict.EDGE_EMBEDDING_KEY,\n",
    "        node_invariant_field: str = AtomicDataDict.NODE_ATTRS_KEY,\n",
    "        env_embed_multiplicity: int = 32,\n",
    "        embed_initial_edge: bool = True,\n",
    "        linear_after_env_embed: bool = False,\n",
    "        nonscalars_include_parity: bool = True,\n",
    "        # MLP parameters:\n",
    "        #two_body_latent=ScalarMLPFunction,\n",
    "        #two_body_latent_kwargs={},\n",
    "        #env_embed=ScalarMLPFunction,\n",
    "        #env_embed_kwargs={},\n",
    "        #latent=ScalarMLPFunction,\n",
    "        #latent_kwargs={},\n",
    "        latent_resnet: bool = True,\n",
    "        #latent_resnet_update_ratios: Optional[List[float]] = None,\n",
    "        #latent_resnet_update_ratios_learnable: bool = False,\n",
    "        latent_out_field: Optional[str] = 'edge_features',\n",
    "        # Performance parameters:\n",
    "        pad_to_alignment: int = 1,\n",
    "        sparse_mode: Optional[str] = None,\n",
    "        # Other:\n",
    "        irreps_in=None,\n",
    "    ):\n",
    "        super().__init__()\n",
    "        SCALAR = o3.Irrep(\"0e\")  # define for convinience\n",
    "\n",
    "        # save parameters\n",
    "        assert (\n",
    "            num_layers >= 1\n",
    "        )  # zero layers is \"two body\", but we don't need to support that fallback case\n",
    "        self.num_layers = num_layers\n",
    "        self.nonscalars_include_parity = nonscalars_include_parity\n",
    "        self.field = field\n",
    "        self.latent_out_field = latent_out_field\n",
    "        self.edge_invariant_field = edge_invariant_field\n",
    "        self.node_invariant_field = node_invariant_field\n",
    "        self.latent_resnet = latent_resnet\n",
    "        self.env_embed_mul = env_embed_multiplicity\n",
    "        self.r_start_cos_ratio = r_start_cos_ratio\n",
    "        self.polynomial_cutoff_p = float(PolynomialCutoff_p)\n",
    "        self.cutoff_type = cutoff_type\n",
    "        assert cutoff_type in (\"cosine\", \"polynomial\")\n",
    "        self.embed_initial_edge = embed_initial_edge\n",
    "        self.avg_num_neighbors = avg_num_neighbors\n",
    "        self.linear_after_env_embed = linear_after_env_embed\n",
    "        self.num_types = num_types\n",
    "\n",
    "        # set up irreps\n",
    "        self._init_irreps(\n",
    "            irreps_in=irreps_in,\n",
    "            required_irreps_in=[\n",
    "                self.field,\n",
    "                self.edge_invariant_field,\n",
    "                self.node_invariant_field,\n",
    "            ],\n",
    "        )\n",
    "\n",
    "        # for normalization of env embed sums\n",
    "        # one per layer\n",
    "        self.register_buffer(\n",
    "            \"env_sum_normalizations\",\n",
    "            # dividing by sqrt(N)\n",
    "            torch.as_tensor([avg_num_neighbors] * num_layers).rsqrt(),\n",
    "        )\n",
    "\n",
    "\n",
    "        self.latents = torch.nn.ModuleList([])\n",
    "        self.env_embed_mlps = torch.nn.ModuleList([])\n",
    "        self.tps = torch.nn.ModuleList([])\n",
    "        self.linears = torch.nn.ModuleList([])\n",
    "        self.env_linears = torch.nn.ModuleList([])\n",
    "\n",
    "        # Embed to the spharm * it as mul\n",
    "        input_irreps = self.irreps_in[self.field]\n",
    "        # this is not inherant, but no reason to fix right now:\n",
    "        \n",
    "        irrep_hidden = o3.Irreps('32x0e + 32x0o + 32x1e + 32x1o + 32x2e + 32x2e')\n",
    "        irrep_hidden_last = o3.Irreps('32x0e')\n",
    "        \n",
    "        n_basis = 8\n",
    "        \n",
    "        \n",
    "        # First layer\n",
    "        self.latents.append(o3.Linear(o3.Irreps(f'{n_basis + 2 * num_types}x0e'),\n",
    "                                               '32x0e'))\n",
    "        \n",
    "        \n",
    "        self.env_embed_mlps.append(o3.Linear(self.latents[-1].irreps_out, self.latents[-1].irreps_out))\n",
    "        \n",
    "        self.env_linears.append(FullyConnectedTensorProduct(\n",
    "            self.env_embed_mlps[-1].irreps_out,\n",
    "            irreps_in['edge_attrs'],\n",
    "            o3.Irreps([(self.env_embed_mlps[-1].irreps_out[0][0], el[1]) for el in irreps_in['edge_attrs']])\n",
    "        ))\n",
    "        \n",
    "        self.tps.append(FullyConnectedTensorProduct(\n",
    "            irreps_in['edge_attrs'],\n",
    "            self.env_linears[-1].irreps_out,\n",
    "            irrep_hidden\n",
    "        ))\n",
    "        \n",
    "        self.linears.append(o3.Linear(self.tps[-1].irreps_out, self.tps[-1].irreps_out))\n",
    "        \n",
    "        # Second and later layers\n",
    "        for i in range(num_layers - 1):\n",
    "            self.latents.append(o3.Linear('64x0e', '32x0e'))\n",
    "            self.env_embed_mlps.append(o3.Linear(self.latents[-1].irreps_out, self.latents[-1].irreps_out))\n",
    "            \n",
    "            self.env_linears.append(FullyConnectedTensorProduct(\n",
    "                self.env_embed_mlps[-1].irreps_out,\n",
    "                irreps_in['edge_attrs'],\n",
    "                o3.Irreps([(self.env_embed_mlps[-1].irreps_out[0][0], el[1]) for el in irreps_in['edge_attrs']])\n",
    "            ))\n",
    "            \n",
    "            if i != num_layers - 1:\n",
    "                self.tps.append(FullyConnectedTensorProduct(\n",
    "                    irrep_hidden,\n",
    "                    self.env_linears[-1].irreps_out,\n",
    "                    irrep_hidden\n",
    "                ))\n",
    "            # Handling last layer other way\n",
    "            else:\n",
    "                self.tps.append(FullyConnectedTensorProduct(\n",
    "                    irrep_hidden,\n",
    "                    self.env_linears[-1].irreps_out,\n",
    "                    irrep_hidden_last\n",
    "                ))\n",
    "                \n",
    "            self.linears.append(o3.Linear(self.tps[-1].irreps_out, self.tps[-1].irreps_out))\n",
    "            \n",
    "        \n",
    "        self.final_latent = o3.Linear('64x0e', '32x0e')\n",
    "        self.irreps_out['edge_features'] = o3.Irreps('32x0e')\n",
    "        \n",
    "        \n",
    "    def forward(self, data: AtomicDataDict.Type) -> AtomicDataDict.Type:\n",
    "        \n",
    "        \"\"\"Evaluate.\n",
    "\n",
    "        :param data: AtomicDataDict.Type\n",
    "        :return: AtomicDataDict.Type\n",
    "        \"\"\"\n",
    "        data['forces'] = torch.zeros_like(data['pos'])\n",
    "        \n",
    "        edge_center = data[AtomicDataDict.EDGE_INDEX_KEY][0]\n",
    "        edge_neighbor = data[AtomicDataDict.EDGE_INDEX_KEY][1]\n",
    "\n",
    "        edge_attr = data[self.field]\n",
    "        # pad edge_attr\n",
    "        #if self._input_pad > 0:\n",
    "        #    edge_attr = torch.cat(\n",
    "        #        (\n",
    "        #           edge_attr,\n",
    "        #            self._zero.expand(len(edge_attr), self._input_pad),\n",
    "        #        ),\n",
    "        #        dim=-1,\n",
    "        #    )\n",
    "        # The nonscalar features. Initially, the edge data.\n",
    "        features = edge_attr\n",
    "        \n",
    "        \n",
    "        edge_length = data[AtomicDataDict.EDGE_LENGTH_KEY]\n",
    "        num_edges: int = len(edge_attr)\n",
    "        edge_invariants = data[self.edge_invariant_field]\n",
    "        node_invariants = data[self.node_invariant_field]\n",
    "\n",
    "        \n",
    "        # For the first layer, we use the input invariants:\n",
    "        # The center and neighbor invariants and edge invariants\n",
    "        latent_inputs_to_cat = [\n",
    "            node_invariants[edge_center],\n",
    "            node_invariants[edge_neighbor],\n",
    "            edge_invariants,\n",
    "        ]\n",
    "        \n",
    "        # cutoff\n",
    "        r_max = 5\n",
    "        \n",
    "        factor = 1/r_max\n",
    "        p = 6\n",
    "\n",
    "        x = edge_length * factor\n",
    "\n",
    "        cutoff = 1.0\n",
    "        cutoff = cutoff - (((p + 1.0) * (p + 2.0) / 2.0) * torch.pow(x, p))\n",
    "        cutoff = cutoff + (p * (p + 2.0) * torch.pow(x, p + 1.0))\n",
    "        cutoff = cutoff - ((p * (p + 1.0) / 2) * torch.pow(x, p + 2.0))\n",
    "        cutoff *= (x < 1.0)\n",
    "\n",
    "        cutoff_coeffs = cutoff\n",
    "        \n",
    "        layer_index = 0\n",
    "        # !!!! REMEMBER !!!! update final layer if update the code in main loop!!!\n",
    "        # This goes through layer0, layer1, ..., layer_max-1\n",
    "        for latent, env_embed_mlp, env_linear, tp, linear in zip(\n",
    "            self.latents, self.env_embed_mlps, self.env_linears, self.tps, self.linears\n",
    "        ):\n",
    "            # Determine which edges are still in play\n",
    "            new_latents = latent(torch.cat(latent_inputs_to_cat, dim=-1))\n",
    "            # Apply cutoff, which propagates through to everything else\n",
    "            new_latents = cutoff_coeffs.unsqueeze(-1) * new_latents\n",
    "\n",
    "            if self.latent_resnet and layer_index > 0:\n",
    "                # Residual update\n",
    "                latents += new_latents\n",
    "            else:\n",
    "                latents = new_latents\n",
    "                \n",
    "            # From the latents, compute the weights for active edges:\n",
    "            weights = env_embed_mlp(latents)\n",
    "            w_index: int = 0\n",
    "\n",
    "            # Produce right array of features with channels\n",
    "            local_env_per_edge = env_linear(weights, edge_attr)\n",
    "            \n",
    "            # Sum over the env\n",
    "            local_env_per_edge = scatter(local_env_per_edge[edge_neighbor], \n",
    "                                           edge_center, dim=0, dim_size=len(edge_center))\n",
    "            \n",
    "            # Now do the TP\n",
    "            # recursively tp current features with the environment embeddings\n",
    "            features = tp(features, local_env_per_edge)\n",
    "\n",
    "            \n",
    "            print(features.shape, local_env_per_edge.shape)\n",
    "            # Get invariants\n",
    "            # features has shape [z][mul][k]\n",
    "            # we know scalars are first\n",
    "            scalars = features[:, :32].reshape(\n",
    "                features.shape[0], 32)\n",
    "\n",
    "            # do the linear\n",
    "            features = linear(features)\n",
    "\n",
    "            # For layer2+, use the previous latents and scalars\n",
    "            # This makes it deep\n",
    "            latent_inputs_to_cat = [\n",
    "                latents,\n",
    "                scalars,\n",
    "            ]\n",
    "\n",
    "            # increment counter\n",
    "            layer_index += 1\n",
    "\n",
    "        # - final layer -\n",
    "        \n",
    "        new_latents = self.final_latent(\n",
    "            torch.cat(latent_inputs_to_cat, dim=-1)\n",
    "        )\n",
    "        new_latents = cutoff_coeffs.unsqueeze(-1) * new_latents\n",
    "        \n",
    "        latents += new_latents\n",
    "        # - end final layer -\n",
    "\n",
    "        # final latents\n",
    "        data['edge_features'] = latents\n",
    "\n",
    "        return data"
   ]
  },
  {
   "cell_type": "code",
   "execution_count": 67,
   "id": "f2ee493b",
   "metadata": {},
   "outputs": [
    {
     "data": {
      "text/plain": [
       "{'edge_embedding': 8x0e, 'node_attrs': 3x0e, 'edge_attrs': 1x0e+1x1o+1x2e}"
      ]
     },
     "execution_count": 67,
     "metadata": {},
     "output_type": "execute_result"
    }
   ],
   "source": [
    "irreps_in"
   ]
  },
  {
   "cell_type": "code",
   "execution_count": 68,
   "id": "741d47ca",
   "metadata": {},
   "outputs": [
    {
     "name": "stderr",
     "output_type": "stream",
     "text": [
      "/home/vladygin/anaconda3/envs/torch_gcnn/lib/python3.9/site-packages/torch/jit/_check.py:178: UserWarning: The TorchScript type system doesn't support instance-level annotations on empty non-base types in `__init__`. Instead, either 1) use a type annotation in the class body, or 2) wrap the type in `torch.jit.Attribute`.\n",
      "  warnings.warn(\n",
      "/home/vladygin/anaconda3/envs/torch_gcnn/lib/python3.9/site-packages/torch/jit/_check.py:178: UserWarning: The TorchScript type system doesn't support instance-level annotations on empty non-base types in `__init__`. Instead, either 1) use a type annotation in the class body, or 2) wrap the type in `torch.jit.Attribute`.\n",
      "  warnings.warn(\n",
      "/home/vladygin/anaconda3/envs/torch_gcnn/lib/python3.9/site-packages/torch/jit/_check.py:178: UserWarning: The TorchScript type system doesn't support instance-level annotations on empty non-base types in `__init__`. Instead, either 1) use a type annotation in the class body, or 2) wrap the type in `torch.jit.Attribute`.\n",
      "  warnings.warn(\n",
      "/home/vladygin/anaconda3/envs/torch_gcnn/lib/python3.9/site-packages/torch/jit/_check.py:178: UserWarning: The TorchScript type system doesn't support instance-level annotations on empty non-base types in `__init__`. Instead, either 1) use a type annotation in the class body, or 2) wrap the type in `torch.jit.Attribute`.\n",
      "  warnings.warn(\n",
      "/home/vladygin/anaconda3/envs/torch_gcnn/lib/python3.9/site-packages/torch/jit/_check.py:178: UserWarning: The TorchScript type system doesn't support instance-level annotations on empty non-base types in `__init__`. Instead, either 1) use a type annotation in the class body, or 2) wrap the type in `torch.jit.Attribute`.\n",
      "  warnings.warn(\n",
      "/home/vladygin/anaconda3/envs/torch_gcnn/lib/python3.9/site-packages/torch/jit/_check.py:178: UserWarning: The TorchScript type system doesn't support instance-level annotations on empty non-base types in `__init__`. Instead, either 1) use a type annotation in the class body, or 2) wrap the type in `torch.jit.Attribute`.\n",
      "  warnings.warn(\n",
      "/home/vladygin/anaconda3/envs/torch_gcnn/lib/python3.9/site-packages/torch/jit/_check.py:178: UserWarning: The TorchScript type system doesn't support instance-level annotations on empty non-base types in `__init__`. Instead, either 1) use a type annotation in the class body, or 2) wrap the type in `torch.jit.Attribute`.\n",
      "  warnings.warn(\n",
      "/home/vladygin/anaconda3/envs/torch_gcnn/lib/python3.9/site-packages/torch/jit/_check.py:178: UserWarning: The TorchScript type system doesn't support instance-level annotations on empty non-base types in `__init__`. Instead, either 1) use a type annotation in the class body, or 2) wrap the type in `torch.jit.Attribute`.\n",
      "  warnings.warn(\n",
      "/home/vladygin/anaconda3/envs/torch_gcnn/lib/python3.9/site-packages/torch/jit/_check.py:178: UserWarning: The TorchScript type system doesn't support instance-level annotations on empty non-base types in `__init__`. Instead, either 1) use a type annotation in the class body, or 2) wrap the type in `torch.jit.Attribute`.\n",
      "  warnings.warn(\n",
      "/home/vladygin/anaconda3/envs/torch_gcnn/lib/python3.9/site-packages/torch/jit/_check.py:178: UserWarning: The TorchScript type system doesn't support instance-level annotations on empty non-base types in `__init__`. Instead, either 1) use a type annotation in the class body, or 2) wrap the type in `torch.jit.Attribute`.\n",
      "  warnings.warn(\n",
      "/home/vladygin/anaconda3/envs/torch_gcnn/lib/python3.9/site-packages/torch/jit/_check.py:178: UserWarning: The TorchScript type system doesn't support instance-level annotations on empty non-base types in `__init__`. Instead, either 1) use a type annotation in the class body, or 2) wrap the type in `torch.jit.Attribute`.\n",
      "  warnings.warn(\n",
      "/home/vladygin/anaconda3/envs/torch_gcnn/lib/python3.9/site-packages/torch/jit/_check.py:178: UserWarning: The TorchScript type system doesn't support instance-level annotations on empty non-base types in `__init__`. Instead, either 1) use a type annotation in the class body, or 2) wrap the type in `torch.jit.Attribute`.\n",
      "  warnings.warn(\n",
      "/home/vladygin/anaconda3/envs/torch_gcnn/lib/python3.9/site-packages/torch/jit/_check.py:178: UserWarning: The TorchScript type system doesn't support instance-level annotations on empty non-base types in `__init__`. Instead, either 1) use a type annotation in the class body, or 2) wrap the type in `torch.jit.Attribute`.\n",
      "  warnings.warn(\n",
      "/home/vladygin/anaconda3/envs/torch_gcnn/lib/python3.9/site-packages/torch/jit/_check.py:178: UserWarning: The TorchScript type system doesn't support instance-level annotations on empty non-base types in `__init__`. Instead, either 1) use a type annotation in the class body, or 2) wrap the type in `torch.jit.Attribute`.\n",
      "  warnings.warn(\n",
      "/home/vladygin/anaconda3/envs/torch_gcnn/lib/python3.9/site-packages/torch/jit/_check.py:178: UserWarning: The TorchScript type system doesn't support instance-level annotations on empty non-base types in `__init__`. Instead, either 1) use a type annotation in the class body, or 2) wrap the type in `torch.jit.Attribute`.\n",
      "  warnings.warn(\n",
      "/home/vladygin/anaconda3/envs/torch_gcnn/lib/python3.9/site-packages/torch/jit/_check.py:178: UserWarning: The TorchScript type system doesn't support instance-level annotations on empty non-base types in `__init__`. Instead, either 1) use a type annotation in the class body, or 2) wrap the type in `torch.jit.Attribute`.\n",
      "  warnings.warn(\n"
     ]
    },
    {
     "data": {
      "text/plain": [
       "Allegro_Module_my(\n",
       "  (latents): ModuleList(\n",
       "    (0): Linear(14x0e -> 32x0e | 448 weights)\n",
       "    (1-2): 2 x Linear(64x0e -> 32x0e | 2048 weights)\n",
       "  )\n",
       "  (env_embed_mlps): ModuleList(\n",
       "    (0-2): 3 x Linear(32x0e -> 32x0e | 1024 weights)\n",
       "  )\n",
       "  (tps): ModuleList(\n",
       "    (0): FullyConnectedTensorProduct(1x0e+1x1o+1x2e x 32x0e+32x1o+32x2e -> 32x0e+32x0o+32x1e+32x1o+64x2e | 17408 paths | 17408 weights)\n",
       "    (1-2): 2 x FullyConnectedTensorProduct(32x0e+32x0o+32x1e+32x1o+64x2e x 32x0e+32x1o+32x2e -> 32x0e+32x0o+32x1e+32x1o+64x2e | 1048576 paths | 1048576 weights)\n",
       "  )\n",
       "  (linears): ModuleList(\n",
       "    (0-2): 3 x Linear(32x0e+32x0o+32x1e+32x1o+32x2e+32x2e -> 32x0e+32x0o+32x1e+32x1o+32x2e+32x2e | 8192 weights)\n",
       "  )\n",
       "  (env_linears): ModuleList(\n",
       "    (0-2): 3 x FullyConnectedTensorProduct(32x0e x 1x0e+1x1o+1x2e -> 32x0e+32x1o+32x2e | 3072 paths | 3072 weights)\n",
       "  )\n",
       "  (final_latent): Linear(64x0e -> 32x0e | 2048 weights)\n",
       ")"
      ]
     },
     "execution_count": 68,
     "metadata": {},
     "output_type": "execute_result"
    }
   ],
   "source": [
    "Main_Module_my = Allegro_Module_my(r_max = 5,\n",
    "               num_layers = 3,\n",
    "               num_types = 3,\n",
    "               avg_num_neighbors=10., \n",
    "               irreps_in=irreps_in)\n",
    "\n",
    "Main_Module_my"
   ]
  },
  {
   "cell_type": "code",
   "execution_count": 69,
   "id": "4ee12401",
   "metadata": {},
   "outputs": [
    {
     "name": "stdout",
     "output_type": "stream",
     "text": [
      "torch.Size([364, 576]) torch.Size([364, 288])\n",
      "torch.Size([364, 576]) torch.Size([364, 288])\n",
      "torch.Size([364, 576]) torch.Size([364, 288])\n"
     ]
    },
    {
     "data": {
      "text/plain": [
       "torch.Size([364, 32])"
      ]
     },
     "execution_count": 69,
     "metadata": {},
     "output_type": "execute_result"
    }
   ],
   "source": [
    "Main_Module_my(data_in)['edge_features'].shape"
   ]
  },
  {
   "cell_type": "code",
   "execution_count": 70,
   "id": "458183ed",
   "metadata": {},
   "outputs": [
    {
     "data": {
      "text/plain": [
       "32x0e+32x1o+32x2e"
      ]
     },
     "execution_count": 70,
     "metadata": {},
     "output_type": "execute_result"
    }
   ],
   "source": [
    "a = o3.Irreps('32x0e') \n",
    "b = o3.Irreps('1x0e + 1x1o + 1x2e')\n",
    "\n",
    "\n",
    "o3.Irreps([(a[0][0], el[1]) for el in b])"
   ]
  },
  {
   "cell_type": "code",
   "execution_count": 71,
   "id": "97015f6b",
   "metadata": {},
   "outputs": [
    {
     "data": {
      "text/plain": [
       "GraphModel(\n",
       "  (model): RescaleOutput(\n",
       "    (model): GradientOutput(\n",
       "      (func): SequentialGraphNetwork(\n",
       "        (one_hot): OneHotAtomEncoding()\n",
       "        (radial_basis): RadialBasisEdgeEncoding(\n",
       "          (basis): NormalizedBasis(\n",
       "            (basis): BesselBasis()\n",
       "          )\n",
       "          (cutoff): PolynomialCutoff()\n",
       "        )\n",
       "        (spharm): SphericalHarmonicEdgeAttrs(\n",
       "          (sh): SphericalHarmonics()\n",
       "        )\n",
       "        (allegro): Allegro_Module(\n",
       "          (latents): ModuleList(\n",
       "            (0-1): 2 x ScalarMLPFunction(\n",
       "              (_forward): RecursiveScriptModule(original_name=GraphModule)\n",
       "            )\n",
       "          )\n",
       "          (env_embed_mlps): ModuleList(\n",
       "            (0-1): 2 x ScalarMLPFunction(\n",
       "              (_forward): RecursiveScriptModule(original_name=GraphModule)\n",
       "            )\n",
       "          )\n",
       "          (tps): ModuleList(\n",
       "            (0-1): 2 x RecursiveScriptModule(original_name=GraphModule)\n",
       "          )\n",
       "          (linears): ModuleList(\n",
       "            (0-1): 2 x RecursiveScriptModule(original_name=GraphModule)\n",
       "          )\n",
       "          (env_linears): ModuleList(\n",
       "            (0-1): 2 x Identity()\n",
       "          )\n",
       "          (_env_weighter): MakeWeightedChannels()\n",
       "          (final_latent): ScalarMLPFunction(\n",
       "            (_forward): RecursiveScriptModule(original_name=GraphModule)\n",
       "          )\n",
       "        )\n",
       "        (edge_eng): ScalarMLP(\n",
       "          (_module): ScalarMLPFunction(\n",
       "            (_forward): RecursiveScriptModule(original_name=GraphModule)\n",
       "          )\n",
       "        )\n",
       "        (edge_eng_sum): EdgewiseEnergySum()\n",
       "        (per_species_rescale): PerSpeciesScaleShift()\n",
       "        (total_energy_sum): AtomwiseReduce()\n",
       "      )\n",
       "    )\n",
       "  )\n",
       ")"
      ]
     },
     "execution_count": 71,
     "metadata": {},
     "output_type": "execute_result"
    }
   ],
   "source": [
    "final_model"
   ]
  },
  {
   "cell_type": "code",
   "execution_count": 72,
   "id": "7ee91fc6",
   "metadata": {},
   "outputs": [
    {
     "data": {
      "text/plain": [
       "('edge_features', 'edge_energy')"
      ]
     },
     "execution_count": 72,
     "metadata": {},
     "output_type": "execute_result"
    }
   ],
   "source": [
    "from allegro._keys import EDGE_FEATURES, EDGE_ENERGY\n",
    "\n",
    "EDGE_FEATURES, EDGE_ENERGY"
   ]
  },
  {
   "cell_type": "code",
   "execution_count": 73,
   "id": "50264df4",
   "metadata": {},
   "outputs": [
    {
     "data": {
      "text/plain": [
       "tensor([[-1.2641e+01,  8.9420e+01,  6.3238e+01,  ..., -6.3859e+01,\n",
       "         -6.2250e+01, -8.4234e+01],\n",
       "        [-1.2339e+02, -3.6850e+01,  2.3579e+02,  ..., -5.7171e-01,\n",
       "          3.2150e+02, -1.3309e+02],\n",
       "        [ 9.0483e+01,  1.6500e+02,  2.3105e+02,  ...,  2.1488e+01,\n",
       "          1.2643e+01, -3.3773e+02],\n",
       "        ...,\n",
       "        [ 6.5446e-01, -3.7539e-01, -2.8281e-01,  ...,  1.0702e+00,\n",
       "         -7.7501e-01, -4.9844e-01],\n",
       "        [ 4.7118e-01,  1.9133e-01, -2.1939e-01,  ..., -1.0747e-01,\n",
       "         -3.2623e-02, -5.4308e-01],\n",
       "        [ 4.7718e-01, -3.1153e-01, -2.1182e-01,  ...,  9.2136e-01,\n",
       "         -8.8922e-01, -4.1402e-01]], grad_fn=<AddBackward0>)"
      ]
     },
     "execution_count": 73,
     "metadata": {},
     "output_type": "execute_result"
    }
   ],
   "source": [
    "data_in[EDGE_FEATURES]"
   ]
  },
  {
   "cell_type": "code",
   "execution_count": 74,
   "id": "89a83cf9",
   "metadata": {},
   "outputs": [
    {
     "name": "stderr",
     "output_type": "stream",
     "text": [
      "instantiate Preprocessing\n",
      "...Preprocessing_param = dict(\n",
      "...   optional_args = {},\n",
      "...   positional_args = {'irreps_in': None})\n",
      "instantiate Allegro_Module_my\n",
      "   optional_args :                                               r_max\n",
      "   optional_args :                                          num_layers\n",
      "   optional_args :                                   avg_num_neighbors\n",
      "   optional_args :                                           num_types\n",
      "...Allegro_Module_my_param = dict(\n",
      "...   optional_args = {'avg_num_neighbors': 10.0, 'r_start_cos_ratio': 0.8, 'PolynomialCutoff_p': 6, 'per_layer_cutoffs': None, 'cutoff_type': 'polynomial', 'field': 'edge_attrs', 'edge_invariant_field': 'edge_embedding', 'node_invariant_field': 'node_attrs', 'env_embed_multiplicity': 32, 'embed_initial_edge': True, 'linear_after_env_embed': False, 'nonscalars_include_parity': True, 'latent_resnet': True, 'latent_out_field': 'edge_features', 'pad_to_alignment': 1, 'sparse_mode': None, 'r_max': 5, 'num_layers': 3, 'num_types': 3},\n",
      "...   positional_args = {'irreps_in': {'pos': 1x1o, 'edge_index': None, 'edge_embedding': 8x0e, 'node_attrs': 3x0e, 'edge_attrs': 1x0e+1x1o+1x2e}})\n",
      "/home/vladygin/anaconda3/envs/torch_gcnn/lib/python3.9/site-packages/torch/jit/_check.py:178: UserWarning: The TorchScript type system doesn't support instance-level annotations on empty non-base types in `__init__`. Instead, either 1) use a type annotation in the class body, or 2) wrap the type in `torch.jit.Attribute`.\n",
      "  warnings.warn(\n",
      "/home/vladygin/anaconda3/envs/torch_gcnn/lib/python3.9/site-packages/torch/jit/_check.py:178: UserWarning: The TorchScript type system doesn't support instance-level annotations on empty non-base types in `__init__`. Instead, either 1) use a type annotation in the class body, or 2) wrap the type in `torch.jit.Attribute`.\n",
      "  warnings.warn(\n",
      "/home/vladygin/anaconda3/envs/torch_gcnn/lib/python3.9/site-packages/torch/jit/_check.py:178: UserWarning: The TorchScript type system doesn't support instance-level annotations on empty non-base types in `__init__`. Instead, either 1) use a type annotation in the class body, or 2) wrap the type in `torch.jit.Attribute`.\n",
      "  warnings.warn(\n",
      "/home/vladygin/anaconda3/envs/torch_gcnn/lib/python3.9/site-packages/torch/jit/_check.py:178: UserWarning: The TorchScript type system doesn't support instance-level annotations on empty non-base types in `__init__`. Instead, either 1) use a type annotation in the class body, or 2) wrap the type in `torch.jit.Attribute`.\n",
      "  warnings.warn(\n",
      "/home/vladygin/anaconda3/envs/torch_gcnn/lib/python3.9/site-packages/torch/jit/_check.py:178: UserWarning: The TorchScript type system doesn't support instance-level annotations on empty non-base types in `__init__`. Instead, either 1) use a type annotation in the class body, or 2) wrap the type in `torch.jit.Attribute`.\n",
      "  warnings.warn(\n",
      "/home/vladygin/anaconda3/envs/torch_gcnn/lib/python3.9/site-packages/torch/jit/_check.py:178: UserWarning: The TorchScript type system doesn't support instance-level annotations on empty non-base types in `__init__`. Instead, either 1) use a type annotation in the class body, or 2) wrap the type in `torch.jit.Attribute`.\n",
      "  warnings.warn(\n",
      "/home/vladygin/anaconda3/envs/torch_gcnn/lib/python3.9/site-packages/torch/jit/_check.py:178: UserWarning: The TorchScript type system doesn't support instance-level annotations on empty non-base types in `__init__`. Instead, either 1) use a type annotation in the class body, or 2) wrap the type in `torch.jit.Attribute`.\n",
      "  warnings.warn(\n",
      "/home/vladygin/anaconda3/envs/torch_gcnn/lib/python3.9/site-packages/torch/jit/_check.py:178: UserWarning: The TorchScript type system doesn't support instance-level annotations on empty non-base types in `__init__`. Instead, either 1) use a type annotation in the class body, or 2) wrap the type in `torch.jit.Attribute`.\n",
      "  warnings.warn(\n",
      "/home/vladygin/anaconda3/envs/torch_gcnn/lib/python3.9/site-packages/torch/jit/_check.py:178: UserWarning: The TorchScript type system doesn't support instance-level annotations on empty non-base types in `__init__`. Instead, either 1) use a type annotation in the class body, or 2) wrap the type in `torch.jit.Attribute`.\n",
      "  warnings.warn(\n",
      "/home/vladygin/anaconda3/envs/torch_gcnn/lib/python3.9/site-packages/torch/jit/_check.py:178: UserWarning: The TorchScript type system doesn't support instance-level annotations on empty non-base types in `__init__`. Instead, either 1) use a type annotation in the class body, or 2) wrap the type in `torch.jit.Attribute`.\n",
      "  warnings.warn(\n",
      "/home/vladygin/anaconda3/envs/torch_gcnn/lib/python3.9/site-packages/torch/jit/_check.py:178: UserWarning: The TorchScript type system doesn't support instance-level annotations on empty non-base types in `__init__`. Instead, either 1) use a type annotation in the class body, or 2) wrap the type in `torch.jit.Attribute`.\n",
      "  warnings.warn(\n",
      "/home/vladygin/anaconda3/envs/torch_gcnn/lib/python3.9/site-packages/torch/jit/_check.py:178: UserWarning: The TorchScript type system doesn't support instance-level annotations on empty non-base types in `__init__`. Instead, either 1) use a type annotation in the class body, or 2) wrap the type in `torch.jit.Attribute`.\n",
      "  warnings.warn(\n",
      "/home/vladygin/anaconda3/envs/torch_gcnn/lib/python3.9/site-packages/torch/jit/_check.py:178: UserWarning: The TorchScript type system doesn't support instance-level annotations on empty non-base types in `__init__`. Instead, either 1) use a type annotation in the class body, or 2) wrap the type in `torch.jit.Attribute`.\n",
      "  warnings.warn(\n",
      "/home/vladygin/anaconda3/envs/torch_gcnn/lib/python3.9/site-packages/torch/jit/_check.py:178: UserWarning: The TorchScript type system doesn't support instance-level annotations on empty non-base types in `__init__`. Instead, either 1) use a type annotation in the class body, or 2) wrap the type in `torch.jit.Attribute`.\n",
      "  warnings.warn(\n",
      "/home/vladygin/anaconda3/envs/torch_gcnn/lib/python3.9/site-packages/torch/jit/_check.py:178: UserWarning: The TorchScript type system doesn't support instance-level annotations on empty non-base types in `__init__`. Instead, either 1) use a type annotation in the class body, or 2) wrap the type in `torch.jit.Attribute`.\n",
      "  warnings.warn(\n",
      "/home/vladygin/anaconda3/envs/torch_gcnn/lib/python3.9/site-packages/torch/jit/_check.py:178: UserWarning: The TorchScript type system doesn't support instance-level annotations on empty non-base types in `__init__`. Instead, either 1) use a type annotation in the class body, or 2) wrap the type in `torch.jit.Attribute`.\n",
      "  warnings.warn(\n",
      "instantiate ScalarMLP\n",
      "   optional_args :                                mlp_output_dimension\n",
      "   optional_args :                               mlp_latent_dimensions\n",
      "   optional_args :                                           out_field\n",
      "   optional_args :                                               field\n",
      "...ScalarMLP_param = dict(\n",
      "...   optional_args = {'mlp_nonlinearity': 'silu', 'mlp_initialization': 'uniform', 'mlp_dropout_p': 0.0, 'mlp_batchnorm': False, 'field': 'edge_features', 'out_field': 'edge_energy', 'mlp_output_dimension': 1, 'mlp_latent_dimensions': [32]},\n",
      "...   positional_args = {'irreps_in': {'pos': 1x1o, 'edge_index': None, 'edge_embedding': 8x0e, 'node_attrs': 3x0e, 'edge_attrs': 1x0e+1x1o+1x2e, 'edge_features': 32x0e}})\n",
      "/home/vladygin/anaconda3/envs/torch_gcnn/lib/python3.9/site-packages/torch/jit/_check.py:178: UserWarning: The TorchScript type system doesn't support instance-level annotations on empty non-base types in `__init__`. Instead, either 1) use a type annotation in the class body, or 2) wrap the type in `torch.jit.Attribute`.\n",
      "  warnings.warn(\n",
      "instantiate EdgewiseEnergySum\n",
      "   optional_args :                                   avg_num_neighbors\n",
      "   optional_args :                                           num_types\n",
      "...EdgewiseEnergySum_param = dict(\n",
      "...   optional_args = {'avg_num_neighbors': 10.0, 'normalize_edge_energy_sum': True, 'per_edge_species_scale': False, 'num_types': 3.0},\n",
      "...   positional_args = {'irreps_in': {'pos': 1x1o, 'edge_index': None, 'edge_embedding': 8x0e, 'node_attrs': 3x0e, 'edge_attrs': 1x0e+1x1o+1x2e, 'edge_features': 32x0e, 'edge_energy': 1x0e}})\n",
      "instantiate AtomwiseReduce\n",
      "   optional_args :                                              reduce\n",
      "   optional_args :                                           out_field\n",
      "   optional_args :                                               field\n",
      "...AtomwiseReduce_param = dict(\n",
      "...   optional_args = {'out_field': 'total_energy', 'reduce': 'sum', 'avg_num_atoms': None, 'field': 'atomic_energy'},\n",
      "...   positional_args = {'irreps_in': {'pos': 1x1o, 'edge_index': None, 'edge_embedding': 8x0e, 'node_attrs': 3x0e, 'edge_attrs': 1x0e+1x1o+1x2e, 'edge_features': 32x0e, 'edge_energy': 1x0e, 'atomic_energy': 1x0e}})\n"
     ]
    }
   ],
   "source": [
    "from typing import Optional\n",
    "import logging\n",
    "\n",
    "from e3nn import o3\n",
    "\n",
    "from nequip.data import AtomicDataDict, AtomicDataset\n",
    "\n",
    "from nequip.nn import SequentialGraphNetwork, AtomwiseReduce\n",
    "from nequip.nn.radial_basis import BesselBasis\n",
    "\n",
    "from nequip.nn.embedding import (\n",
    "    OneHotAtomEncoding,\n",
    "    SphericalHarmonicEdgeAttrs,\n",
    "    RadialBasisEdgeEncoding,\n",
    ")\n",
    "\n",
    "from allegro.nn import (\n",
    "    NormalizedBasis,\n",
    "    EdgewiseEnergySum,\n",
    "    Allegro_Module,\n",
    "    ScalarMLP,\n",
    ")\n",
    "from allegro._keys import EDGE_FEATURES, EDGE_ENERGY\n",
    "\n",
    "from nequip.model import builder_utils\n",
    "\n",
    "\n",
    "\"\"\"\n",
    "layers = {\n",
    "        # -- Encode --\n",
    "        # Get various edge invariants\n",
    "        \"one_hot\": OneHotAtomEncoding,\n",
    "        \"radial_basis\": (\n",
    "            RadialBasisEdgeEncoding,\n",
    "            dict(\n",
    "                basis=(\n",
    "                    NormalizedBasis\n",
    "                    if config.get(\"normalize_basis\", True)\n",
    "                    else BesselBasis\n",
    "                ),\n",
    "                out_field=AtomicDataDict.EDGE_EMBEDDING_KEY,\n",
    "            ),\n",
    "        ),\n",
    "        # Get edge nonscalars\n",
    "        \"spharm\": SphericalHarmonicEdgeAttrs,\n",
    "        # The core allegro model:\n",
    "        \"allegro\": (\n",
    "            Allegro_Module,\n",
    "            dict(\n",
    "                field=AtomicDataDict.EDGE_ATTRS_KEY,  # initial input is the edge SH\n",
    "                edge_invariant_field=AtomicDataDict.EDGE_EMBEDDING_KEY,\n",
    "                node_invariant_field=AtomicDataDict.NODE_ATTRS_KEY,\n",
    "            ),\n",
    "        ),\n",
    "        \"edge_eng\": (\n",
    "            ScalarMLP,\n",
    "            dict(field=EDGE_FEATURES, out_field=EDGE_ENERGY, mlp_output_dimension=1),\n",
    "        ),\n",
    "        # Sum edgewise energies -> per-atom energies:\n",
    "        \"edge_eng_sum\": EdgewiseEnergySum,\n",
    "        # Sum system energy:\n",
    "        \"total_energy_sum\": (\n",
    "            AtomwiseReduce,\n",
    "            dict(\n",
    "                reduce=\"sum\",\n",
    "                field=AtomicDataDict.PER_ATOM_ENERGY_KEY,\n",
    "                out_field=AtomicDataDict.TOTAL_ENERGY_KEY,\n",
    "            ),\n",
    "        ),\n",
    "    }\n",
    "\"\"\"\n",
    "\n",
    "layers = {\n",
    "    \"Preprocessing\": (Preprocessing,\n",
    "    dict()),\n",
    "    \"Main_Allegro\": (Allegro_Module_my,\n",
    "    dict(r_max = 5,\n",
    "               num_layers = 3,\n",
    "               num_types = 3,\n",
    "               avg_num_neighbors=10.\n",
    "        )),\n",
    "    \"edge_eng\": (\n",
    "            ScalarMLP,\n",
    "            dict(field=EDGE_FEATURES, \n",
    "                 out_field=EDGE_ENERGY, \n",
    "                 mlp_output_dimension=1,\n",
    "                 mlp_latent_dimensions= [32]),\n",
    "        ),\n",
    "        # Sum edgewise energies -> per-atom energies:\n",
    "        \"edge_eng_sum\": (EdgewiseEnergySum,\n",
    "            dict(avg_num_neighbors = 10.,\n",
    "                 num_types = 3.\n",
    "                ),\n",
    "                        ),\n",
    "        # Sum system energy:\n",
    "        \"total_energy_sum\": (\n",
    "            AtomwiseReduce,\n",
    "            dict(\n",
    "                reduce=\"sum\",\n",
    "                field=AtomicDataDict.PER_ATOM_ENERGY_KEY,\n",
    "                out_field=AtomicDataDict.TOTAL_ENERGY_KEY,\n",
    "            ),\n",
    "        ),\n",
    "}\n",
    "\n",
    "\n",
    "model_my = SequentialGraphNetwork({'Preprocessing': Preprocessing_module_my,\n",
    "                                   'Main_Allegro': Main_Module_my}) \n",
    "\n",
    "\n",
    "model_my_from_param = SequentialGraphNetwork.from_parameters(shared_params={},\n",
    "                                                             layers = layers)"
   ]
  },
  {
   "cell_type": "code",
   "execution_count": 75,
   "id": "6aa812d1",
   "metadata": {},
   "outputs": [
    {
     "name": "stdout",
     "output_type": "stream",
     "text": [
      "torch.Size([364, 576]) torch.Size([364, 288])\n",
      "torch.Size([364, 576]) torch.Size([364, 288])\n",
      "torch.Size([364, 576]) torch.Size([364, 288])\n"
     ]
    },
    {
     "data": {
      "text/plain": [
       "torch.Size([21, 3])"
      ]
     },
     "execution_count": 75,
     "metadata": {},
     "output_type": "execute_result"
    }
   ],
   "source": [
    "model_my_from_param(data_in)['forces'].shape"
   ]
  },
  {
   "cell_type": "code",
   "execution_count": 76,
   "id": "98727fe3",
   "metadata": {},
   "outputs": [
    {
     "data": {
      "text/plain": [
       "'total_energy'"
      ]
     },
     "execution_count": 76,
     "metadata": {},
     "output_type": "execute_result"
    }
   ],
   "source": [
    "AtomicDataDict.TOTAL_ENERGY_KEY"
   ]
  },
  {
   "cell_type": "code",
   "execution_count": 98,
   "id": "722cf35c",
   "metadata": {},
   "outputs": [],
   "source": [
    "from nequip.nn import GraphModel, GradientOutput\n",
    "\n",
    "\n",
    "trainer.model = GraphModel(GradientOutput(model_my_from_param,\n",
    "                                          of = 'total_energy',\n",
    "                                          wrt = 'pos',\n",
    "                                          out_field='forces'))\n",
    "\n",
    "model_my_final = GraphModel(GradientOutput(model_my_from_param,\n",
    "                                          of = 'total_energy',\n",
    "                                          wrt = 'pos',\n",
    "                                          out_field='forces')).to('cpu')"
   ]
  },
  {
   "cell_type": "code",
   "execution_count": 99,
   "id": "8e55be44",
   "metadata": {},
   "outputs": [],
   "source": [
    "#for el in dataset:\n",
    "#    el['forces'] = torch.zeros_like(el['pos'])"
   ]
  },
  {
   "cell_type": "code",
   "execution_count": 100,
   "id": "1e38ad3d",
   "metadata": {},
   "outputs": [
    {
     "data": {
      "text/plain": [
       "device(type='cpu')"
      ]
     },
     "execution_count": 100,
     "metadata": {},
     "output_type": "execute_result"
    }
   ],
   "source": [
    "dataset[0].cell.device"
   ]
  },
  {
   "cell_type": "code",
   "execution_count": 101,
   "id": "e78a3e3d",
   "metadata": {},
   "outputs": [],
   "source": [
    "trainer.set_dataset(dataset, validation_dataset)\n",
    "\n",
    "\n",
    "trainer.model = model_my_final"
   ]
  },
  {
   "cell_type": "code",
   "execution_count": 102,
   "id": "1ae0bb0c",
   "metadata": {},
   "outputs": [
    {
     "name": "stderr",
     "output_type": "stream",
     "text": [
      "! Starting training ...\n",
      "instantiate Metrics\n",
      "...Metrics_param = dict(\n",
      "...   optional_args = {},\n",
      "...   positional_args = {'components': [('forces', 'mae', {'PerSpecies': False}), ('forces', 'rmse', {'PerSpecies': False}), ('total_energy', 'mae', {'PerSpecies': False}), ('total_energy', 'rmse', {'PerSpecies': False})]})\n",
      "instantiate L1Loss\n",
      "...L1Loss_param = dict(\n",
      "...   optional_args = {'size_average': None, 'reduce': None},\n",
      "...   positional_args = {'reduction': 'none'})\n",
      "instantiate L1Loss\n",
      "...L1Loss_param = dict(\n",
      "...   optional_args = {'size_average': None, 'reduce': None},\n",
      "...   positional_args = {'reduction': 'none'})\n",
      "instantiate L1Loss\n",
      "...L1Loss_param = dict(\n",
      "...   optional_args = {'size_average': None, 'reduce': None},\n",
      "...   positional_args = {'reduction': 'none'})\n",
      "instantiate L1Loss\n",
      "...L1Loss_param = dict(\n",
      "...   optional_args = {'size_average': None, 'reduce': None},\n",
      "...   positional_args = {'reduction': 'none'})\n",
      "EarlyStopping: 4 / 100\n"
     ]
    },
    {
     "ename": "RuntimeError",
     "evalue": "Expected all tensors to be on the same device, but found at least two devices, cuda:0 and cpu!",
     "output_type": "error",
     "traceback": [
      "\u001b[0;31m---------------------------------------------------------------------------\u001b[0m",
      "\u001b[0;31mRuntimeError\u001b[0m                              Traceback (most recent call last)",
      "Cell \u001b[0;32mIn[102], line 1\u001b[0m\n\u001b[0;32m----> 1\u001b[0m \u001b[43mtrainer\u001b[49m\u001b[38;5;241;43m.\u001b[39;49m\u001b[43mtrain\u001b[49m\u001b[43m(\u001b[49m\u001b[43m)\u001b[49m\n",
      "File \u001b[0;32m~/anaconda3/envs/torch_gcnn/lib/python3.9/site-packages/nequip/train/trainer.py:784\u001b[0m, in \u001b[0;36mTrainer.train\u001b[0;34m(self)\u001b[0m\n\u001b[1;32m    780\u001b[0m     \u001b[38;5;28mself\u001b[39m\u001b[38;5;241m.\u001b[39m_post_init_callback()\n\u001b[1;32m    782\u001b[0m \u001b[38;5;28;01mwhile\u001b[39;00m \u001b[38;5;129;01mnot\u001b[39;00m \u001b[38;5;28mself\u001b[39m\u001b[38;5;241m.\u001b[39mstop_cond:\n\u001b[0;32m--> 784\u001b[0m     \u001b[38;5;28;43mself\u001b[39;49m\u001b[38;5;241;43m.\u001b[39;49m\u001b[43mepoch_step\u001b[49m\u001b[43m(\u001b[49m\u001b[43m)\u001b[49m\n\u001b[1;32m    785\u001b[0m     \u001b[38;5;28mself\u001b[39m\u001b[38;5;241m.\u001b[39mend_of_epoch_save()\n\u001b[1;32m    787\u001b[0m \u001b[38;5;28;01mfor\u001b[39;00m callback \u001b[38;5;129;01min\u001b[39;00m \u001b[38;5;28mself\u001b[39m\u001b[38;5;241m.\u001b[39m_final_callbacks:\n",
      "File \u001b[0;32m~/anaconda3/envs/torch_gcnn/lib/python3.9/site-packages/nequip/train/trainer.py:919\u001b[0m, in \u001b[0;36mTrainer.epoch_step\u001b[0;34m(self)\u001b[0m\n\u001b[1;32m    917\u001b[0m \u001b[38;5;28mself\u001b[39m\u001b[38;5;241m.\u001b[39mn_batches \u001b[38;5;241m=\u001b[39m \u001b[38;5;28mlen\u001b[39m(dataset)\n\u001b[1;32m    918\u001b[0m \u001b[38;5;28;01mfor\u001b[39;00m \u001b[38;5;28mself\u001b[39m\u001b[38;5;241m.\u001b[39mibatch, batch \u001b[38;5;129;01min\u001b[39;00m \u001b[38;5;28menumerate\u001b[39m(dataset):\n\u001b[0;32m--> 919\u001b[0m     \u001b[38;5;28;43mself\u001b[39;49m\u001b[38;5;241;43m.\u001b[39;49m\u001b[43mbatch_step\u001b[49m\u001b[43m(\u001b[49m\n\u001b[1;32m    920\u001b[0m \u001b[43m        \u001b[49m\u001b[43mdata\u001b[49m\u001b[38;5;241;43m=\u001b[39;49m\u001b[43mbatch\u001b[49m\u001b[43m,\u001b[49m\n\u001b[1;32m    921\u001b[0m \u001b[43m        \u001b[49m\u001b[43mvalidation\u001b[49m\u001b[38;5;241;43m=\u001b[39;49m\u001b[43m(\u001b[49m\u001b[43mcategory\u001b[49m\u001b[43m \u001b[49m\u001b[38;5;241;43m==\u001b[39;49m\u001b[43m \u001b[49m\u001b[43mVALIDATION\u001b[49m\u001b[43m)\u001b[49m\u001b[43m,\u001b[49m\n\u001b[1;32m    922\u001b[0m \u001b[43m    \u001b[49m\u001b[43m)\u001b[49m\n\u001b[1;32m    923\u001b[0m     \u001b[38;5;28mself\u001b[39m\u001b[38;5;241m.\u001b[39mend_of_batch_log(batch_type\u001b[38;5;241m=\u001b[39mcategory)\n\u001b[1;32m    924\u001b[0m     \u001b[38;5;28;01mfor\u001b[39;00m callback \u001b[38;5;129;01min\u001b[39;00m \u001b[38;5;28mself\u001b[39m\u001b[38;5;241m.\u001b[39m_end_of_batch_callbacks:\n",
      "File \u001b[0;32m~/anaconda3/envs/torch_gcnn/lib/python3.9/site-packages/nequip/train/trainer.py:814\u001b[0m, in \u001b[0;36mTrainer.batch_step\u001b[0;34m(self, data, validation)\u001b[0m\n\u001b[1;32m    810\u001b[0m data_for_loss \u001b[38;5;241m=\u001b[39m \u001b[38;5;28mself\u001b[39m\u001b[38;5;241m.\u001b[39mmodel\u001b[38;5;241m.\u001b[39munscale(data, force_process\u001b[38;5;241m=\u001b[39m\u001b[38;5;28;01mTrue\u001b[39;00m)\n\u001b[1;32m    812\u001b[0m \u001b[38;5;66;03m# Run model\u001b[39;00m\n\u001b[1;32m    813\u001b[0m \u001b[38;5;66;03m# We make a shallow copy of the input dict in case the model modifies it\u001b[39;00m\n\u001b[0;32m--> 814\u001b[0m out \u001b[38;5;241m=\u001b[39m \u001b[38;5;28;43mself\u001b[39;49m\u001b[38;5;241;43m.\u001b[39;49m\u001b[43mmodel\u001b[49m\u001b[43m(\u001b[49m\u001b[43mdata_for_loss\u001b[49m\u001b[43m)\u001b[49m\n\u001b[1;32m    816\u001b[0m \u001b[38;5;66;03m# If we're in evaluation mode (i.e. validation), then\u001b[39;00m\n\u001b[1;32m    817\u001b[0m \u001b[38;5;66;03m# data_for_loss's target prop is unnormalized, and out's has been rescaled to be in the same units\u001b[39;00m\n\u001b[1;32m    818\u001b[0m \u001b[38;5;66;03m# If we're in training, data_for_loss's target prop has been normalized, and out's hasn't been touched, so they're both in normalized units\u001b[39;00m\n\u001b[1;32m    819\u001b[0m \u001b[38;5;66;03m# Note that either way all normalization was handled internally by GraphModel via RescaleOutput\u001b[39;00m\n\u001b[1;32m    821\u001b[0m \u001b[38;5;28;01mif\u001b[39;00m \u001b[38;5;129;01mnot\u001b[39;00m validation:\n\u001b[1;32m    822\u001b[0m     \u001b[38;5;66;03m# Actually do an optimization step, since we're training:\u001b[39;00m\n",
      "File \u001b[0;32m~/anaconda3/envs/torch_gcnn/lib/python3.9/site-packages/torch/nn/modules/module.py:1553\u001b[0m, in \u001b[0;36mModule._wrapped_call_impl\u001b[0;34m(self, *args, **kwargs)\u001b[0m\n\u001b[1;32m   1551\u001b[0m     \u001b[38;5;28;01mreturn\u001b[39;00m \u001b[38;5;28mself\u001b[39m\u001b[38;5;241m.\u001b[39m_compiled_call_impl(\u001b[38;5;241m*\u001b[39margs, \u001b[38;5;241m*\u001b[39m\u001b[38;5;241m*\u001b[39mkwargs)  \u001b[38;5;66;03m# type: ignore[misc]\u001b[39;00m\n\u001b[1;32m   1552\u001b[0m \u001b[38;5;28;01melse\u001b[39;00m:\n\u001b[0;32m-> 1553\u001b[0m     \u001b[38;5;28;01mreturn\u001b[39;00m \u001b[38;5;28;43mself\u001b[39;49m\u001b[38;5;241;43m.\u001b[39;49m\u001b[43m_call_impl\u001b[49m\u001b[43m(\u001b[49m\u001b[38;5;241;43m*\u001b[39;49m\u001b[43margs\u001b[49m\u001b[43m,\u001b[49m\u001b[43m \u001b[49m\u001b[38;5;241;43m*\u001b[39;49m\u001b[38;5;241;43m*\u001b[39;49m\u001b[43mkwargs\u001b[49m\u001b[43m)\u001b[49m\n",
      "File \u001b[0;32m~/anaconda3/envs/torch_gcnn/lib/python3.9/site-packages/torch/nn/modules/module.py:1562\u001b[0m, in \u001b[0;36mModule._call_impl\u001b[0;34m(self, *args, **kwargs)\u001b[0m\n\u001b[1;32m   1557\u001b[0m \u001b[38;5;66;03m# If we don't have any hooks, we want to skip the rest of the logic in\u001b[39;00m\n\u001b[1;32m   1558\u001b[0m \u001b[38;5;66;03m# this function, and just call forward.\u001b[39;00m\n\u001b[1;32m   1559\u001b[0m \u001b[38;5;28;01mif\u001b[39;00m \u001b[38;5;129;01mnot\u001b[39;00m (\u001b[38;5;28mself\u001b[39m\u001b[38;5;241m.\u001b[39m_backward_hooks \u001b[38;5;129;01mor\u001b[39;00m \u001b[38;5;28mself\u001b[39m\u001b[38;5;241m.\u001b[39m_backward_pre_hooks \u001b[38;5;129;01mor\u001b[39;00m \u001b[38;5;28mself\u001b[39m\u001b[38;5;241m.\u001b[39m_forward_hooks \u001b[38;5;129;01mor\u001b[39;00m \u001b[38;5;28mself\u001b[39m\u001b[38;5;241m.\u001b[39m_forward_pre_hooks\n\u001b[1;32m   1560\u001b[0m         \u001b[38;5;129;01mor\u001b[39;00m _global_backward_pre_hooks \u001b[38;5;129;01mor\u001b[39;00m _global_backward_hooks\n\u001b[1;32m   1561\u001b[0m         \u001b[38;5;129;01mor\u001b[39;00m _global_forward_hooks \u001b[38;5;129;01mor\u001b[39;00m _global_forward_pre_hooks):\n\u001b[0;32m-> 1562\u001b[0m     \u001b[38;5;28;01mreturn\u001b[39;00m \u001b[43mforward_call\u001b[49m\u001b[43m(\u001b[49m\u001b[38;5;241;43m*\u001b[39;49m\u001b[43margs\u001b[49m\u001b[43m,\u001b[49m\u001b[43m \u001b[49m\u001b[38;5;241;43m*\u001b[39;49m\u001b[38;5;241;43m*\u001b[39;49m\u001b[43mkwargs\u001b[49m\u001b[43m)\u001b[49m\n\u001b[1;32m   1564\u001b[0m \u001b[38;5;28;01mtry\u001b[39;00m:\n\u001b[1;32m   1565\u001b[0m     result \u001b[38;5;241m=\u001b[39m \u001b[38;5;28;01mNone\u001b[39;00m\n",
      "File \u001b[0;32m~/anaconda3/envs/torch_gcnn/lib/python3.9/site-packages/nequip/nn/_graph_model.py:112\u001b[0m, in \u001b[0;36mGraphModel.forward\u001b[0;34m(self, data)\u001b[0m\n\u001b[1;32m    110\u001b[0m         new_data[k] \u001b[38;5;241m=\u001b[39m v\n\u001b[1;32m    111\u001b[0m \u001b[38;5;66;03m# run the model\u001b[39;00m\n\u001b[0;32m--> 112\u001b[0m data \u001b[38;5;241m=\u001b[39m \u001b[38;5;28;43mself\u001b[39;49m\u001b[38;5;241;43m.\u001b[39;49m\u001b[43mmodel\u001b[49m\u001b[43m(\u001b[49m\u001b[43mnew_data\u001b[49m\u001b[43m)\u001b[49m\n\u001b[1;32m    113\u001b[0m \u001b[38;5;28;01mreturn\u001b[39;00m data\n",
      "File \u001b[0;32m~/anaconda3/envs/torch_gcnn/lib/python3.9/site-packages/torch/nn/modules/module.py:1553\u001b[0m, in \u001b[0;36mModule._wrapped_call_impl\u001b[0;34m(self, *args, **kwargs)\u001b[0m\n\u001b[1;32m   1551\u001b[0m     \u001b[38;5;28;01mreturn\u001b[39;00m \u001b[38;5;28mself\u001b[39m\u001b[38;5;241m.\u001b[39m_compiled_call_impl(\u001b[38;5;241m*\u001b[39margs, \u001b[38;5;241m*\u001b[39m\u001b[38;5;241m*\u001b[39mkwargs)  \u001b[38;5;66;03m# type: ignore[misc]\u001b[39;00m\n\u001b[1;32m   1552\u001b[0m \u001b[38;5;28;01melse\u001b[39;00m:\n\u001b[0;32m-> 1553\u001b[0m     \u001b[38;5;28;01mreturn\u001b[39;00m \u001b[38;5;28;43mself\u001b[39;49m\u001b[38;5;241;43m.\u001b[39;49m\u001b[43m_call_impl\u001b[49m\u001b[43m(\u001b[49m\u001b[38;5;241;43m*\u001b[39;49m\u001b[43margs\u001b[49m\u001b[43m,\u001b[49m\u001b[43m \u001b[49m\u001b[38;5;241;43m*\u001b[39;49m\u001b[38;5;241;43m*\u001b[39;49m\u001b[43mkwargs\u001b[49m\u001b[43m)\u001b[49m\n",
      "File \u001b[0;32m~/anaconda3/envs/torch_gcnn/lib/python3.9/site-packages/torch/nn/modules/module.py:1562\u001b[0m, in \u001b[0;36mModule._call_impl\u001b[0;34m(self, *args, **kwargs)\u001b[0m\n\u001b[1;32m   1557\u001b[0m \u001b[38;5;66;03m# If we don't have any hooks, we want to skip the rest of the logic in\u001b[39;00m\n\u001b[1;32m   1558\u001b[0m \u001b[38;5;66;03m# this function, and just call forward.\u001b[39;00m\n\u001b[1;32m   1559\u001b[0m \u001b[38;5;28;01mif\u001b[39;00m \u001b[38;5;129;01mnot\u001b[39;00m (\u001b[38;5;28mself\u001b[39m\u001b[38;5;241m.\u001b[39m_backward_hooks \u001b[38;5;129;01mor\u001b[39;00m \u001b[38;5;28mself\u001b[39m\u001b[38;5;241m.\u001b[39m_backward_pre_hooks \u001b[38;5;129;01mor\u001b[39;00m \u001b[38;5;28mself\u001b[39m\u001b[38;5;241m.\u001b[39m_forward_hooks \u001b[38;5;129;01mor\u001b[39;00m \u001b[38;5;28mself\u001b[39m\u001b[38;5;241m.\u001b[39m_forward_pre_hooks\n\u001b[1;32m   1560\u001b[0m         \u001b[38;5;129;01mor\u001b[39;00m _global_backward_pre_hooks \u001b[38;5;129;01mor\u001b[39;00m _global_backward_hooks\n\u001b[1;32m   1561\u001b[0m         \u001b[38;5;129;01mor\u001b[39;00m _global_forward_hooks \u001b[38;5;129;01mor\u001b[39;00m _global_forward_pre_hooks):\n\u001b[0;32m-> 1562\u001b[0m     \u001b[38;5;28;01mreturn\u001b[39;00m \u001b[43mforward_call\u001b[49m\u001b[43m(\u001b[49m\u001b[38;5;241;43m*\u001b[39;49m\u001b[43margs\u001b[49m\u001b[43m,\u001b[49m\u001b[43m \u001b[49m\u001b[38;5;241;43m*\u001b[39;49m\u001b[38;5;241;43m*\u001b[39;49m\u001b[43mkwargs\u001b[49m\u001b[43m)\u001b[49m\n\u001b[1;32m   1564\u001b[0m \u001b[38;5;28;01mtry\u001b[39;00m:\n\u001b[1;32m   1565\u001b[0m     result \u001b[38;5;241m=\u001b[39m \u001b[38;5;28;01mNone\u001b[39;00m\n",
      "File \u001b[0;32m~/anaconda3/envs/torch_gcnn/lib/python3.9/site-packages/nequip/nn/_grad_output.py:85\u001b[0m, in \u001b[0;36mGradientOutput.forward\u001b[0;34m(self, data)\u001b[0m\n\u001b[1;32m     83\u001b[0m     wrt_tensors\u001b[38;5;241m.\u001b[39mappend(data[k])\n\u001b[1;32m     84\u001b[0m \u001b[38;5;66;03m# run func\u001b[39;00m\n\u001b[0;32m---> 85\u001b[0m data \u001b[38;5;241m=\u001b[39m \u001b[38;5;28;43mself\u001b[39;49m\u001b[38;5;241;43m.\u001b[39;49m\u001b[43mfunc\u001b[49m\u001b[43m(\u001b[49m\u001b[43mdata\u001b[49m\u001b[43m)\u001b[49m\n\u001b[1;32m     86\u001b[0m \u001b[38;5;66;03m# Get grads\u001b[39;00m\n\u001b[1;32m     87\u001b[0m grads \u001b[38;5;241m=\u001b[39m torch\u001b[38;5;241m.\u001b[39mautograd\u001b[38;5;241m.\u001b[39mgrad(\n\u001b[1;32m     88\u001b[0m     \u001b[38;5;66;03m# TODO:\u001b[39;00m\n\u001b[1;32m     89\u001b[0m     \u001b[38;5;66;03m# This makes sense for scalar batch-level or batch-wise outputs, specifically because d(sum(batches))/d wrt = sum(d batch / d wrt) = d my_batch / d wrt\u001b[39;00m\n\u001b[0;32m   (...)\u001b[0m\n\u001b[1;32m     94\u001b[0m     create_graph\u001b[38;5;241m=\u001b[39m\u001b[38;5;28mself\u001b[39m\u001b[38;5;241m.\u001b[39mtraining,  \u001b[38;5;66;03m# needed to allow gradients of this output during training\u001b[39;00m\n\u001b[1;32m     95\u001b[0m )\n",
      "File \u001b[0;32m~/anaconda3/envs/torch_gcnn/lib/python3.9/site-packages/torch/nn/modules/module.py:1553\u001b[0m, in \u001b[0;36mModule._wrapped_call_impl\u001b[0;34m(self, *args, **kwargs)\u001b[0m\n\u001b[1;32m   1551\u001b[0m     \u001b[38;5;28;01mreturn\u001b[39;00m \u001b[38;5;28mself\u001b[39m\u001b[38;5;241m.\u001b[39m_compiled_call_impl(\u001b[38;5;241m*\u001b[39margs, \u001b[38;5;241m*\u001b[39m\u001b[38;5;241m*\u001b[39mkwargs)  \u001b[38;5;66;03m# type: ignore[misc]\u001b[39;00m\n\u001b[1;32m   1552\u001b[0m \u001b[38;5;28;01melse\u001b[39;00m:\n\u001b[0;32m-> 1553\u001b[0m     \u001b[38;5;28;01mreturn\u001b[39;00m \u001b[38;5;28;43mself\u001b[39;49m\u001b[38;5;241;43m.\u001b[39;49m\u001b[43m_call_impl\u001b[49m\u001b[43m(\u001b[49m\u001b[38;5;241;43m*\u001b[39;49m\u001b[43margs\u001b[49m\u001b[43m,\u001b[49m\u001b[43m \u001b[49m\u001b[38;5;241;43m*\u001b[39;49m\u001b[38;5;241;43m*\u001b[39;49m\u001b[43mkwargs\u001b[49m\u001b[43m)\u001b[49m\n",
      "File \u001b[0;32m~/anaconda3/envs/torch_gcnn/lib/python3.9/site-packages/torch/nn/modules/module.py:1562\u001b[0m, in \u001b[0;36mModule._call_impl\u001b[0;34m(self, *args, **kwargs)\u001b[0m\n\u001b[1;32m   1557\u001b[0m \u001b[38;5;66;03m# If we don't have any hooks, we want to skip the rest of the logic in\u001b[39;00m\n\u001b[1;32m   1558\u001b[0m \u001b[38;5;66;03m# this function, and just call forward.\u001b[39;00m\n\u001b[1;32m   1559\u001b[0m \u001b[38;5;28;01mif\u001b[39;00m \u001b[38;5;129;01mnot\u001b[39;00m (\u001b[38;5;28mself\u001b[39m\u001b[38;5;241m.\u001b[39m_backward_hooks \u001b[38;5;129;01mor\u001b[39;00m \u001b[38;5;28mself\u001b[39m\u001b[38;5;241m.\u001b[39m_backward_pre_hooks \u001b[38;5;129;01mor\u001b[39;00m \u001b[38;5;28mself\u001b[39m\u001b[38;5;241m.\u001b[39m_forward_hooks \u001b[38;5;129;01mor\u001b[39;00m \u001b[38;5;28mself\u001b[39m\u001b[38;5;241m.\u001b[39m_forward_pre_hooks\n\u001b[1;32m   1560\u001b[0m         \u001b[38;5;129;01mor\u001b[39;00m _global_backward_pre_hooks \u001b[38;5;129;01mor\u001b[39;00m _global_backward_hooks\n\u001b[1;32m   1561\u001b[0m         \u001b[38;5;129;01mor\u001b[39;00m _global_forward_hooks \u001b[38;5;129;01mor\u001b[39;00m _global_forward_pre_hooks):\n\u001b[0;32m-> 1562\u001b[0m     \u001b[38;5;28;01mreturn\u001b[39;00m \u001b[43mforward_call\u001b[49m\u001b[43m(\u001b[49m\u001b[38;5;241;43m*\u001b[39;49m\u001b[43margs\u001b[49m\u001b[43m,\u001b[49m\u001b[43m \u001b[49m\u001b[38;5;241;43m*\u001b[39;49m\u001b[38;5;241;43m*\u001b[39;49m\u001b[43mkwargs\u001b[49m\u001b[43m)\u001b[49m\n\u001b[1;32m   1564\u001b[0m \u001b[38;5;28;01mtry\u001b[39;00m:\n\u001b[1;32m   1565\u001b[0m     result \u001b[38;5;241m=\u001b[39m \u001b[38;5;28;01mNone\u001b[39;00m\n",
      "File \u001b[0;32m~/anaconda3/envs/torch_gcnn/lib/python3.9/site-packages/nequip/nn/_graph_mixin.py:366\u001b[0m, in \u001b[0;36mSequentialGraphNetwork.forward\u001b[0;34m(self, input)\u001b[0m\n\u001b[1;32m    364\u001b[0m \u001b[38;5;28;01mdef\u001b[39;00m \u001b[38;5;21mforward\u001b[39m(\u001b[38;5;28mself\u001b[39m, \u001b[38;5;28minput\u001b[39m: AtomicDataDict\u001b[38;5;241m.\u001b[39mType) \u001b[38;5;241m-\u001b[39m\u001b[38;5;241m>\u001b[39m AtomicDataDict\u001b[38;5;241m.\u001b[39mType:\n\u001b[1;32m    365\u001b[0m     \u001b[38;5;28;01mfor\u001b[39;00m module \u001b[38;5;129;01min\u001b[39;00m \u001b[38;5;28mself\u001b[39m:\n\u001b[0;32m--> 366\u001b[0m         \u001b[38;5;28minput\u001b[39m \u001b[38;5;241m=\u001b[39m \u001b[43mmodule\u001b[49m\u001b[43m(\u001b[49m\u001b[38;5;28;43minput\u001b[39;49m\u001b[43m)\u001b[49m\n\u001b[1;32m    367\u001b[0m     \u001b[38;5;28;01mreturn\u001b[39;00m \u001b[38;5;28minput\u001b[39m\n",
      "File \u001b[0;32m~/anaconda3/envs/torch_gcnn/lib/python3.9/site-packages/torch/nn/modules/module.py:1553\u001b[0m, in \u001b[0;36mModule._wrapped_call_impl\u001b[0;34m(self, *args, **kwargs)\u001b[0m\n\u001b[1;32m   1551\u001b[0m     \u001b[38;5;28;01mreturn\u001b[39;00m \u001b[38;5;28mself\u001b[39m\u001b[38;5;241m.\u001b[39m_compiled_call_impl(\u001b[38;5;241m*\u001b[39margs, \u001b[38;5;241m*\u001b[39m\u001b[38;5;241m*\u001b[39mkwargs)  \u001b[38;5;66;03m# type: ignore[misc]\u001b[39;00m\n\u001b[1;32m   1552\u001b[0m \u001b[38;5;28;01melse\u001b[39;00m:\n\u001b[0;32m-> 1553\u001b[0m     \u001b[38;5;28;01mreturn\u001b[39;00m \u001b[38;5;28;43mself\u001b[39;49m\u001b[38;5;241;43m.\u001b[39;49m\u001b[43m_call_impl\u001b[49m\u001b[43m(\u001b[49m\u001b[38;5;241;43m*\u001b[39;49m\u001b[43margs\u001b[49m\u001b[43m,\u001b[49m\u001b[43m \u001b[49m\u001b[38;5;241;43m*\u001b[39;49m\u001b[38;5;241;43m*\u001b[39;49m\u001b[43mkwargs\u001b[49m\u001b[43m)\u001b[49m\n",
      "File \u001b[0;32m~/anaconda3/envs/torch_gcnn/lib/python3.9/site-packages/torch/nn/modules/module.py:1562\u001b[0m, in \u001b[0;36mModule._call_impl\u001b[0;34m(self, *args, **kwargs)\u001b[0m\n\u001b[1;32m   1557\u001b[0m \u001b[38;5;66;03m# If we don't have any hooks, we want to skip the rest of the logic in\u001b[39;00m\n\u001b[1;32m   1558\u001b[0m \u001b[38;5;66;03m# this function, and just call forward.\u001b[39;00m\n\u001b[1;32m   1559\u001b[0m \u001b[38;5;28;01mif\u001b[39;00m \u001b[38;5;129;01mnot\u001b[39;00m (\u001b[38;5;28mself\u001b[39m\u001b[38;5;241m.\u001b[39m_backward_hooks \u001b[38;5;129;01mor\u001b[39;00m \u001b[38;5;28mself\u001b[39m\u001b[38;5;241m.\u001b[39m_backward_pre_hooks \u001b[38;5;129;01mor\u001b[39;00m \u001b[38;5;28mself\u001b[39m\u001b[38;5;241m.\u001b[39m_forward_hooks \u001b[38;5;129;01mor\u001b[39;00m \u001b[38;5;28mself\u001b[39m\u001b[38;5;241m.\u001b[39m_forward_pre_hooks\n\u001b[1;32m   1560\u001b[0m         \u001b[38;5;129;01mor\u001b[39;00m _global_backward_pre_hooks \u001b[38;5;129;01mor\u001b[39;00m _global_backward_hooks\n\u001b[1;32m   1561\u001b[0m         \u001b[38;5;129;01mor\u001b[39;00m _global_forward_hooks \u001b[38;5;129;01mor\u001b[39;00m _global_forward_pre_hooks):\n\u001b[0;32m-> 1562\u001b[0m     \u001b[38;5;28;01mreturn\u001b[39;00m \u001b[43mforward_call\u001b[49m\u001b[43m(\u001b[49m\u001b[38;5;241;43m*\u001b[39;49m\u001b[43margs\u001b[49m\u001b[43m,\u001b[49m\u001b[43m \u001b[49m\u001b[38;5;241;43m*\u001b[39;49m\u001b[38;5;241;43m*\u001b[39;49m\u001b[43mkwargs\u001b[49m\u001b[43m)\u001b[49m\n\u001b[1;32m   1564\u001b[0m \u001b[38;5;28;01mtry\u001b[39;00m:\n\u001b[1;32m   1565\u001b[0m     result \u001b[38;5;241m=\u001b[39m \u001b[38;5;28;01mNone\u001b[39;00m\n",
      "Cell \u001b[0;32mIn[64], line 45\u001b[0m, in \u001b[0;36mPreprocessing.forward\u001b[0;34m(self, data_in)\u001b[0m\n\u001b[1;32m     42\u001b[0m bessel_weights \u001b[38;5;241m=\u001b[39m (torch\u001b[38;5;241m.\u001b[39mlinspace(start\u001b[38;5;241m=\u001b[39m\u001b[38;5;241m1.0\u001b[39m, end\u001b[38;5;241m=\u001b[39mnum_basis, steps\u001b[38;5;241m=\u001b[39mnum_basis) \u001b[38;5;241m*\u001b[39m math\u001b[38;5;241m.\u001b[39mpi)\n\u001b[1;32m     43\u001b[0m bessel_weights \u001b[38;5;241m=\u001b[39m nn\u001b[38;5;241m.\u001b[39mParameter(bessel_weights)\n\u001b[0;32m---> 45\u001b[0m edge_length_embedding \u001b[38;5;241m=\u001b[39m \u001b[38;5;241m2\u001b[39m\u001b[38;5;241m/\u001b[39mr_max\u001b[38;5;241m*\u001b[39mtorch\u001b[38;5;241m.\u001b[39msin(\u001b[43mbessel_weights\u001b[49m\u001b[43m \u001b[49m\u001b[38;5;241;43m*\u001b[39;49m\u001b[43m \u001b[49m\u001b[43medge_length\u001b[49m\u001b[38;5;241;43m.\u001b[39;49m\u001b[43munsqueeze\u001b[49m\u001b[43m(\u001b[49m\u001b[38;5;241;43m-\u001b[39;49m\u001b[38;5;241;43m1\u001b[39;49m\u001b[43m)\u001b[49m \u001b[38;5;241m/\u001b[39m r_max)\u001b[38;5;241m/\u001b[39medge_length\u001b[38;5;241m.\u001b[39munsqueeze(\u001b[38;5;241m-\u001b[39m\u001b[38;5;241m1\u001b[39m)\n\u001b[1;32m     47\u001b[0m \u001b[38;5;66;03m# cutoff\u001b[39;00m\n\u001b[1;32m     48\u001b[0m factor \u001b[38;5;241m=\u001b[39m \u001b[38;5;241m1\u001b[39m\u001b[38;5;241m/\u001b[39mr_max\n",
      "\u001b[0;31mRuntimeError\u001b[0m: Expected all tensors to be on the same device, but found at least two devices, cuda:0 and cpu!"
     ]
    }
   ],
   "source": [
    "trainer.train()"
   ]
  },
  {
   "cell_type": "code",
   "execution_count": null,
   "id": "3d84c575",
   "metadata": {},
   "outputs": [],
   "source": [
    "model_my_final(data_in)"
   ]
  },
  {
   "cell_type": "code",
   "execution_count": null,
   "id": "76a1b488",
   "metadata": {},
   "outputs": [],
   "source": [
    "trainer.train()"
   ]
  },
  {
   "cell_type": "code",
   "execution_count": null,
   "id": "1164e98c",
   "metadata": {},
   "outputs": [],
   "source": [
    "data_out = model_my_from_param(data)"
   ]
  },
  {
   "cell_type": "code",
   "execution_count": null,
   "id": "5ca2d3e8",
   "metadata": {},
   "outputs": [],
   "source": [
    "data['forces'] = None"
   ]
  },
  {
   "cell_type": "code",
   "execution_count": null,
   "id": "a9d5350c",
   "metadata": {},
   "outputs": [],
   "source": [
    "final_model"
   ]
  },
  {
   "cell_type": "code",
   "execution_count": null,
   "id": "4763debe",
   "metadata": {},
   "outputs": [],
   "source": [
    "# functools partial defines function with some of the arguments already assigned"
   ]
  }
 ],
 "metadata": {
  "kernelspec": {
   "display_name": "torch_mkl",
   "language": "python",
   "name": "torch_mkl"
  },
  "language_info": {
   "codemirror_mode": {
    "name": "ipython",
    "version": 3
   },
   "file_extension": ".py",
   "mimetype": "text/x-python",
   "name": "python",
   "nbconvert_exporter": "python",
   "pygments_lexer": "ipython3",
   "version": "3.10.14"
  }
 },
 "nbformat": 4,
 "nbformat_minor": 5
}
